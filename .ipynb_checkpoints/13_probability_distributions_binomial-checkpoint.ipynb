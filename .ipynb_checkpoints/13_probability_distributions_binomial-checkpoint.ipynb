{
 "cells": [
  {
   "cell_type": "markdown",
   "metadata": {},
   "source": [
    "# ICS 434: DATA SCIENCE FUNDAMENTALS\n",
    "\n",
    "## Probability Distributions\n",
    "## Binomial Distribution\n",
    "---"
   ]
  },
  {
   "cell_type": "code",
   "execution_count": 1,
   "metadata": {
    "slideshow": {
     "slide_type": "skip"
    }
   },
   "outputs": [],
   "source": [
    "from IPython.display import Image\n",
    "\n",
    "import numpy as np\n",
    "from scipy.stats import binom\n",
    "import matplotlib.pyplot as plt\n",
    "import itertools"
   ]
  },
  {
   "cell_type": "code",
   "execution_count": 2,
   "metadata": {
    "slideshow": {
     "slide_type": "slide"
    }
   },
   "outputs": [],
   "source": [
    "import numpy as np\n",
    "from scipy.stats import binom\n",
    "import matplotlib.pyplot as plt\n",
    "import itertools"
   ]
  },
  {
   "cell_type": "markdown",
   "metadata": {
    "slideshow": {
     "slide_type": "slide"
    }
   },
   "source": [
    "### Probability Models\n",
    "\n",
    "* A way to reason about a probabilistic system from various perspectives\n",
    "\n",
    "* E.g., you want to run an ad campaign through an agency. You may be interested in:\n",
    "    * What is the average number of new clients we should expect to see after the ad campaign \n",
    "    * Determine the amount of variability you should expect to see in the system\n",
    "      * How variable is that number? Ex. a value 300-400 is more informative than 100-1,000\n",
    "    * Compute probability of events\n",
    "      * What is the probability of having more than X new clients after a given ad campaign\n",
    "      \n",
    "Note and remember these three components: \n",
    "  * Some summary information about the experiment\n",
    "  * Variability (variance) around that statistic\n",
    "  * Computing probability of certain events"
   ]
  },
  {
   "cell_type": "markdown",
   "metadata": {
    "slideshow": {
     "slide_type": "skip"
    }
   },
   "source": [
    "### Probability Models: Example\n",
    "\n",
    "* E.g., you want to run an ad campaign through an agency and are interested in:\n",
    "    1. Average number of new clients after an ad campaign\n",
    "    2. Variability around that number\n",
    "    3. The probability of having at least X participants.\n",
    "\n",
    "* We can repeat the ad campaign a large number of times and answer each of these questions\n",
    "\n",
    "\n",
    "```python\n",
    "    nb_new_participants = [500, 800, 860, 820, 840, 760, 430,...]\n",
    "```\n"
   ]
  },
  {
   "cell_type": "markdown",
   "metadata": {
    "slideshow": {
     "slide_type": "slide"
    }
   },
   "source": [
    "### Probability Models: Example\n",
    "\n",
    "* We can repeat the ad campaign a large number of times and answer each of these questions\n",
    "\n",
    "\n",
    "```python\n",
    "    nb_new_participants = [500, 800, 860, 820, 840, 760, 430, ...] \n",
    "```\n",
    "\n",
    "1. Average number of new clients after an ad campaign\n",
    "```python\n",
    "np.mean(nb_new_participants)\n",
    "```\n",
    "2. Variability around that number\n",
    "```python\n",
    "np.var(nb_new_participants)\n",
    "```\n",
    "3. The probability of having at least X participants\n",
    "```python\n",
    "    sum(array(nb_new_participants) > X) / len(nb_new_participants)\n",
    "```"
   ]
  },
  {
   "cell_type": "markdown",
   "metadata": {
    "slideshow": {
     "slide_type": "slide"
    }
   },
   "source": [
    "### Probability Models: Example -- Cont'd\n",
    "\n",
    "* The same information is contained in the visualization of the data\n",
    "  * What does every single bar mean? \n",
    "  * How can you get an idea of the `mean`, `variance`, and probability of at least X participants?\n",
    "\n",
    "  <img src=\"https://www.dropbox.com/scl/fi/pisd9d30dhqs5uosnawos/clients_ad_campaign.png?rlkey=rpwezsicf942wb4buv00o40pj&dl=1\" style=\"width:700px\">"
   ]
  },
  {
   "cell_type": "markdown",
   "metadata": {
    "slideshow": {
     "slide_type": "skip"
    }
   },
   "source": [
    "### Probability Distributions\n",
    "\n",
    "* At the heart of probability models are _probability_ _distributions_ and _random_ _variables_\n",
    "\n",
    "* Consider the loaded die with the following probabilities:\n",
    "```\n",
    "    p(1) = 0.3/6\n",
    "    p(2) = 0.7/6\n",
    "    p(3) =   2/6\n",
    "    p(4) = 0.5/6\n",
    "    p(5) = 0.2/6\n",
    "    p(6) = 2.3/6\n",
    "```\n",
    "\n",
    "* We could think of probabilities above as the values returned by the function that takes as input a value in `(1, 2, 3, 4, 5, 6)` and returns the relavant probability from the list `[0.3/6, 0.7/6, 2/6, 0.5/6, 0.2/6, 2.3/6]`\n",
    "\n",
    "* Example:\n",
    "```python\n",
    "    def loaded_die_distribution (face):\n",
    "    try:\n",
    "        dist = {1: 0.3/6, 2: 0.7/6, 3: 2/6, 4: 0.5/6, 5: 0.2/6, 6: 2.3/6}\n",
    "        return dist[face]\n",
    "    except:\n",
    "        raise(\"%s is not a valid die face %d\" % face)\n",
    "```"
   ]
  },
  {
   "cell_type": "markdown",
   "metadata": {
    "slideshow": {
     "slide_type": "skip"
    }
   },
   "source": [
    "### Probability Distributions -- Cont'd\n",
    "\n",
    "* Such a function is called a probability distribution\n",
    "* In essence, a probability distribution is a numerical function that assigns probabilities (y-axis in [0, 1]) to outcomes in the sample space S (x-axis)\n",
    "  * Set of sample space values as _domain_ (numerical or not) \n"
   ]
  },
  {
   "cell_type": "code",
   "execution_count": 3,
   "metadata": {
    "slideshow": {
     "slide_type": "slide"
    }
   },
   "outputs": [],
   "source": [
    "def loaded_die_distribution (face):\n",
    "    try:\n",
    "        dist = {1: 0.3/6, 2: 0.7/6, 3: 2/6, 4: 0.5/6, 5: 0.2/6, 6: 2.3/6}\n",
    "        return dist[face]\n",
    "    except:\n",
    "        raise(\"%s is not a valid die face %d\" % face)"
   ]
  },
  {
   "cell_type": "code",
   "execution_count": 4,
   "metadata": {
    "slideshow": {
     "slide_type": "-"
    }
   },
   "outputs": [
    {
     "data": {
      "image/png": "[encoded data removed]",
      "text/plain": [
       "<Figure size 1000x400 with 1 Axes>"
      ]
     },
     "metadata": {},
     "output_type": "display_data"
    }
   ],
   "source": [
    "sample_space = list(range(1, 7))\n",
    "p_x = [loaded_die_distribution(f) for f in sample_space]\n",
    "\n",
    "plt.figure(figsize=(10, 4))\n",
    "plt.bar(sample_space, p_x)\n",
    "\n",
    "plt.xlabel('Die face obtained')\n",
    "plt.ylabel('probability');"
   ]
  },
  {
   "cell_type": "markdown",
   "metadata": {
    "slideshow": {
     "slide_type": "slide"
    }
   },
   "source": [
    "### Sampling from the Biased Die\n",
    "\n",
    "- Given our probability distribution, we are four times more likely to draw a 3 than we are to draw a 4\n",
    "- To sample die rolls, we need to encode our probability distribution to reflect the bias in our die\n",
    "  - This can be easily done using the `choice()` function in `np.random`\n",
    "\n",
    "```python\n",
    "np.random.choice([1, 2, 3, 4, 5, 6], p=[0.3/6, 0.7/6, 2/6, 0.5/6, 0.2/6, 2.3/6])\n",
    "```"
   ]
  },
  {
   "cell_type": "code",
   "execution_count": 5,
   "metadata": {
    "slideshow": {
     "slide_type": "slide"
    }
   },
   "outputs": [
    {
     "name": "stdout",
     "output_type": "stream",
     "text": [
      "3 6 6 6 6 2 3 3 3 2 6 3 6 4 5 6 3 6 3 6 "
     ]
    }
   ],
   "source": [
    "for _ in range(20):\n",
    "    print (np.random.choice([1, 2, 3, 4, 5, 6], \n",
    "                            p=[0.3/6, 0.7/6, 2/6, 0.5/6, 0.2/6, 2.3/6]\n",
    "                           ), \n",
    "           end= ' ')"
   ]
  },
  {
   "cell_type": "markdown",
   "metadata": {
    "slideshow": {
     "slide_type": "skip"
    }
   },
   "source": [
    "### Random Variables\n",
    "\n",
    "* Using CS thinking, a random variable is merely a variable (a RAM space, or box for a value) that can take values that are variable (random)\n",
    "  * In probabilistic thinking, a random variable is a variable that can take any value from the sample space of the experiment as determined by the probability distribution.\n",
    "    \n",
    "  * I.e., the value assigned to the variable depends on a random process    \n",
    "  ```python\n",
    "      # randomly select a value according to a probability distribution\n",
    "      dieRollVal = np.random.choice([1, 2, 3, 4, 5, 6], p=[0.3/6, 0.7/6, 2/6, 0.5/6, 0.2/6, 2.3/6]);\n",
    "  ```\n"
   ]
  },
  {
   "cell_type": "markdown",
   "metadata": {
    "slideshow": {
     "slide_type": "slide"
    }
   },
   "source": [
    "### Random Variables\n",
    "\n",
    "* Using CS thinking, a random variable is merely a variable that can take values that are variable (random)\n",
    "\n",
    "* In probabilistic thinking, a random variable is a variable that can take any value from the sample space of the experiment as determined by the probability distribution\n",
    "\n",
    "  * The value assigned to the variable depends on a random process    \n",
    "  \n",
    "  ```python\n",
    "      # randomly select a value according to a probability distribution\n",
    "      dieRollVal = np.random.choice([1, 2, 3, 4, 5, 6], p=[0.3/6, 0.7/6, 2/6, 0.5/6, 0.2/6, 2.3/6]);\n",
    "  ```\n",
    "  \n",
    "* Formally, a random variable is a function from the sample space of an experiment to the set of real numbers. That is, a random variable assigns a real number to each possible outcome."
   ]
  },
  {
   "cell_type": "markdown",
   "metadata": {
    "slideshow": {
     "slide_type": "slide"
    }
   },
   "source": [
    "### Random Variables -- Cont'd\n",
    "\n",
    "* In a non-probabilistic program, you can trace the value contained in a variable\n",
    "\n",
    "* In a probabilistic program, you cannot since the value is determined probabilistically\n",
    "  * We don't know what that variable will contain prior to executing the code\n",
    "  * We can however reason about what the value will most likely contain"
   ]
  },
  {
   "cell_type": "markdown",
   "metadata": {
    "slideshow": {
     "slide_type": "slide"
    }
   },
   "source": [
    "* Take for instance the variable `roll_random_var` in the code below:\n",
    "\n",
    "```python\n",
    "for i in range(10):\n",
    "    roll_random_var = np.random.choice([1, 2, 3, 4, 5, 6], \n",
    "                                       p=[0.3/6, 0.7/6, 2/6, 0.5/6, 0.4/6, 2.1/6])\n",
    "    print (f\"roll_random_var contains the value {roll_random_var}\")\n",
    "```\n",
    "\n",
    "* The variable `roll_random_var` is a _random_ _variable_\n",
    "  * The values assigned to it are determined probabilistically using a probability distribution of the biased die\n",
    " "
   ]
  },
  {
   "cell_type": "code",
   "execution_count": 6,
   "metadata": {
    "slideshow": {
     "slide_type": "slide"
    }
   },
   "outputs": [
    {
     "name": "stdout",
     "output_type": "stream",
     "text": [
      "roll_random_var contains the value 1\n",
      "roll_random_var contains the value 6\n",
      "roll_random_var contains the value 3\n"
     ]
    }
   ],
   "source": [
    "for i in range(3):\n",
    "    roll_random_var = np.random.choice([1, 2, 3, 4, 5, 6], \n",
    "                                       p=[0.3/6, 0.7/6, 2/6, 0.5/6, 0.4/6, 2.1/6])\n",
    "    print (\"roll_random_var contains the value %s\" % roll_random_var)"
   ]
  },
  {
   "cell_type": "code",
   "execution_count": 7,
   "metadata": {
    "slideshow": {
     "slide_type": "slide"
    }
   },
   "outputs": [
    {
     "name": "stdout",
     "output_type": "stream",
     "text": [
      "{1: 486, 2: 1104, 3: 3314, 4: 840, 5: 682, 6: 3574}\n"
     ]
    },
    {
     "data": {
      "image/png": "[encoded data removed]",
      "text/plain": [
       "<Figure size 1200x400 with 1 Axes>"
      ]
     },
     "metadata": {},
     "output_type": "display_data"
    }
   ],
   "source": [
    "from collections import Counter\n",
    "\n",
    "roll_random_var_list = []\n",
    "for i in range(10000):\n",
    "    roll_random_var = np.random.choice([1, 2, 3, 4, 5, 6], \n",
    "                                       p=[0.3/6, 0.7/6, 2/6, 0.5/6, 0.4/6, 2.1/6])\n",
    "    roll_random_var_list.append(roll_random_var)\n",
    "\n",
    "counts = Counter(roll_random_var_list)\n",
    "\n",
    "sorted_counts = dict(sorted(counts.items()))\n",
    "print(sorted_counts)\n",
    "\n",
    "plt.figure(figsize=(12, 4))\n",
    "_ = plt.bar(sorted_counts.keys(), sorted_counts.values())"
   ]
  },
  {
   "cell_type": "code",
   "execution_count": 8,
   "metadata": {
    "slideshow": {
     "slide_type": "skip"
    }
   },
   "outputs": [
    {
     "name": "stdout",
     "output_type": "stream",
     "text": [
      "{1: 528, 2: 1106, 3: 3364, 4: 839, 5: 646, 6: 3517}\n"
     ]
    },
    {
     "data": {
      "image/png": "[encoded data removed]",
      "text/plain": [
       "<Figure size 1200x400 with 1 Axes>"
      ]
     },
     "metadata": {},
     "output_type": "display_data"
    }
   ],
   "source": [
    "from collections import Counter\n",
    "\n",
    "roll_random_var_list = np.random.choice([1, 2, 3, 4, 5, 6], size=10000,\n",
    "                                        p=[0.3/6, 0.7/6, 2/6, 0.5/6, 0.4/6, 2.1/6])\n",
    "\n",
    "counts = Counter(roll_random_var_list)\n",
    "\n",
    "sorted_counts = dict(sorted(counts.items()))\n",
    "print(sorted_counts)\n",
    "\n",
    "plt.figure(figsize=(12, 4))\n",
    "_ = plt.bar(sorted_counts.keys(), sorted_counts.values())"
   ]
  },
  {
   "cell_type": "markdown",
   "metadata": {
    "slideshow": {
     "slide_type": "skip"
    }
   },
   "source": [
    "### Two Types of Random Variables\n",
    "\n",
    "  * Discrete (finite or countably infinite)\n",
    "     * Take as input finite countably finite integer values and return probabilities for those events\n",
    "     * Ex. Number of accidents on H1 on any given day, number of customers at lunchtime at Starbucks on campus, number of siblings a student at UH has, etc.\n",
    "     \n",
    "  * Continuous (uncountably infinite)\n",
    "     * Take as input uncountably infinite float value and returns a probability density\n",
    "     * Ex. Height, weight, time, etc..\n",
    "       * The sample space is infinite."
   ]
  },
  {
   "cell_type": "markdown",
   "metadata": {
    "slideshow": {
     "slide_type": "skip"
    }
   },
   "source": [
    "### Two Types of Random Variables \n",
    "\n",
    "\n",
    "* Discrete and continuous random variables have commonly occurring distributions\n",
    "  * These distributions are simply functions -- just like the one encoded above -- that give the \"probability\" for each element in the sample space\n",
    "\n",
    "* Perhaps two of the most popular distributions are the binomial and the normal (or Gaussian)\n",
    "\n"
   ]
  },
  {
   "cell_type": "markdown",
   "metadata": {
    "slideshow": {
     "slide_type": "slide"
    }
   },
   "source": [
    "### Random Variables -- Cont'd\n",
    "\n",
    "\n",
    "* Random variables have commonly occurring distributions\n",
    "  * These distributions are simply functions - just like the one encoded above - that give the \"probability\" for each element in the sample space\n",
    "\n",
    "* Perhaps two of the most popular distributions are the Binomial and the Normal (or Gaussian) distribution"
   ]
  },
  {
   "cell_type": "markdown",
   "metadata": {
    "slideshow": {
     "slide_type": "slide"
    }
   },
   "source": [
    "### The Binomial Distribution (The `\"Hello World\"` Probability Distribution)\n",
    "\n",
    "* A binomial distribution is simply the probability of number of SUCCESS outcomes in an experiment that is repeated multiple times. \n",
    "  * $m$ successes in an experiment of $n$ fixed, independent trials.\n",
    "\n",
    "* Each trial has a probability of success $p$ and a probability of failure $1-p$ (heads and tails; 0 and 1; etc.).\n"
   ]
  },
  {
   "cell_type": "markdown",
   "metadata": {
    "slideshow": {
     "slide_type": "slide"
    }
   },
   "source": [
    "\n",
    "###  Examples of the Binomial Distribution\n",
    "\n",
    "- You flip a fair coin 100 times. What is the probability of observing 27 heads?\n",
    "\n",
    "- Given an ad clickthrough probability of $p=0.6$, what is the probability of having 100 clicks if we show the add 1,000 times?\n",
    "\n",
    "- Given a disease prevalence of $p=0.05$, what is the probability of observing the disease in at least 100 individuals if we survey 5,000 randomly selected individuals from the population? \n",
    "\n",
    "\n",
    "- What are $p$, $n$ and $m$ in each of these experiments?"
   ]
  },
  {
   "cell_type": "markdown",
   "metadata": {
    "slideshow": {
     "slide_type": "slide"
    }
   },
   "source": [
    "### Simple Probability Distribution\n",
    "\n",
    "* Let $X$ be the random variable representing the number of heads obtained from flipping a fair coin 5 times.  \n",
    "\n",
    "* What is the sample space of this experiment? \n",
    "\n",
    "  - This amounts to computing the Cartesian product $[H,T]^5$, or $[H,T] \\times [H,T] \\times [H,T] \\times [H,T] \\times [H,T]$\n"
   ]
  },
  {
   "cell_type": "code",
   "execution_count": 9,
   "metadata": {
    "slideshow": {
     "slide_type": "slide"
    }
   },
   "outputs": [
    {
     "name": "stdout",
     "output_type": "stream",
     "text": [
      "('H', 'H')\n",
      "('H', 'T')\n",
      "('T', 'H')\n",
      "('T', 'T')\n"
     ]
    }
   ],
   "source": [
    "for p in itertools.product(['H', 'T'], repeat=2):\n",
    "    print(p)"
   ]
  },
  {
   "cell_type": "code",
   "execution_count": 10,
   "metadata": {
    "slideshow": {
     "slide_type": "slide"
    }
   },
   "outputs": [
    {
     "name": "stdout",
     "output_type": "stream",
     "text": [
      "Sample space is of size 32 \n",
      "The sample space is:\n",
      "\n",
      "HHHHH HHHHT HHHTH HHHTT HHTHH HHTHT HHTTH HHTTT HTHHH HTHHT HTHTH HTHTT HTTHH HTTHT HTTTH HTTTT THHHH THHHT THHTH THHTT THTHH THTHT THTTH THTTT TTHHH TTHHT TTHTH TTHTT TTTHH TTTHT TTTTH TTTTT "
     ]
    }
   ],
   "source": [
    "product = list(itertools.product(['H', 'T'], repeat=5))\n",
    "\n",
    "print(\"Sample space is of size %s \" % len(product))\n",
    "print (\"The sample space is:\\n\")\n",
    "for prod in product:    \n",
    "    print(\"\".join(prod), end=\" \")\n"
   ]
  },
  {
   "cell_type": "markdown",
   "metadata": {
    "slideshow": {
     "slide_type": "skip"
    }
   },
   "source": [
    "### Manually Deriving the Probability Distribution\n",
    "\n",
    "* We are interested in the probability distribution of obtaining `X` heads in 5 coin flips\n",
    "  * _Binomial_ distribution with n=5 and $p=0.5$\n",
    "\n",
    "- Our sample space is [0, 1, 2, 3, 4, 5]\n",
    "\n",
    "- There are $2^5 = 32$ outcomes.\n",
    "\n"
   ]
  },
  {
   "cell_type": "markdown",
   "metadata": {
    "slideshow": {
     "slide_type": "slide"
    }
   },
   "source": [
    "### Manually Deriving the Probability Distribution\n",
    "\n",
    "* We are interested in the probability distribution of obtaining `X` heads in 5 coin flips\n",
    "  * _Binomial_ distribution with $n=5$ and $p=0.5$\n",
    "\n",
    "- Possible values of `X`: 0, 1, 2, 3, 4, 5\n",
    "\n",
    "- There are $2^5 = 32$ outcomes\n"
   ]
  },
  {
   "cell_type": "markdown",
   "metadata": {
    "slideshow": {
     "slide_type": "slide"
    }
   },
   "source": [
    "### Manually Deriving the Probability Distribution -- Cont'd\n",
    "\n",
    "  * There is 1 way of obtaining 0 heads: TTTTT <br/>\n",
    "     $p(X=0) = 1/32$\n",
    "     \n",
    "  * There 5 ways of obtaining 1 head: HTTTT, THTTT, TTHTT, TTTHT, TTTTH.  <br/>\n",
    "     $p(X=1) = 5/32$\n",
    "     \n",
    "  * Similarly, there are 10 ways of obtaining 2 heads: HHTTT, HTHTT, HTTHT, HTTTH, …, TTTHH <br/>\n",
    "     $p(X=2) = 10/32$\n",
    "     \n",
    "  * ...\n"
   ]
  },
  {
   "cell_type": "markdown",
   "metadata": {
    "slideshow": {
     "slide_type": "slide"
    }
   },
   "source": [
    "### Manually Deriving the Probability Distribution -- Cont'd\n",
    "\n",
    "* In general, the number of ways we can obtain $m$ heads from $n$ flips is given by the binomial cofficient ${n}\\choose{m}$ (read as $n$ choose $m$), which is given by:\n",
    "\n",
    "$$\n",
    "{{n}\\choose{m}} = \\frac{n!}{m!(n-m)!}\n",
    "$$\n",
    "\n",
    "E.g.: the for $n=5$ and $m=2$, we have\n",
    "\n",
    "\\begin{equation} \n",
    "\\begin{split}\n",
    "{{5}\\choose{2}} & = \\frac{5!}{2!(5-2)!} \\\\\n",
    "                & = \\frac{5\\times4\\times3\\times2 \\times 1}{2 \\times 1 \\times 3 \\times 2 \\times 1} \\\\\n",
    "                & = \\frac{5 \\times 4}{2 \\times 1} \\\\\n",
    "                & = 10 \n",
    "\\end{split}\n",
    "\\end{equation}\n"
   ]
  },
  {
   "cell_type": "code",
   "execution_count": 11,
   "metadata": {
    "slideshow": {
     "slide_type": "slide"
    }
   },
   "outputs": [
    {
     "data": {
      "image/png": "[encoded data removed]",
      "text/plain": [
       "<Figure size 1000x400 with 1 Axes>"
      ]
     },
     "metadata": {},
     "output_type": "display_data"
    }
   ],
   "source": [
    "X = [0, 1, 2, 3, 4, 5]\n",
    "p_x = [1.0/32, 5.0/32, 10.0/32, 10.0/32, 5.0/32, 1.0/32]\n",
    "\n",
    "plt.figure(figsize=(10, 4))\n",
    "plt.bar(X, p_x, color=\"#3498db\")\n",
    "plt.xlabel('Number of heads in five coin flips')\n",
    "plt.ylabel('Probability');"
   ]
  },
  {
   "cell_type": "markdown",
   "metadata": {
    "slideshow": {
     "slide_type": "slide"
    }
   },
   "source": [
    "### Binomial with Biased Coin\n",
    "\n",
    "- What if the coin is biased? For example, $p(H) = 0.7$ and $p(T) = 0.3$.\n",
    "\n",
    "- What is the probability of obtaining 1 head in 5 coin flips with this biased coin?\n",
    "  "
   ]
  },
  {
   "cell_type": "markdown",
   "metadata": {
    "slideshow": {
     "slide_type": "slide"
    }
   },
   "source": [
    "### Bernoulli Distribution\n",
    "\n",
    "\n",
    "- Recall from elementary statistics and discrete math the Bernoulli distribution, which states that:\n",
    "\n",
    "$$\n",
    " Pr(k;p)=p^{k}(1-p)^{1-k}\\quad {\\text{for }}k\\in \\{0,1\\}\n",
    "$$\n",
    "\n",
    "\n",
    "* $k=1$ is head,  $1- k=0$ is tail, and $p$ is the probability of head\n",
    "\n",
    "* Based on the Bernoulli euqation above, the probability of obtaining a head ($k=1$) is: \n",
    "$$Pr(1; p) = p^1 \\times (1-p)^0 = p$$\n",
    "\n",
    "  and the probability of obtaining a tail ($k=0$ and $1-k = 1$) is:\n",
    "\n",
    "$$Pr(0; p) = p^k \\times (1-p)^{1-k} = p^0 \\times (1-p)^1 = 1-p$$ \n",
    "\n",
    "* This matches our intuition about the probability of a coin landing head\n"
   ]
  },
  {
   "cell_type": "markdown",
   "metadata": {
    "slideshow": {
     "slide_type": "slide"
    }
   },
   "source": [
    "### Binomial with Biased Coin -- Cont'd\n",
    "\n",
    "- What if coin is biased? For example, $p(H) = 0.7$ and $p(T) = 0.3$.\n",
    "\n",
    "- What is the probability of obtaining 1 head in 5 coin flips with this biased coin?\n",
    "  \n",
    "  \n",
    "$$\n",
    "p(X=1) ={{5}\\choose{1}}~~~p(H)^1 \\times p(T)^4   \n",
    "$$\n",
    "\n",
    "* The five possible ways to obtain a 1 head and 4 tails: HTTTT, THTTT, TTHTT, TTTHT, TTTTH\n",
    "\n",
    "$$\n",
    "p(X=1) = 5  \\times 0.7 \\times 0.3^4 = 0.02835\n",
    "$$\n"
   ]
  },
  {
   "cell_type": "markdown",
   "metadata": {
    "slideshow": {
     "slide_type": "skip"
    }
   },
   "source": [
    "\n",
    "### The Binomial Distribution -- Cont'd\n",
    "\n",
    "* The equation above can be generalized to any number of trials $n$ and any probability of heads $p(H)$\n",
    "\n",
    "* We will write $p(H)$ as $p$ and $p(T)$ as $(1-p)$\n",
    "  \n",
    "    $p(X=m) ={{n}\\choose{m}} p^m \\times (1-p)^{n-m}$\n",
    "\n",
    "* This equation is the probability function for a random variable `X` distributed according to a binomial distribution\n",
    "\n",
    "  * Think of it as a convenient function to assign probabilities to any value in the sample space\n"
   ]
  },
  {
   "cell_type": "markdown",
   "metadata": {
    "slideshow": {
     "slide_type": "slide"
    }
   },
   "source": [
    "\n",
    "### The Binomial Distribution -- Cont'd\n",
    "\n",
    "* The equation above can be generalized to any number of trials $n$ and any probability of heads $p(H)$\n",
    "\n",
    "* We will write $p(H)$ as $p$ and $p(T)$ as $(1-p)$\n",
    "  \n",
    "    $p(X=m) ={{n}\\choose{m}} p^m \\times (1-p)^{n-m}$\n",
    "\n",
    "* This equation is the probability function for a random variable `X` distributed according to a binomial distribution\n",
    "\n",
    "  * Think of it as a convenient function to assign probabilities to any value of the random variable\n"
   ]
  },
  {
   "cell_type": "markdown",
   "metadata": {
    "slideshow": {
     "slide_type": "skip"
    }
   },
   "source": [
    "### The Binomial Distribution -- Cont'd\n",
    "\n",
    "- We can easily model (reason about) a problem that fits the binomial since we have access to the distribution\n",
    "\n",
    "  * E.g., assume the probability of subscribing to a monthly plan in your app is  $p=0.05$. \n",
    "  * If, on average, 10k users download your app each month, how many (on average) subscribed users will you have after 1 year?\n",
    "  * What is the probability of having at least 3,000 users\n",
    "  * You can use this simple model to derive various valuable insights about your app\n",
    "  * E.g., total revenue after one year, the number of servers you will need to support your user base, the number of customer service employees to support your clientele, etc.\n",
    "\n",
    "\n",
    "* Once we know the parameter of the distribution (e.g., here p=0.05), it's easy to answer the questions above\n",
    "  * This may be trivial in some cases and challenging in others\n",
    "  * How did we get the $p=0.05$? How sure are we of that value? How likely is it to be $p=0.06$ instead?\n"
   ]
  },
  {
   "cell_type": "markdown",
   "metadata": {
    "slideshow": {
     "slide_type": "slide"
    }
   },
   "source": [
    "### The Binomial Distribution -- Cont'd\n",
    "\n",
    "- We can easily model (reason about) a problem that fits the binomial since we have access to the distribution\n",
    "\n",
    "  * E.g., assume the probability of subscribing to a monthly plan in your app is  $p=0.05$. \n",
    "    * If, on average, 10k users download your app each month, how many (on average) subscribed users will you have after 1 year?\n",
    "    \n",
    "  * You can use this simple model to derive various valuable insights about your app\n",
    "    * E.g., total revenue after one year, the number of servers you will need to support your user base, the number of customer service employees to support your clientele, etc.\n",
    "\n",
    "\n",
    "* Once we know the parameter of the distribution (e.g., here $p=0.05$), we can answer the questions above\n",
    "  * This may be trivial in some cases and challenging in others\n",
    "  * How did we get the $p=0.05$? How sure are we of that value? How likely is it to be $p=0.06$ instead?\n"
   ]
  },
  {
   "cell_type": "markdown",
   "metadata": {
    "slideshow": {
     "slide_type": "skip"
    }
   },
   "source": [
    "### Probability Distributions for Discrete Random Variables\n",
    "\n",
    "- A probability distribution for a discrete random variable is called probability mass function (__pmf__) \n",
    "\n",
    "  - `pmf`s take a discrete random variable $X$ and assign a probability to each value of its sample space\n",
    "\n",
    "- A probability distribution can be derived from first principles for many other canonical distributions\n",
    "\n",
    "- These functions allow us to compute probabilities for events seamlessly\n",
    "\n",
    "  - A byproduct is that we can also derive expected values, probabilities for subspace, use them to sample from that distribution, etc."
   ]
  },
  {
   "cell_type": "markdown",
   "metadata": {
    "slideshow": {
     "slide_type": "slide"
    }
   },
   "source": [
    "### Probability Distributions for Discrete Random Variables\n",
    "\n",
    "- A probability distribution for a discrete random variable is called probability mass function (__pmf__) \n",
    "\n",
    "  - `pmf`s take a discrete random variable $X$ and assign a probability to each value of its sample space\n",
    "\n",
    "- These functions allow us to compute probabilities for events seamlessly\n",
    "\n",
    "  - A byproduct is that we can also derive expected values, probabilities for subspace, use them to sample from that distribution, etc."
   ]
  },
  {
   "cell_type": "markdown",
   "metadata": {
    "collapsed": true,
    "jupyter": {
     "outputs_hidden": true
    },
    "slideshow": {
     "slide_type": "slide"
    }
   },
   "source": [
    "### `pmf` in Python\n",
    "\n",
    "- Programming languages and data analysis software commonly support popular PMFs\n",
    "\n",
    "- The common graphical representation for a `pmf` is a histogram\n",
    "\n",
    "- The x-axis contains observed values \n",
    "\n",
    "- The y-axis shows the probability for the corresponding x values\n"
   ]
  },
  {
   "cell_type": "code",
   "execution_count": 12,
   "metadata": {
    "slideshow": {
     "slide_type": "slide"
    }
   },
   "outputs": [
    {
     "data": {
      "text/plain": [
       "0.02834999999999999"
      ]
     },
     "execution_count": 12,
     "metadata": {},
     "output_type": "execute_result"
    }
   ],
   "source": [
    "from scipy.stats import binom\n",
    "\n",
    "n = 5 \n",
    "p = 0.7\n",
    "binom.pmf(1, n, p)"
   ]
  },
  {
   "cell_type": "code",
   "execution_count": 13,
   "metadata": {
    "slideshow": {
     "slide_type": "slide"
    }
   },
   "outputs": [
    {
     "name": "stdout",
     "output_type": "stream",
     "text": [
      "0.9999999999999998\n"
     ]
    },
    {
     "data": {
      "image/png": "[encoded data removed]",
      "text/plain": [
       "<Figure size 1000x400 with 1 Axes>"
      ]
     },
     "metadata": {},
     "output_type": "display_data"
    }
   ],
   "source": [
    "x = range(n + 1)\n",
    "p_x = [binom.pmf(val, n, p) for val in x]\n",
    "print(sum(p_x))\n",
    "\n",
    "plt.figure(figsize=(10, 4))\n",
    "plt.bar(x, p_x)\n",
    "plt.xlabel(\"Number of Successes\")\n",
    "plt.ylabel(\"Probility\");"
   ]
  },
  {
   "cell_type": "markdown",
   "metadata": {
    "slideshow": {
     "slide_type": "slide"
    }
   },
   "source": [
    "### Example\n",
    "- Given a biased coin that comes up heads with a probability ($p=0.4$) \n",
    "- If you flip the coin 100 times, what is the probability of observing 42 heads?"
   ]
  },
  {
   "cell_type": "code",
   "execution_count": 14,
   "metadata": {
    "slideshow": {
     "slide_type": "-"
    }
   },
   "outputs": [
    {
     "name": "stdout",
     "output_type": "stream",
     "text": [
      "0.07420719403438271\n"
     ]
    }
   ],
   "source": [
    "from scipy.stats import binom\n",
    "\n",
    "n = 100 \n",
    "p = 0.4\n",
    "print(binom.pmf(42, n, p))"
   ]
  },
  {
   "cell_type": "code",
   "execution_count": 15,
   "metadata": {
    "scrolled": true,
    "slideshow": {
     "slide_type": "slide"
    }
   },
   "outputs": [
    {
     "data": {
      "image/png": "[encoded data removed]",
      "text/plain": [
       "<Figure size 1000x400 with 1 Axes>"
      ]
     },
     "metadata": {},
     "output_type": "display_data"
    }
   ],
   "source": [
    "n = 100 \n",
    "p = 0.4\n",
    "\n",
    "x = range(n + 1)  # our x-axis\n",
    "p_x = [binom.pmf(val, n, p) for val in x]  # our y-axis\n",
    "\n",
    "plt.figure(figsize=(10, 4))\n",
    "plt.bar(x, p_x, color=\"#3498db\", alpha=0.5)\n",
    "\n",
    "# Add the horizontal and vertical bars\n",
    "x_val = 42\n",
    "y_val = binom.pmf(42, n, p)\n",
    "\n",
    "plt.axvline(x_val, color='r', alpha=0.5)\n",
    "plt.axhline(y_val, color='r', alpha=0.5)\n",
    "plt.xlabel('Number of heads in five coin flips')\n",
    "_ = plt.ylabel('Probability')"
   ]
  },
  {
   "cell_type": "code",
   "execution_count": 16,
   "metadata": {
    "slideshow": {
     "slide_type": "slide"
    }
   },
   "outputs": [
    {
     "data": {
      "image/png": "[encoded data removed]",
      "text/plain": [
       "<Figure size 1000x400 with 1 Axes>"
      ]
     },
     "metadata": {},
     "output_type": "display_data"
    }
   ],
   "source": [
    "n = 100 \n",
    "p = 0.7\n",
    "x = range(n)\n",
    "\n",
    "p_x = [binom.pmf(val, n, p) for val in x]\n",
    "\n",
    "plt.figure(figsize=(10, 4))\n",
    "plt.bar(x, p_x, color=\"#3498db\")\n",
    "plt.xlabel('Number of heads in five coin flips')\n",
    "_ = plt.ylabel('Probability')"
   ]
  },
  {
   "cell_type": "markdown",
   "metadata": {
    "slideshow": {
     "slide_type": "slide"
    }
   },
   "source": [
    "### Comparing Distributions\n",
    "\n",
    "* From the two previous examples, it can be seen that the two distributions differ\n",
    "  * For example, the probability of seeing  `x = 60` is different  between the two distributions\n",
    "  <img src=\"images/two-distributions.png\" style=\"width=500px\">\n",
    "  \n",
    "* Binomial distributions parameterized with different values of $n$ and $p$ will produce different `pmf`s\n",
    " \n",
    "* Therefore, it is important to describe a PMF's parameters when describing it\n",
    "  * Modifying these parameters results in a different probability distribution"
   ]
  },
  {
   "cell_type": "code",
   "execution_count": 17,
   "metadata": {
    "slideshow": {
     "slide_type": "skip"
    }
   },
   "outputs": [
    {
     "data": {
      "text/plain": [
       "Text(0, 0.5, 'Probability')"
      ]
     },
     "execution_count": 17,
     "metadata": {},
     "output_type": "execute_result"
    },
    {
     "data": {
      "image/png": "[encoded data removed]",
      "text/plain": [
       "<Figure size 1000x400 with 1 Axes>"
      ]
     },
     "metadata": {},
     "output_type": "display_data"
    }
   ],
   "source": [
    "n = 100 \n",
    "p = 0.4\n",
    "x = range(n + 1) # our x-axis\n",
    "p_x = [binom.pmf(val, n, p) for val in x]  # our y-axis\n",
    "plt.figure(figsize=(10, 4))\n",
    "plt.bar(x, p_x, color=\"#3498db\", alpha=0.6, label=\"$p=0.4$\")\n",
    "\n",
    "p = 0.7\n",
    "p_x =  [binom.pmf(val, n, p) for val in x]  # our y-axis\n",
    "plt.bar(x, p_x, color=\"#e6b8af\", alpha=0.6, label=\"$p=0.7$\")\n",
    "plt.legend()\n",
    "plt.xlabel(\"Nb successes in 100 trials\")\n",
    "plt.ylabel(\"Probability\")\n",
    "# plt.savefig('two-distributions.png')"
   ]
  },
  {
   "cell_type": "markdown",
   "metadata": {
    "slideshow": {
     "slide_type": "slide"
    }
   },
   "source": [
    "### Binomial Distribution Summary: `X`, `n`, `p` and the `pmf` \n",
    "\n",
    "- The number of observed successes is said to be a random variable $X$,  distributed as a binomial distribution\n",
    "\n",
    "- We write the above statement as: \n",
    "$$ \n",
    "X \\sim Binomial(n,p)\n",
    "$$\n",
    "\n",
    "- This simply means that: \n",
    "\n",
    "  - The random variable $X$ takes on values in the sample space describes as a binomial distribution\n",
    "    - The sample space here is countably finite and range from $0$ to $n$\n",
    "  - The parameters of the binomial probability distributions are $n$ and $p$"
   ]
  }
 ],
 "metadata": {
  "celltoolbar": "Slideshow",
  "kernelspec": {
   "display_name": "Python 3 (ipykernel)",
   "language": "python",
   "name": "python3"
  },
  "language_info": {
   "codemirror_mode": {
    "name": "ipython",
    "version": 3
   },
   "file_extension": ".py",
   "mimetype": "text/x-python",
   "name": "python",
   "nbconvert_exporter": "python",
   "pygments_lexer": "ipython3",
   "version": "3.8.11"
  }
 },
 "nbformat": 4,
 "nbformat_minor": 4
}
