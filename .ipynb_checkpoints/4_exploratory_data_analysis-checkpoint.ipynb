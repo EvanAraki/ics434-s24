{
 "cells": [
  {
   "cell_type": "markdown",
   "metadata": {
    "colab_type": "text",
    "id": "HOM84FzyZ8RG",
    "slideshow": {
     "slide_type": "slide"
    }
   },
   "source": [
    "# ICS 434: DATA SCIENCE FUNDAMENTALS\n",
    "\n",
    "## Exploring Data Analysis\n",
    "\n",
    "---"
   ]
  },
  {
   "cell_type": "code",
   "execution_count": 2,
   "metadata": {
    "colab": {},
    "colab_type": "code",
    "id": "8qLC2OZbAfhe",
    "slideshow": {
     "slide_type": "skip"
    }
   },
   "outputs": [],
   "source": [
    "# Bundle all imports in the first cell of a Notebook\n",
    "import pandas as pd\n"
   ]
  },
  {
   "cell_type": "markdown",
   "metadata": {
    "slideshow": {
     "slide_type": "slide"
    }
   },
   "source": [
    "### Reading a File in Pandas\n",
    "\n",
    "* Support for a variety of filetypes\n",
    "* Support for a plethora of file sources:\n",
    "    * File system or buffer\n",
    "    * URL: http, ftp, s3, gs, and file (file://localhost/...)\n",
    "\n",
    "* Various options to change default behavior. E.g.: \n",
    "  * Include or ignore the header\n",
    "  * Specify a desired separator \n",
    "  * Add or modify column names,\n",
    "  * Specify the data types,\n",
    "  * Specify the column to index on.\n",
    "  * etc.\n",
    "* See documentation for more details https://pandas.pydata.org/docs/reference/api/pandas.read_csv.html\n",
    "        "
   ]
  },
  {
   "cell_type": "code",
   "execution_count": 5,
   "metadata": {
    "colab": {},
    "colab_type": "code",
    "id": "7M6A85qTIW1M",
    "slideshow": {
     "slide_type": "slide"
    }
   },
   "outputs": [
    {
     "data": {
      "text/html": [
       "<div>\n",
       "<style scoped>\n",
       "    .dataframe tbody tr th:only-of-type {\n",
       "        vertical-align: middle;\n",
       "    }\n",
       "\n",
       "    .dataframe tbody tr th {\n",
       "        vertical-align: top;\n",
       "    }\n",
       "\n",
       "    .dataframe thead th {\n",
       "        text-align: right;\n",
       "    }\n",
       "</style>\n",
       "<table border=\"1\" class=\"dataframe\">\n",
       "  <thead>\n",
       "    <tr style=\"text-align: right;\">\n",
       "      <th></th>\n",
       "      <th>doctor_id</th>\n",
       "      <th>specialty</th>\n",
       "      <th>medication</th>\n",
       "      <th>nb_beneficiaries</th>\n",
       "      <th>spending</th>\n",
       "    </tr>\n",
       "    <tr>\n",
       "      <th>unique_id</th>\n",
       "      <th></th>\n",
       "      <th></th>\n",
       "      <th></th>\n",
       "      <th></th>\n",
       "      <th></th>\n",
       "    </tr>\n",
       "  </thead>\n",
       "  <tbody>\n",
       "    <tr>\n",
       "      <th>NX531425</th>\n",
       "      <td>1255626040</td>\n",
       "      <td>FAMILY PRACTICE</td>\n",
       "      <td>METFORMIN HCL</td>\n",
       "      <td>30</td>\n",
       "      <td>135.24</td>\n",
       "    </tr>\n",
       "    <tr>\n",
       "      <th>QG879256</th>\n",
       "      <td>1699761833</td>\n",
       "      <td>FAMILY PRACTICE</td>\n",
       "      <td>ALLOPURINOL</td>\n",
       "      <td>30</td>\n",
       "      <td>715.76</td>\n",
       "    </tr>\n",
       "    <tr>\n",
       "      <th>FW363228</th>\n",
       "      <td>1538148804</td>\n",
       "      <td>INTERNAL MEDICINE</td>\n",
       "      <td>LOSARTAN POTASSIUM</td>\n",
       "      <td>146</td>\n",
       "      <td>1056.47</td>\n",
       "    </tr>\n",
       "    <tr>\n",
       "      <th>WD733417</th>\n",
       "      <td>1730200619</td>\n",
       "      <td>PSYCHIATRY</td>\n",
       "      <td>OLANZAPINE</td>\n",
       "      <td>13</td>\n",
       "      <td>28226.97</td>\n",
       "    </tr>\n",
       "    <tr>\n",
       "      <th>XW149832</th>\n",
       "      <td>1023116894</td>\n",
       "      <td>FAMILY PRACTICE</td>\n",
       "      <td>PRAVASTATIN SODIUM</td>\n",
       "      <td>348</td>\n",
       "      <td>8199.48</td>\n",
       "    </tr>\n",
       "  </tbody>\n",
       "</table>\n",
       "</div>"
      ],
      "text/plain": [
       "            doctor_id          specialty          medication   \n",
       "unique_id                                                      \n",
       "NX531425   1255626040    FAMILY PRACTICE       METFORMIN HCL  \\\n",
       "QG879256   1699761833    FAMILY PRACTICE         ALLOPURINOL   \n",
       "FW363228   1538148804  INTERNAL MEDICINE  LOSARTAN POTASSIUM   \n",
       "WD733417   1730200619         PSYCHIATRY          OLANZAPINE   \n",
       "XW149832   1023116894    FAMILY PRACTICE  PRAVASTATIN SODIUM   \n",
       "\n",
       "           nb_beneficiaries  spending  \n",
       "unique_id                              \n",
       "NX531425                 30    135.24  \n",
       "QG879256                 30    715.76  \n",
       "FW363228                146   1056.47  \n",
       "WD733417                 13  28226.97  \n",
       "XW149832                348   8199.48  "
      ]
     },
     "execution_count": 5,
     "metadata": {},
     "output_type": "execute_result"
    }
   ],
   "source": [
    "spending_df = pd.read_csv(\"data/spending_10k.csv\", index_col='unique_id')\n",
    "spending_df.head()"
   ]
  },
  {
   "cell_type": "markdown",
   "metadata": {
    "colab_type": "text",
    "id": "j3ggq3qsgUaE",
    "slideshow": {
     "slide_type": "slide"
    }
   },
   "source": [
    "### Exploring Your Data\n",
    "\n",
    "* Data analysis begins with exploring the data.\n",
    "Various levels of data exploration can be performed. E.g.:\n",
    "  * How many records are there? (high-level view of the data)\n",
    "  * How many columns are there? (high-level view of the data)\n",
    "  * What is a column's average and standard deviation? (intermediate-level view of the data)\n",
    "  * What are the number of unique values in a column? (intermediate-level view of the data)\n",
    "    * How many of each are there? \n",
    "  * What are the distributions of the data in various columns? (low-level view of the data)\n",
    "  * etc.\n",
    "  \n",
    "* We will explore functions to cover interesting use cases."
   ]
  },
  {
   "cell_type": "markdown",
   "metadata": {
    "slideshow": {
     "slide_type": "slide"
    }
   },
   "source": [
    "### Pandas Functionality\n",
    "\n",
    "* `DataFrames` have a number of useful features implemented as:\n",
    "  * Attributes that pertain to features (constants of the data)\n",
    "    * Number of rows, type of a given column `x`\n",
    "  * Methods to act on the data\n",
    "    * Non-transformative functions, e.g.:\n",
    "      * Give me the maximum value in column `x`\n",
    "    * transformative (but not in place) functions, e.g.:\n",
    "      * Remove column `x`, sort by column `x`, filter values that are less than some value in column `x`\n",
    "* Functions to apply some custom functionality (your own function) to the data. E.g.:\n",
    "  * Normalize the values in a column `x` by subtracting the mean or the column and dividing by the standard deviation."
   ]
  },
  {
   "cell_type": "markdown",
   "metadata": {
    "colab_type": "text",
    "id": "yfNSyBGVhAcC",
    "slideshow": {
     "slide_type": "skip"
    }
   },
   "source": [
    "### Attributes\n",
    "\n",
    "* If you have loaded a table, you probably want to see how the data is structured \n",
    "  * The following three attributes are useful to get a sense of the structure of your data:  \n",
    "  \n",
    "| Attribute |Description|\n",
    "|:----------|-----------|\n",
    "| `shape`| Return a `tuple` representing the dimensionality of the DataFrame |\n",
    "| `size` | Return an `int` representing the number of elements in this object  |\n",
    "| `dtypes` | Return the data types in the DataFrame |\n",
    "\n",
    "* Recall that the syntax for accessing a `DataFrame`'s attribute is:\n",
    "\n",
    "```python \n",
    "ObjectName.attributeName\n",
    "```\n",
    "\n",
    "Ex.: \n",
    "\n",
    "```python \n",
    "spending_df.shape\n",
    "```\n"
   ]
  },
  {
   "cell_type": "markdown",
   "metadata": {
    "colab_type": "text",
    "id": "yfNSyBGVhAcC",
    "slideshow": {
     "slide_type": "slide"
    }
   },
   "source": [
    "### Attributes\n",
    "\n",
    "* If you have loaded a table, you probably want to see how the data is structured \n",
    "  * The following three attributes are useful to get a sense of the structure of your data:  \n",
    "  \n",
    "| Attribute |Description|\n",
    "|:----------|-----------|\n",
    "| `shape`| Return a `tuple` representing the dimensionality of the DataFrame |\n",
    "| `size` | Return an `int` representing the number of elements in this object  |\n",
    "| `dtypes` | Return the data types in the DataFrame |\n",
    "\n",
    "\n",
    "\n",
    "* Recall that the syntax for accessing a `DataFrame`'s attribute is:\n",
    "\n",
    "```python \n",
    "ObjectName.attributeName\n",
    "```\n",
    "\n",
    "Ex.: \n",
    "\n",
    "```python \n",
    "spending_df.shape\n",
    "```\n"
   ]
  },
  {
   "cell_type": "code",
   "execution_count": 3,
   "metadata": {
    "slideshow": {
     "slide_type": "slide"
    }
   },
   "outputs": [
    {
     "data": {
      "text/plain": [
       "(10000, 5)"
      ]
     },
     "execution_count": 3,
     "metadata": {},
     "output_type": "execute_result"
    }
   ],
   "source": [
    "spending_df.shape"
   ]
  },
  {
   "cell_type": "code",
   "execution_count": 4,
   "metadata": {
    "slideshow": {
     "slide_type": "slide"
    }
   },
   "outputs": [
    {
     "data": {
      "text/plain": [
       "50000"
      ]
     },
     "execution_count": 4,
     "metadata": {},
     "output_type": "execute_result"
    }
   ],
   "source": [
    "spending_df.size"
   ]
  },
  {
   "cell_type": "code",
   "execution_count": 5,
   "metadata": {
    "slideshow": {
     "slide_type": "slide"
    }
   },
   "outputs": [
    {
     "data": {
      "text/html": [
       "<div>\n",
       "<style scoped>\n",
       "    .dataframe tbody tr th:only-of-type {\n",
       "        vertical-align: middle;\n",
       "    }\n",
       "\n",
       "    .dataframe tbody tr th {\n",
       "        vertical-align: top;\n",
       "    }\n",
       "\n",
       "    .dataframe thead th {\n",
       "        text-align: right;\n",
       "    }\n",
       "</style>\n",
       "<table border=\"1\" class=\"dataframe\">\n",
       "  <thead>\n",
       "    <tr style=\"text-align: right;\">\n",
       "      <th></th>\n",
       "      <th>doctor_id</th>\n",
       "      <th>specialty</th>\n",
       "      <th>medication</th>\n",
       "      <th>nb_beneficiaries</th>\n",
       "      <th>spending</th>\n",
       "    </tr>\n",
       "    <tr>\n",
       "      <th>unique_id</th>\n",
       "      <th></th>\n",
       "      <th></th>\n",
       "      <th></th>\n",
       "      <th></th>\n",
       "      <th></th>\n",
       "    </tr>\n",
       "  </thead>\n",
       "  <tbody>\n",
       "    <tr>\n",
       "      <th>NX531425</th>\n",
       "      <td>1255626040</td>\n",
       "      <td>FAMILY PRACTICE</td>\n",
       "      <td>METFORMIN HCL</td>\n",
       "      <td>30</td>\n",
       "      <td>135.24</td>\n",
       "    </tr>\n",
       "    <tr>\n",
       "      <th>QG879256</th>\n",
       "      <td>1699761833</td>\n",
       "      <td>FAMILY PRACTICE</td>\n",
       "      <td>ALLOPURINOL</td>\n",
       "      <td>30</td>\n",
       "      <td>715.76</td>\n",
       "    </tr>\n",
       "    <tr>\n",
       "      <th>FW363228</th>\n",
       "      <td>1538148804</td>\n",
       "      <td>INTERNAL MEDICINE</td>\n",
       "      <td>LOSARTAN POTASSIUM</td>\n",
       "      <td>146</td>\n",
       "      <td>1056.47</td>\n",
       "    </tr>\n",
       "    <tr>\n",
       "      <th>WD733417</th>\n",
       "      <td>1730200619</td>\n",
       "      <td>PSYCHIATRY</td>\n",
       "      <td>OLANZAPINE</td>\n",
       "      <td>13</td>\n",
       "      <td>28226.97</td>\n",
       "    </tr>\n",
       "    <tr>\n",
       "      <th>XW149832</th>\n",
       "      <td>1023116894</td>\n",
       "      <td>FAMILY PRACTICE</td>\n",
       "      <td>PRAVASTATIN SODIUM</td>\n",
       "      <td>348</td>\n",
       "      <td>8199.48</td>\n",
       "    </tr>\n",
       "    <tr>\n",
       "      <th>QT485324</th>\n",
       "      <td>1952359671</td>\n",
       "      <td>FAMILY PRACTICE</td>\n",
       "      <td>HYDROCHLOROTHIAZIDE</td>\n",
       "      <td>57</td>\n",
       "      <td>247.01</td>\n",
       "    </tr>\n",
       "    <tr>\n",
       "      <th>NA293426</th>\n",
       "      <td>1841235223</td>\n",
       "      <td>FAMILY PRACTICE</td>\n",
       "      <td>SEVELAMER CARBONATE</td>\n",
       "      <td>11</td>\n",
       "      <td>4869.32</td>\n",
       "    </tr>\n",
       "    <tr>\n",
       "      <th>IF945618</th>\n",
       "      <td>1326095662</td>\n",
       "      <td>INTERNAL MEDICINE</td>\n",
       "      <td>FLUTICASONE/SALMETEROL</td>\n",
       "      <td>20</td>\n",
       "      <td>7832.46</td>\n",
       "    </tr>\n",
       "    <tr>\n",
       "      <th>PH384257</th>\n",
       "      <td>1821126830</td>\n",
       "      <td>HEMATOLOGY/ONCOLOGY</td>\n",
       "      <td>ZOLPIDEM TARTRATE</td>\n",
       "      <td>14</td>\n",
       "      <td>65.21</td>\n",
       "    </tr>\n",
       "    <tr>\n",
       "      <th>JY407340</th>\n",
       "      <td>1710986088</td>\n",
       "      <td>INTERNAL MEDICINE</td>\n",
       "      <td>MECLIZINE HCL</td>\n",
       "      <td>47</td>\n",
       "      <td>861.67</td>\n",
       "    </tr>\n",
       "  </tbody>\n",
       "</table>\n",
       "</div>"
      ],
      "text/plain": [
       "            doctor_id            specialty              medication  \\\n",
       "unique_id                                                            \n",
       "NX531425   1255626040      FAMILY PRACTICE           METFORMIN HCL   \n",
       "QG879256   1699761833      FAMILY PRACTICE             ALLOPURINOL   \n",
       "FW363228   1538148804    INTERNAL MEDICINE      LOSARTAN POTASSIUM   \n",
       "WD733417   1730200619           PSYCHIATRY              OLANZAPINE   \n",
       "XW149832   1023116894      FAMILY PRACTICE      PRAVASTATIN SODIUM   \n",
       "QT485324   1952359671      FAMILY PRACTICE     HYDROCHLOROTHIAZIDE   \n",
       "NA293426   1841235223      FAMILY PRACTICE     SEVELAMER CARBONATE   \n",
       "IF945618   1326095662    INTERNAL MEDICINE  FLUTICASONE/SALMETEROL   \n",
       "PH384257   1821126830  HEMATOLOGY/ONCOLOGY       ZOLPIDEM TARTRATE   \n",
       "JY407340   1710986088    INTERNAL MEDICINE           MECLIZINE HCL   \n",
       "\n",
       "           nb_beneficiaries  spending  \n",
       "unique_id                              \n",
       "NX531425                 30    135.24  \n",
       "QG879256                 30    715.76  \n",
       "FW363228                146   1056.47  \n",
       "WD733417                 13  28226.97  \n",
       "XW149832                348   8199.48  \n",
       "QT485324                 57    247.01  \n",
       "NA293426                 11   4869.32  \n",
       "IF945618                 20   7832.46  \n",
       "PH384257                 14     65.21  \n",
       "JY407340                 47    861.67  "
      ]
     },
     "execution_count": 5,
     "metadata": {},
     "output_type": "execute_result"
    }
   ],
   "source": [
    "spending_df.head(10)"
   ]
  },
  {
   "cell_type": "markdown",
   "metadata": {
    "colab_type": "text",
    "id": "5un3yMEPj8pJ",
    "slideshow": {
     "slide_type": "slide"
    }
   },
   "source": [
    "### Inspecting Data Types\n",
    "\n",
    "* `DataFrame` columns contain data, whose type is inferred by Pandas\n",
    "\n",
    "* Some operations in Pandas are only valid on certain types. E.g.:\n",
    "    * Compute average on `spending` column is valid\n",
    "    * Compute the median on the `medication` column is invalid\n",
    "\n",
    " * Inferring `doctor_id` as a number that can be averaged is perhaps wrong\n",
    "   * Perhaps should be set as a string (text) instead"
   ]
  },
  {
   "cell_type": "markdown",
   "metadata": {
    "slideshow": {
     "slide_type": "slide"
    }
   },
   "source": [
    "### Inspecting Data Types -- Cont'd\n",
    "\n",
    "* `dtypes` field holds the data type of each column of the DataFrame\n",
    "\n",
    "* `dtype` field holds the data type for a Series\n",
    "  * Holds the data type in that column \n",
    "\n",
    "```python\n",
    ">>> spending_df.dtypes\n",
    "doctor_id             int64\n",
    "specialty            object\n",
    "medication           object\n",
    "nb_beneficiaries      int64\n",
    "spending            float64\n",
    "dtype: object\n",
    "```\n"
   ]
  },
  {
   "cell_type": "code",
   "execution_count": 6,
   "metadata": {
    "slideshow": {
     "slide_type": "skip"
    }
   },
   "outputs": [
    {
     "data": {
      "text/plain": [
       "doctor_id             int64\n",
       "specialty            object\n",
       "medication           object\n",
       "nb_beneficiaries      int64\n",
       "spending            float64\n",
       "dtype: object"
      ]
     },
     "execution_count": 6,
     "metadata": {},
     "output_type": "execute_result"
    }
   ],
   "source": [
    "spending_df.dtypes"
   ]
  },
  {
   "attachments": {
    "image.png": {
     "image/png": "[encoded data removed]"
    }
   },
   "cell_type": "markdown",
   "metadata": {
    "slideshow": {
     "slide_type": "slide"
    }
   },
   "source": [
    "![image.png](attachment:image.png)"
   ]
  },
  {
   "cell_type": "markdown",
   "metadata": {
    "colab_type": "text",
    "id": "NpYXMxxvhTUy",
    "slideshow": {
     "slide_type": "slide"
    }
   },
   "source": [
    "### Methods\n",
    "\n",
    "* Python methods are functions that are accessible via an object instance.\n",
    "  * Apply to the object that calls them.\n",
    "  \n",
    "Syntax: \n",
    "```python\n",
    "ObjectName.methodName()\n",
    "```\n",
    "\n",
    "* DataFrame have many built-in methods to summarize our data. Ex:\n",
    "\n",
    "| Method|Description|\n",
    "|:----------|-----------|\n",
    "| `head()`| Return first n rows |\n",
    "| `tail()` | Return last n rows |\n",
    "| `min()`, `max()` | Computes the numeric or alphanumeric min, max|\n",
    "| `sum()`, `mean()`, `std()`, `var()`   | Computes the column-wise sum, mean, standard deviation and variance in a `Series` or `DataFrame`|\n",
    "| `count()` |  Returns the number of non-NaN values in the in a `Series` or `DataFrame`|\n",
    "| `value_counts()` |  Returns the frequency for each value in the `Series`|\n",
    "| `describe()` | Computes column-wise statistics|\n",
    "\n",
    "* There are numerous other functions to the explore data. Those will be covered throughout the semester"
   ]
  },
  {
   "cell_type": "code",
   "execution_count": 7,
   "metadata": {
    "slideshow": {
     "slide_type": "slide"
    }
   },
   "outputs": [
    {
     "data": {
      "text/plain": [
       "(10000,)"
      ]
     },
     "execution_count": 7,
     "metadata": {},
     "output_type": "execute_result"
    }
   ],
   "source": [
    "med = spending_df[\"medication\"]\n",
    "\n",
    "# recal that shape returns a tuple\n",
    "med.shape"
   ]
  },
  {
   "cell_type": "code",
   "execution_count": 8,
   "metadata": {
    "slideshow": {
     "slide_type": "slide"
    }
   },
   "outputs": [
    {
     "data": {
      "text/plain": [
       "10000"
      ]
     },
     "execution_count": 8,
     "metadata": {},
     "output_type": "execute_result"
    }
   ],
   "source": [
    "med = spending_df[\"medication\"]\n",
    "med.count()"
   ]
  },
  {
   "cell_type": "code",
   "execution_count": 9,
   "metadata": {
    "slideshow": {
     "slide_type": "slide"
    }
   },
   "outputs": [
    {
     "data": {
      "text/plain": [
       "LEVOTHYROXINE SODIUM        150\n",
       "GABAPENTIN                  126\n",
       "POTASSIUM CHLORIDE          125\n",
       "METFORMIN HCL               118\n",
       "LISINOPRIL                  118\n",
       "                           ... \n",
       "AMBRISENTAN                   1\n",
       "PROMETHAZINE HCL/CODEINE      1\n",
       "CYPROHEPTADINE HCL            1\n",
       "CIMETIDINE                    1\n",
       "ETHOTOIN                      1\n",
       "Name: medication, Length: 617, dtype: int64"
      ]
     },
     "execution_count": 9,
     "metadata": {},
     "output_type": "execute_result"
    }
   ],
   "source": [
    "# frequency of occurence \n",
    "med.value_counts()"
   ]
  },
  {
   "cell_type": "markdown",
   "metadata": {
    "colab_type": "text",
    "id": "c_B4yGYN_cv-",
    "slideshow": {
     "slide_type": "slide"
    }
   },
   "source": [
    "### DataFrame Axes\n",
    "\n",
    "* Computing statistics on the data is a critical aspect of exploratory data analysis\n",
    "\n",
    "* Provides valuable information about the data\n",
    "\n",
    "  * E.g., what medications are most prescribed, which doctors or specialty produce most prescriptions, what is the total of opiate prescriptions per state, etc.\n",
    "\n",
    "* We normally think of computations on columns. What if you want to perform a computation row-wise?\n",
    "\n",
    "  * Having another set of functions would be redundant and a bad idea\n",
    "\n",
    "    * compute_avg_row() and compute_avg_col(), compute_std_row() and compute_std_col(), etc.\n",
    "\n",
    "* Instead of duplicating functionality, Python uses the concept of `axis`"
   ]
  },
  {
   "cell_type": "code",
   "execution_count": 10,
   "metadata": {
    "slideshow": {
     "slide_type": "slide"
    }
   },
   "outputs": [],
   "source": [
    "x = pd.DataFrame({\"A\": [1, 2, 3], \"B\": [4, 5, 6]})\n",
    "x.sum?"
   ]
  },
  {
   "cell_type": "markdown",
   "metadata": {
    "slideshow": {
     "slide_type": "slide"
    }
   },
   "source": [
    "### DataFrame Axes -- Cont'd\n",
    "\n",
    "\n",
    "\n",
    "* For instance, the methods `sum()`, `min()`, `max()`, etc. can all be applied row- or column-wise.\n",
    "  * Note that they have a parameter called `axis`.\n",
    "    * Default is None, which means apply to each row, column-wise.\n",
    "    * This concepts may be a bit confusing but you will get ample opportunities to explore it.\n",
    "\n",
    " \n",
    "```python\n",
    "spending_df.sum()\n",
    "\n",
    "Signature: spending_df.sum(axis=None, skipna=None, level=None, numeric_only=None, min_count=0, **kwargs)\n",
    "\n",
    "Docstring:\n",
    "Return the sum of the values over the requested axis\n",
    "```"
   ]
  },
  {
   "attachments": {
    "image.png": {
     "image/png": "[encoded data removed]"
    }
   },
   "cell_type": "markdown",
   "metadata": {
    "slideshow": {
     "slide_type": "slide"
    }
   },
   "source": [
    "\n",
    "![image.png](attachment:image.png)\n",
    "`image from: https://stackoverflow.com/questions/39283339/what-is-the-meaning-of-axis-attribute-in-a-pandas-dataframe`"
   ]
  },
  {
   "cell_type": "markdown",
   "metadata": {
    "colab_type": "text",
    "id": "4RgUNUeEujno",
    "slideshow": {
     "slide_type": "slide"
    }
   },
   "source": [
    "### Descriptive Statistics\n",
    "\n",
    "* We'll explore some more functions on simple, manually created `DataFrame`.\n",
    "  * Making a test dataset is always useful when not sure how something works after reading the documentation.   \n",
    "  \n",
    "```python\n",
    ">>> df = pd.DataFrame({'A':[0, 1, 2], 'B':[5, 6, 7]})\n",
    ">>> df\n",
    "   A  B\n",
    "0  0  5\n",
    "1  1  6\n",
    "2  2  7\n",
    "```"
   ]
  },
  {
   "cell_type": "markdown",
   "metadata": {
    "slideshow": {
     "slide_type": "slide"
    }
   },
   "source": [
    "### Descriptive Statistics -- Cont'd \n",
    "\n",
    "* As discussed, the method `mean()` work column-wise by default.\n",
    "\n",
    "``` python\n",
    ">>> df.mean()\n",
    "A    1.0\n",
    "B    6.0\n",
    "dtype: float64\n",
    "```\n",
    "\n",
    "* You will see that the result is a `Series`."
   ]
  },
  {
   "cell_type": "markdown",
   "metadata": {
    "slideshow": {
     "slide_type": "slide"
    }
   },
   "source": [
    "### Descriptive Statistics -- Cont'd \n",
    "\n",
    "* To compute the row-wise mean, we need to change the `axis` to 1\n",
    " \n",
    "```python\n",
    ">>> df.mean(axis=1)\n",
    "0    2.5\n",
    "1    3.5\n",
    "2    4.5\n",
    "dtype: float64\n",
    "```"
   ]
  },
  {
   "cell_type": "markdown",
   "metadata": {
    "slideshow": {
     "slide_type": "slide"
    }
   },
   "source": [
    "### Descriptive Statistics -- Cont'd \n",
    "\n",
    "* Descriptive statistics can also be applied to a `Series` object\n",
    "  * If you are only interested in a subset of the rows or columns of the `DataFrame`\n",
    "  * Use the subset operator `[ ]` to extract the `Series` and the function to it.\n",
    "\n",
    "```python\n",
    ">>> df['A'].mean()\n",
    "1.0\n",
    "```"
   ]
  },
  {
   "cell_type": "code",
   "execution_count": 11,
   "metadata": {
    "colab": {
     "base_uri": "https://localhost:8080/",
     "height": 141
    },
    "colab_type": "code",
    "executionInfo": {
     "elapsed": 445,
     "status": "ok",
     "timestamp": 1534190663139,
     "user": {
      "displayName": "Charles Dickens",
      "photoUrl": "//lh6.googleusercontent.com/-LyFY-SmW2Wk/AAAAAAAAAAI/AAAAAAAAAJc/aBlebAB4Y_M/s50-c-k-no/photo.jpg",
      "userId": "116926057727252856181"
     },
     "user_tz": 600
    },
    "id": "igP-4gtVXJSI",
    "outputId": "88a8193b-1cd2-41a2-bab8-6a3b9f96a0f1",
    "slideshow": {
     "slide_type": "slide"
    }
   },
   "outputs": [
    {
     "data": {
      "text/html": [
       "<div>\n",
       "<style scoped>\n",
       "    .dataframe tbody tr th:only-of-type {\n",
       "        vertical-align: middle;\n",
       "    }\n",
       "\n",
       "    .dataframe tbody tr th {\n",
       "        vertical-align: top;\n",
       "    }\n",
       "\n",
       "    .dataframe thead th {\n",
       "        text-align: right;\n",
       "    }\n",
       "</style>\n",
       "<table border=\"1\" class=\"dataframe\">\n",
       "  <thead>\n",
       "    <tr style=\"text-align: right;\">\n",
       "      <th></th>\n",
       "      <th>A</th>\n",
       "      <th>B</th>\n",
       "    </tr>\n",
       "  </thead>\n",
       "  <tbody>\n",
       "    <tr>\n",
       "      <th>0</th>\n",
       "      <td>0</td>\n",
       "      <td>5</td>\n",
       "    </tr>\n",
       "    <tr>\n",
       "      <th>1</th>\n",
       "      <td>1</td>\n",
       "      <td>6</td>\n",
       "    </tr>\n",
       "    <tr>\n",
       "      <th>2</th>\n",
       "      <td>2</td>\n",
       "      <td>7</td>\n",
       "    </tr>\n",
       "  </tbody>\n",
       "</table>\n",
       "</div>"
      ],
      "text/plain": [
       "   A  B\n",
       "0  0  5\n",
       "1  1  6\n",
       "2  2  7"
      ]
     },
     "execution_count": 11,
     "metadata": {},
     "output_type": "execute_result"
    }
   ],
   "source": [
    "df = pd.DataFrame({'A':[0, 1, 2], 'B':[5, 6, 7]})\n",
    "df"
   ]
  },
  {
   "cell_type": "markdown",
   "metadata": {
    "slideshow": {
     "slide_type": "slide"
    }
   },
   "source": [
    "```python\n",
    "\n",
    ">> df.mean?\n",
    "\n",
    "Signature: df.mean(axis=None, skipna=None, level=None, numeric_only=None, **kwargs)\n",
    "Docstring:\n",
    "Return the mean of the values over the requested axis.\n",
    "\n",
    "Parameters\n",
    "----------\n",
    "axis : {index (0), columns (1)}\n",
    "    Axis for the function to be applied on.\n",
    "skipna : bool, default True\n",
    "    Exclude NA/null values when computing the result.\n",
    "level : int or level name, default None\n",
    "    If the axis is a MultiIndex (hierarchical), count along a\n",
    "    particular level, collapsing into a Series.\n",
    "numeric_only : bool, default None\n",
    "    Include only float, int, boolean columns. If None, will attempt to use\n",
    "    everything, then use only numeric data. Not implemented for Series.\n",
    "**kwargs\n",
    "    Additional keyword arguments to be passed to the function.\n",
    "```        \n"
   ]
  },
  {
   "cell_type": "code",
   "execution_count": 12,
   "metadata": {
    "colab": {
     "base_uri": "https://localhost:8080/",
     "height": 225
    },
    "colab_type": "code",
    "executionInfo": {
     "elapsed": 406,
     "status": "ok",
     "timestamp": 1534191029417,
     "user": {
      "displayName": "Charles Dickens",
      "photoUrl": "//lh6.googleusercontent.com/-LyFY-SmW2Wk/AAAAAAAAAAI/AAAAAAAAAJc/aBlebAB4Y_M/s50-c-k-no/photo.jpg",
      "userId": "116926057727252856181"
     },
     "user_tz": 600
    },
    "id": "f3dkBqdRX0nP",
    "outputId": "2f1bc994-f3a4-41f0-db29-258b0e3a9d8d",
    "slideshow": {
     "slide_type": "slide"
    }
   },
   "outputs": [
    {
     "name": "stdout",
     "output_type": "stream",
     "text": [
      "Column-wise mean:\n",
      "A    1.0\n",
      "B    6.0\n",
      "dtype: float64\n"
     ]
    }
   ],
   "source": [
    "print('Column-wise mean:')\n",
    "print(df.mean())\n"
   ]
  },
  {
   "cell_type": "code",
   "execution_count": 13,
   "metadata": {
    "slideshow": {
     "slide_type": "slide"
    }
   },
   "outputs": [
    {
     "name": "stdout",
     "output_type": "stream",
     "text": [
      "Row-wise mean:\n",
      "0    2.5\n",
      "1    3.5\n",
      "2    4.5\n",
      "dtype: float64\n"
     ]
    }
   ],
   "source": [
    "print('Row-wise mean:')\n",
    "print(df.mean(axis=1))"
   ]
  },
  {
   "cell_type": "code",
   "execution_count": 14,
   "metadata": {
    "slideshow": {
     "slide_type": "slide"
    }
   },
   "outputs": [
    {
     "name": "stdout",
     "output_type": "stream",
     "text": [
      "Series mean:\n",
      "1.0\n"
     ]
    }
   ],
   "source": [
    "print('Series mean:')\n",
    "print(df['A'].mean())"
   ]
  },
  {
   "cell_type": "markdown",
   "metadata": {
    "colab_type": "text",
    "id": "2gCbrD7AVQyd",
    "slideshow": {
     "slide_type": "slide"
    }
   },
   "source": [
    "### Medical Spending Data Set: Descriptive Statistics\n",
    "\n",
    "* As you may have noticed, a summary method is computed by default on all the columns that are compatible\n",
    " * `doctor_id`, `nb_beneficiaries`, `spending`\n",
    "  * The column `medication` was excluded since it's `dtype` is not compatible with `mean()`, \n",
    "\n",
    "```python\n",
    ">>> spending_df.mean()\n",
    "doctor_id           1.503766e+09\n",
    "nb_beneficiaries    5.091830e+01\n",
    "spending            4.333839e+03\n",
    "dtype: float64\n",
    "```\n",
    "\n",
    "* New warning that was not present in previous version (1.1?)"
   ]
  },
  {
   "cell_type": "code",
   "execution_count": 15,
   "metadata": {
    "slideshow": {
     "slide_type": "slide"
    }
   },
   "outputs": [
    {
     "name": "stderr",
     "output_type": "stream",
     "text": [
      "C:\\Users\\Public\\Documents\\ESTsoft\\CreatorTemp\\ipykernel_12816\\2665127400.py:1: FutureWarning: Dropping of nuisance columns in DataFrame reductions (with 'numeric_only=None') is deprecated; in a future version this will raise TypeError.  Select only valid columns before calling the reduction.\n",
      "  spending_df.mean()\n"
     ]
    },
    {
     "data": {
      "text/plain": [
       "doctor_id           1.503766e+09\n",
       "nb_beneficiaries    5.091830e+01\n",
       "spending            4.333839e+03\n",
       "dtype: float64"
      ]
     },
     "execution_count": 15,
     "metadata": {},
     "output_type": "execute_result"
    }
   ],
   "source": [
    "spending_df.mean()"
   ]
  },
  {
   "cell_type": "code",
   "execution_count": 16,
   "metadata": {
    "slideshow": {
     "slide_type": "slide"
    }
   },
   "outputs": [
    {
     "data": {
      "text/plain": [
       "6.0"
      ]
     },
     "execution_count": 16,
     "metadata": {},
     "output_type": "execute_result"
    }
   ],
   "source": [
    "### In your opinion, what is happeningin here? \n",
    "\n",
    "\n",
    "x = pd.Series([\"1\", \"2\"])\n",
    "\n",
    "x.mean()"
   ]
  },
  {
   "cell_type": "markdown",
   "metadata": {
    "slideshow": {
     "slide_type": "slide"
    }
   },
   "source": [
    "### Defensive Progrmaming\n",
    "\n",
    "* Programmers must assume the software might be misused, some simplification might be dropped, and some features might not be completely understood.\n",
    "\n",
    "* Rather than assuming Pandas will discard the columns automatically, use: \n",
    "\n",
    "```python\n",
    "spending_df[[\"nb_beneficiaries\", \"spending\"]].mean()\n",
    "```\n"
   ]
  },
  {
   "cell_type": "markdown",
   "metadata": {
    "slideshow": {
     "slide_type": "slide"
    }
   },
   "source": [
    "### Missing Values\n",
    "\n",
    "* In Python, `None` represents a `null`, i.e., a lack of value.\n",
    "  * It is not 0, an empty string, or the boolean False. \n",
    "* Unlike in Python, missing values in a table can occur under different forms\n",
    "  * Space\n",
    "  * Empty string\n",
    "  * Some predetermine identifier: ex. MISSING, NOVAL, etc.\n",
    "* These values can often skew or \"break the analysis\"\n",
    "* Custom handling of the missing values is often necessary.\n",
    "  * Often involved turning those values into Pandas' `None` equivalent\n"
   ]
  },
  {
   "cell_type": "markdown",
   "metadata": {
    "colab_type": "text",
    "id": "Cr-iw_-q08Qs",
    "slideshow": {
     "slide_type": "slide"
    }
   },
   "source": [
    "### Count and Missing Values\n",
    "\n",
    " * How do summary operations handle emtpy (missing) values?\n",
    "  * As discussed we explore using a small dataset\n",
    "\n",
    "```python\n",
    ">>> na_df = pd.DataFrame({\"Col A\": [None, None], \"Col B\": [None, None]}) \n",
    ">>> na_df\n",
    "\n",
    "    Col A   Col B\n",
    "0\tNone\tNone\n",
    "1\tNone\tNone\n",
    "\n",
    ">>> na_df.shape\n",
    "(2, 2)\n",
    "\n",
    ">>> na_df.size\n",
    "4\n",
    "```\n",
    "\n"
   ]
  },
  {
   "cell_type": "markdown",
   "metadata": {
    "slideshow": {
     "slide_type": "slide"
    }
   },
   "source": [
    "### Count and Missing Values -- Cont'd\n",
    "\n",
    "* Pandas reports that the `DataFrame` contains 2 rows and 2 columns with a total of 4 values.\n",
    "  * We know that there are actually no real data in this `DataFrame`.\n",
    "  \n",
    "* Rather than use `shape` and `size`, we can instead use the built-in `count()` method.\n",
    "  * It automatically excludes missing values.\n",
    "  \n",
    "* An easy way to assess the level of missing values in your data."
   ]
  },
  {
   "cell_type": "code",
   "execution_count": 17,
   "metadata": {
    "slideshow": {
     "slide_type": "slide"
    }
   },
   "outputs": [
    {
     "data": {
      "text/html": [
       "<div>\n",
       "<style scoped>\n",
       "    .dataframe tbody tr th:only-of-type {\n",
       "        vertical-align: middle;\n",
       "    }\n",
       "\n",
       "    .dataframe tbody tr th {\n",
       "        vertical-align: top;\n",
       "    }\n",
       "\n",
       "    .dataframe thead th {\n",
       "        text-align: right;\n",
       "    }\n",
       "</style>\n",
       "<table border=\"1\" class=\"dataframe\">\n",
       "  <thead>\n",
       "    <tr style=\"text-align: right;\">\n",
       "      <th></th>\n",
       "      <th>Col A</th>\n",
       "      <th>Col B</th>\n",
       "    </tr>\n",
       "  </thead>\n",
       "  <tbody>\n",
       "    <tr>\n",
       "      <th>0</th>\n",
       "      <td>None</td>\n",
       "      <td>None</td>\n",
       "    </tr>\n",
       "    <tr>\n",
       "      <th>1</th>\n",
       "      <td>None</td>\n",
       "      <td>None</td>\n",
       "    </tr>\n",
       "  </tbody>\n",
       "</table>\n",
       "</div>"
      ],
      "text/plain": [
       "  Col A Col B\n",
       "0  None  None\n",
       "1  None  None"
      ]
     },
     "execution_count": 17,
     "metadata": {},
     "output_type": "execute_result"
    }
   ],
   "source": [
    "df = pd.DataFrame({\"Col A\": [None, None], \"Col B\": [None, None]})\n",
    "df"
   ]
  },
  {
   "cell_type": "code",
   "execution_count": 18,
   "metadata": {
    "slideshow": {
     "slide_type": "slide"
    }
   },
   "outputs": [
    {
     "data": {
      "text/plain": [
       "Col A    0\n",
       "Col B    0\n",
       "dtype: int64"
      ]
     },
     "execution_count": 18,
     "metadata": {},
     "output_type": "execute_result"
    }
   ],
   "source": [
    "df.count()"
   ]
  },
  {
   "cell_type": "markdown",
   "metadata": {
    "slideshow": {
     "slide_type": "slide"
    }
   },
   "source": [
    "### Count and Missing Values -- Cont'd\n",
    "\n",
    "* We'll use another example, `spending_missing_values.csv`, which was specifically constructed to have missing values.\n",
    "\n",
    "```python\n",
    ">>> spending_missing_values_df = pd.read_csv('data/spending_missing_values.csv', \n",
    "                                               index_col='unique_id', \n",
    "                                               na_values=['Null'])\n",
    "```\n",
    "\n",
    "- The method `count()` counts values by default column-wise.\n",
    "  - The method has the optional `axis` parameter with a default of `axis=0`, or equivalently `axis='rows'` or `axis='index'`.\n",
    "  - This concept is prevalent when working with Pandas. So please remember the meaning of `axis=0` and `axis=1`\n"
   ]
  },
  {
   "cell_type": "markdown",
   "metadata": {
    "slideshow": {
     "slide_type": "skip"
    }
   },
   "source": [
    "### Counting Missing Values in Columns\n",
    "\n",
    "```python\n",
    ">>> spending_missing_values_df.count()\n",
    "doctor_id           54\n",
    "specialty           48\n",
    "medication          53\n",
    "nb_beneficiaries    50\n",
    "spending            50\n",
    "dtype: int64\n",
    "```\n",
    "\n",
    "* Columns contain variable number of missing values\n",
    "\n",
    "\n",
    "\n",
    "#### Question:\n",
    "\n",
    "  * Can you think of use case which would require using `count(axis = 1)`?"
   ]
  },
  {
   "cell_type": "markdown",
   "metadata": {
    "slideshow": {
     "slide_type": "slide"
    }
   },
   "source": [
    "### Counting Missing Values in Columns\n",
    "\n",
    "```python\n",
    ">>> spending_missing_values_df.count()\n",
    "doctor_id           54\n",
    "specialty           48\n",
    "medication          53\n",
    "nb_beneficiaries    50\n",
    "spending            50\n",
    "dtype: int64\n",
    "```\n",
    "\n",
    "* Columns contain variable number of missing values"
   ]
  },
  {
   "cell_type": "code",
   "execution_count": 19,
   "metadata": {
    "colab": {},
    "colab_type": "code",
    "id": "NJZmcKQXdYy1",
    "slideshow": {
     "slide_type": "slide"
    }
   },
   "outputs": [
    {
     "name": "stdout",
     "output_type": "stream",
     "text": [
      "(54, 5)\n",
      "----------\n"
     ]
    },
    {
     "data": {
      "text/plain": [
       "doctor_id           54\n",
       "specialty           48\n",
       "medication          53\n",
       "nb_beneficiaries    50\n",
       "spending            50\n",
       "dtype: int64"
      ]
     },
     "execution_count": 19,
     "metadata": {},
     "output_type": "execute_result"
    }
   ],
   "source": [
    "spending_missing_values_df = pd.read_csv('data/spending_missing_values.csv', \n",
    "                                         index_col='unique_id', \n",
    "                                         na_values=['Null'])\n",
    "\n",
    "print(spending_missing_values_df.shape)\n",
    "print(\"----------\")\n",
    "spending_missing_values_df.count()"
   ]
  },
  {
   "cell_type": "markdown",
   "metadata": {
    "colab_type": "text",
    "id": "33IbJxKK2xhW",
    "slideshow": {
     "slide_type": "slide"
    }
   },
   "source": [
    "### The Describe Method\n",
    "\n",
    "* The `describe()` summarizes the values in columns in `DataFrame`\n",
    "  * By default, only numerical values are considered\n",
    "  * Behavior can be modified by setting the `include` parameter to 'all'\n",
    "  "
   ]
  },
  {
   "cell_type": "code",
   "execution_count": 20,
   "metadata": {
    "colab": {},
    "colab_type": "code",
    "id": "47v6pq8-eu-m",
    "slideshow": {
     "slide_type": "slide"
    }
   },
   "outputs": [
    {
     "data": {
      "text/html": [
       "<div>\n",
       "<style scoped>\n",
       "    .dataframe tbody tr th:only-of-type {\n",
       "        vertical-align: middle;\n",
       "    }\n",
       "\n",
       "    .dataframe tbody tr th {\n",
       "        vertical-align: top;\n",
       "    }\n",
       "\n",
       "    .dataframe thead th {\n",
       "        text-align: right;\n",
       "    }\n",
       "</style>\n",
       "<table border=\"1\" class=\"dataframe\">\n",
       "  <thead>\n",
       "    <tr style=\"text-align: right;\">\n",
       "      <th></th>\n",
       "      <th>doctor_id</th>\n",
       "      <th>nb_beneficiaries</th>\n",
       "      <th>spending</th>\n",
       "    </tr>\n",
       "  </thead>\n",
       "  <tbody>\n",
       "    <tr>\n",
       "      <th>count</th>\n",
       "      <td>1.000000e+04</td>\n",
       "      <td>10000.000000</td>\n",
       "      <td>10000.000000</td>\n",
       "    </tr>\n",
       "    <tr>\n",
       "      <th>mean</th>\n",
       "      <td>1.503766e+09</td>\n",
       "      <td>50.918300</td>\n",
       "      <td>4333.838595</td>\n",
       "    </tr>\n",
       "    <tr>\n",
       "      <th>std</th>\n",
       "      <td>2.874269e+08</td>\n",
       "      <td>86.493443</td>\n",
       "      <td>21915.925814</td>\n",
       "    </tr>\n",
       "    <tr>\n",
       "      <th>min</th>\n",
       "      <td>1.003010e+09</td>\n",
       "      <td>11.000000</td>\n",
       "      <td>15.020000</td>\n",
       "    </tr>\n",
       "    <tr>\n",
       "      <th>25%</th>\n",
       "      <td>1.255580e+09</td>\n",
       "      <td>15.000000</td>\n",
       "      <td>253.237500</td>\n",
       "    </tr>\n",
       "    <tr>\n",
       "      <th>50%</th>\n",
       "      <td>1.508818e+09</td>\n",
       "      <td>24.000000</td>\n",
       "      <td>677.970000</td>\n",
       "    </tr>\n",
       "    <tr>\n",
       "      <th>75%</th>\n",
       "      <td>1.750467e+09</td>\n",
       "      <td>50.000000</td>\n",
       "      <td>2442.955000</td>\n",
       "    </tr>\n",
       "    <tr>\n",
       "      <th>max</th>\n",
       "      <td>1.992999e+09</td>\n",
       "      <td>1987.000000</td>\n",
       "      <td>892027.000000</td>\n",
       "    </tr>\n",
       "  </tbody>\n",
       "</table>\n",
       "</div>"
      ],
      "text/plain": [
       "          doctor_id  nb_beneficiaries       spending\n",
       "count  1.000000e+04      10000.000000   10000.000000\n",
       "mean   1.503766e+09         50.918300    4333.838595\n",
       "std    2.874269e+08         86.493443   21915.925814\n",
       "min    1.003010e+09         11.000000      15.020000\n",
       "25%    1.255580e+09         15.000000     253.237500\n",
       "50%    1.508818e+09         24.000000     677.970000\n",
       "75%    1.750467e+09         50.000000    2442.955000\n",
       "max    1.992999e+09       1987.000000  892027.000000"
      ]
     },
     "execution_count": 20,
     "metadata": {},
     "output_type": "execute_result"
    }
   ],
   "source": [
    "spending_df.describe()"
   ]
  },
  {
   "cell_type": "code",
   "execution_count": 21,
   "metadata": {
    "colab": {},
    "colab_type": "code",
    "id": "bAoAoPNXexkT",
    "scrolled": true,
    "slideshow": {
     "slide_type": "slide"
    }
   },
   "outputs": [
    {
     "data": {
      "text/html": [
       "<div>\n",
       "<style scoped>\n",
       "    .dataframe tbody tr th:only-of-type {\n",
       "        vertical-align: middle;\n",
       "    }\n",
       "\n",
       "    .dataframe tbody tr th {\n",
       "        vertical-align: top;\n",
       "    }\n",
       "\n",
       "    .dataframe thead th {\n",
       "        text-align: right;\n",
       "    }\n",
       "</style>\n",
       "<table border=\"1\" class=\"dataframe\">\n",
       "  <thead>\n",
       "    <tr style=\"text-align: right;\">\n",
       "      <th></th>\n",
       "      <th>doctor_id</th>\n",
       "      <th>specialty</th>\n",
       "      <th>medication</th>\n",
       "      <th>nb_beneficiaries</th>\n",
       "      <th>spending</th>\n",
       "    </tr>\n",
       "  </thead>\n",
       "  <tbody>\n",
       "    <tr>\n",
       "      <th>count</th>\n",
       "      <td>1.000000e+04</td>\n",
       "      <td>10000</td>\n",
       "      <td>10000</td>\n",
       "      <td>10000.000000</td>\n",
       "      <td>10000.000000</td>\n",
       "    </tr>\n",
       "    <tr>\n",
       "      <th>unique</th>\n",
       "      <td>NaN</td>\n",
       "      <td>75</td>\n",
       "      <td>617</td>\n",
       "      <td>NaN</td>\n",
       "      <td>NaN</td>\n",
       "    </tr>\n",
       "    <tr>\n",
       "      <th>top</th>\n",
       "      <td>NaN</td>\n",
       "      <td>INTERNAL MEDICINE</td>\n",
       "      <td>LEVOTHYROXINE SODIUM</td>\n",
       "      <td>NaN</td>\n",
       "      <td>NaN</td>\n",
       "    </tr>\n",
       "    <tr>\n",
       "      <th>freq</th>\n",
       "      <td>NaN</td>\n",
       "      <td>3060</td>\n",
       "      <td>150</td>\n",
       "      <td>NaN</td>\n",
       "      <td>NaN</td>\n",
       "    </tr>\n",
       "    <tr>\n",
       "      <th>mean</th>\n",
       "      <td>1.503766e+09</td>\n",
       "      <td>NaN</td>\n",
       "      <td>NaN</td>\n",
       "      <td>50.918300</td>\n",
       "      <td>4333.838595</td>\n",
       "    </tr>\n",
       "    <tr>\n",
       "      <th>std</th>\n",
       "      <td>2.874269e+08</td>\n",
       "      <td>NaN</td>\n",
       "      <td>NaN</td>\n",
       "      <td>86.493443</td>\n",
       "      <td>21915.925814</td>\n",
       "    </tr>\n",
       "    <tr>\n",
       "      <th>min</th>\n",
       "      <td>1.003010e+09</td>\n",
       "      <td>NaN</td>\n",
       "      <td>NaN</td>\n",
       "      <td>11.000000</td>\n",
       "      <td>15.020000</td>\n",
       "    </tr>\n",
       "    <tr>\n",
       "      <th>25%</th>\n",
       "      <td>1.255580e+09</td>\n",
       "      <td>NaN</td>\n",
       "      <td>NaN</td>\n",
       "      <td>15.000000</td>\n",
       "      <td>253.237500</td>\n",
       "    </tr>\n",
       "    <tr>\n",
       "      <th>50%</th>\n",
       "      <td>1.508818e+09</td>\n",
       "      <td>NaN</td>\n",
       "      <td>NaN</td>\n",
       "      <td>24.000000</td>\n",
       "      <td>677.970000</td>\n",
       "    </tr>\n",
       "    <tr>\n",
       "      <th>75%</th>\n",
       "      <td>1.750467e+09</td>\n",
       "      <td>NaN</td>\n",
       "      <td>NaN</td>\n",
       "      <td>50.000000</td>\n",
       "      <td>2442.955000</td>\n",
       "    </tr>\n",
       "    <tr>\n",
       "      <th>max</th>\n",
       "      <td>1.992999e+09</td>\n",
       "      <td>NaN</td>\n",
       "      <td>NaN</td>\n",
       "      <td>1987.000000</td>\n",
       "      <td>892027.000000</td>\n",
       "    </tr>\n",
       "  </tbody>\n",
       "</table>\n",
       "</div>"
      ],
      "text/plain": [
       "           doctor_id          specialty            medication  \\\n",
       "count   1.000000e+04              10000                 10000   \n",
       "unique           NaN                 75                   617   \n",
       "top              NaN  INTERNAL MEDICINE  LEVOTHYROXINE SODIUM   \n",
       "freq             NaN               3060                   150   \n",
       "mean    1.503766e+09                NaN                   NaN   \n",
       "std     2.874269e+08                NaN                   NaN   \n",
       "min     1.003010e+09                NaN                   NaN   \n",
       "25%     1.255580e+09                NaN                   NaN   \n",
       "50%     1.508818e+09                NaN                   NaN   \n",
       "75%     1.750467e+09                NaN                   NaN   \n",
       "max     1.992999e+09                NaN                   NaN   \n",
       "\n",
       "        nb_beneficiaries       spending  \n",
       "count       10000.000000   10000.000000  \n",
       "unique               NaN            NaN  \n",
       "top                  NaN            NaN  \n",
       "freq                 NaN            NaN  \n",
       "mean           50.918300    4333.838595  \n",
       "std            86.493443   21915.925814  \n",
       "min            11.000000      15.020000  \n",
       "25%            15.000000     253.237500  \n",
       "50%            24.000000     677.970000  \n",
       "75%            50.000000    2442.955000  \n",
       "max          1987.000000  892027.000000  "
      ]
     },
     "execution_count": 21,
     "metadata": {},
     "output_type": "execute_result"
    }
   ],
   "source": [
    "# For options on handling scientific notation, see the following\n",
    "# https://re-thought.com/how-to-suppress-scientific-notation-in-pandas/ \n",
    "spending_df.describe(include='all')"
   ]
  },
  {
   "cell_type": "markdown",
   "metadata": {
    "slideshow": {
     "slide_type": "slide"
    }
   },
   "source": [
    "### Method Chaining\n",
    "\n",
    "* Successive application of methods onto an object can be chained and executed in a single line of code\n",
    "\n",
    "* The syntax for method chaining is the following:\n",
    "\n",
    "```python\n",
    "`object.method_1().method_2()...`\n",
    "```\n",
    "\n",
    "* We'll demonstrate with functions we haven't covered but that are fairly intuitive\n",
    "  * `sort_values`: sort on a column value\n",
    "  * `sample`: samples (selects randomly) a given number of items  "
   ]
  },
  {
   "cell_type": "code",
   "execution_count": 22,
   "metadata": {
    "slideshow": {
     "slide_type": "slide"
    }
   },
   "outputs": [
    {
     "data": {
      "text/html": [
       "<div>\n",
       "<style scoped>\n",
       "    .dataframe tbody tr th:only-of-type {\n",
       "        vertical-align: middle;\n",
       "    }\n",
       "\n",
       "    .dataframe tbody tr th {\n",
       "        vertical-align: top;\n",
       "    }\n",
       "\n",
       "    .dataframe thead th {\n",
       "        text-align: right;\n",
       "    }\n",
       "</style>\n",
       "<table border=\"1\" class=\"dataframe\">\n",
       "  <thead>\n",
       "    <tr style=\"text-align: right;\">\n",
       "      <th></th>\n",
       "      <th>doctor_id</th>\n",
       "      <th>specialty</th>\n",
       "      <th>medication</th>\n",
       "      <th>nb_beneficiaries</th>\n",
       "      <th>spending</th>\n",
       "    </tr>\n",
       "    <tr>\n",
       "      <th>unique_id</th>\n",
       "      <th></th>\n",
       "      <th></th>\n",
       "      <th></th>\n",
       "      <th></th>\n",
       "      <th></th>\n",
       "    </tr>\n",
       "  </thead>\n",
       "  <tbody>\n",
       "    <tr>\n",
       "      <th>RU995312</th>\n",
       "      <td>1467442392</td>\n",
       "      <td>PULMONARY DISEASE</td>\n",
       "      <td>AMBRISENTAN</td>\n",
       "      <td>118</td>\n",
       "      <td>892027.00</td>\n",
       "    </tr>\n",
       "    <tr>\n",
       "      <th>SJ341179</th>\n",
       "      <td>1780895854</td>\n",
       "      <td>GASTROENTEROLOGY</td>\n",
       "      <td>LEDIPASVIR/SOFOSBUVIR</td>\n",
       "      <td>27</td>\n",
       "      <td>855440.65</td>\n",
       "    </tr>\n",
       "    <tr>\n",
       "      <th>HG989315</th>\n",
       "      <td>1992757181</td>\n",
       "      <td>DIAGNOSTIC RADIOLOGY</td>\n",
       "      <td>TERIPARATIDE</td>\n",
       "      <td>285</td>\n",
       "      <td>564901.05</td>\n",
       "    </tr>\n",
       "    <tr>\n",
       "      <th>ZE579249</th>\n",
       "      <td>1457375321</td>\n",
       "      <td>NEUROLOGY</td>\n",
       "      <td>GLATIRAMER ACETATE</td>\n",
       "      <td>89</td>\n",
       "      <td>564109.04</td>\n",
       "    </tr>\n",
       "    <tr>\n",
       "      <th>UF412652</th>\n",
       "      <td>1891767307</td>\n",
       "      <td>PEDIATRIC MEDICINE</td>\n",
       "      <td>GLYCEROL PHENYLBUTYRATE</td>\n",
       "      <td>12</td>\n",
       "      <td>480637.52</td>\n",
       "    </tr>\n",
       "    <tr>\n",
       "      <th>HI666266</th>\n",
       "      <td>1144277294</td>\n",
       "      <td>NEPHROLOGY</td>\n",
       "      <td>SEVELAMER CARBONATE</td>\n",
       "      <td>242</td>\n",
       "      <td>446874.49</td>\n",
       "    </tr>\n",
       "    <tr>\n",
       "      <th>JM425012</th>\n",
       "      <td>1851423701</td>\n",
       "      <td>GASTROENTEROLOGY</td>\n",
       "      <td>LEDIPASVIR/SOFOSBUVIR</td>\n",
       "      <td>14</td>\n",
       "      <td>445448.40</td>\n",
       "    </tr>\n",
       "    <tr>\n",
       "      <th>RE720840</th>\n",
       "      <td>1801196829</td>\n",
       "      <td>NURSE PRACTITIONER</td>\n",
       "      <td>CRIZOTINIB</td>\n",
       "      <td>29</td>\n",
       "      <td>385275.65</td>\n",
       "    </tr>\n",
       "    <tr>\n",
       "      <th>GJ496150</th>\n",
       "      <td>1851379762</td>\n",
       "      <td>NURSE PRACTITIONER</td>\n",
       "      <td>SEVELAMER CARBONATE</td>\n",
       "      <td>218</td>\n",
       "      <td>343489.69</td>\n",
       "    </tr>\n",
       "    <tr>\n",
       "      <th>HY126030</th>\n",
       "      <td>1104998566</td>\n",
       "      <td>NURSE PRACTITIONER</td>\n",
       "      <td>TERIFLUNOMIDE</td>\n",
       "      <td>33</td>\n",
       "      <td>308461.71</td>\n",
       "    </tr>\n",
       "  </tbody>\n",
       "</table>\n",
       "</div>"
      ],
      "text/plain": [
       "            doctor_id             specialty               medication  \\\n",
       "unique_id                                                              \n",
       "RU995312   1467442392     PULMONARY DISEASE              AMBRISENTAN   \n",
       "SJ341179   1780895854      GASTROENTEROLOGY    LEDIPASVIR/SOFOSBUVIR   \n",
       "HG989315   1992757181  DIAGNOSTIC RADIOLOGY             TERIPARATIDE   \n",
       "ZE579249   1457375321             NEUROLOGY       GLATIRAMER ACETATE   \n",
       "UF412652   1891767307    PEDIATRIC MEDICINE  GLYCEROL PHENYLBUTYRATE   \n",
       "HI666266   1144277294            NEPHROLOGY      SEVELAMER CARBONATE   \n",
       "JM425012   1851423701      GASTROENTEROLOGY    LEDIPASVIR/SOFOSBUVIR   \n",
       "RE720840   1801196829    NURSE PRACTITIONER               CRIZOTINIB   \n",
       "GJ496150   1851379762    NURSE PRACTITIONER      SEVELAMER CARBONATE   \n",
       "HY126030   1104998566    NURSE PRACTITIONER            TERIFLUNOMIDE   \n",
       "\n",
       "           nb_beneficiaries   spending  \n",
       "unique_id                               \n",
       "RU995312                118  892027.00  \n",
       "SJ341179                 27  855440.65  \n",
       "HG989315                285  564901.05  \n",
       "ZE579249                 89  564109.04  \n",
       "UF412652                 12  480637.52  \n",
       "HI666266                242  446874.49  \n",
       "JM425012                 14  445448.40  \n",
       "RE720840                 29  385275.65  \n",
       "GJ496150                218  343489.69  \n",
       "HY126030                 33  308461.71  "
      ]
     },
     "execution_count": 22,
     "metadata": {},
     "output_type": "execute_result"
    }
   ],
   "source": [
    "\n",
    "spending_sorted_df = spending_df.sort_values(by=\"spending\", ascending=False)\n",
    "spending_sorted_top_10_df = spending_sorted_df.head(10)\n",
    "\n",
    "spending_sorted_top_10_df"
   ]
  },
  {
   "cell_type": "code",
   "execution_count": 23,
   "metadata": {
    "slideshow": {
     "slide_type": "slide"
    }
   },
   "outputs": [
    {
     "data": {
      "text/html": [
       "<div>\n",
       "<style scoped>\n",
       "    .dataframe tbody tr th:only-of-type {\n",
       "        vertical-align: middle;\n",
       "    }\n",
       "\n",
       "    .dataframe tbody tr th {\n",
       "        vertical-align: top;\n",
       "    }\n",
       "\n",
       "    .dataframe thead th {\n",
       "        text-align: right;\n",
       "    }\n",
       "</style>\n",
       "<table border=\"1\" class=\"dataframe\">\n",
       "  <thead>\n",
       "    <tr style=\"text-align: right;\">\n",
       "      <th></th>\n",
       "      <th>doctor_id</th>\n",
       "      <th>specialty</th>\n",
       "      <th>medication</th>\n",
       "      <th>nb_beneficiaries</th>\n",
       "      <th>spending</th>\n",
       "    </tr>\n",
       "    <tr>\n",
       "      <th>unique_id</th>\n",
       "      <th></th>\n",
       "      <th></th>\n",
       "      <th></th>\n",
       "      <th></th>\n",
       "      <th></th>\n",
       "    </tr>\n",
       "  </thead>\n",
       "  <tbody>\n",
       "    <tr>\n",
       "      <th>RU995312</th>\n",
       "      <td>1467442392</td>\n",
       "      <td>PULMONARY DISEASE</td>\n",
       "      <td>AMBRISENTAN</td>\n",
       "      <td>118</td>\n",
       "      <td>892027.00</td>\n",
       "    </tr>\n",
       "    <tr>\n",
       "      <th>SJ341179</th>\n",
       "      <td>1780895854</td>\n",
       "      <td>GASTROENTEROLOGY</td>\n",
       "      <td>LEDIPASVIR/SOFOSBUVIR</td>\n",
       "      <td>27</td>\n",
       "      <td>855440.65</td>\n",
       "    </tr>\n",
       "  </tbody>\n",
       "</table>\n",
       "</div>"
      ],
      "text/plain": [
       "            doctor_id          specialty             medication  \\\n",
       "unique_id                                                         \n",
       "RU995312   1467442392  PULMONARY DISEASE            AMBRISENTAN   \n",
       "SJ341179   1780895854   GASTROENTEROLOGY  LEDIPASVIR/SOFOSBUVIR   \n",
       "\n",
       "           nb_beneficiaries   spending  \n",
       "unique_id                               \n",
       "RU995312                118  892027.00  \n",
       "SJ341179                 27  855440.65  "
      ]
     },
     "execution_count": 23,
     "metadata": {},
     "output_type": "execute_result"
    }
   ],
   "source": [
    "spending_sorted_top_10_df.sample(2)"
   ]
  },
  {
   "cell_type": "code",
   "execution_count": 24,
   "metadata": {
    "slideshow": {
     "slide_type": "slide"
    }
   },
   "outputs": [
    {
     "data": {
      "text/html": [
       "<div>\n",
       "<style scoped>\n",
       "    .dataframe tbody tr th:only-of-type {\n",
       "        vertical-align: middle;\n",
       "    }\n",
       "\n",
       "    .dataframe tbody tr th {\n",
       "        vertical-align: top;\n",
       "    }\n",
       "\n",
       "    .dataframe thead th {\n",
       "        text-align: right;\n",
       "    }\n",
       "</style>\n",
       "<table border=\"1\" class=\"dataframe\">\n",
       "  <thead>\n",
       "    <tr style=\"text-align: right;\">\n",
       "      <th></th>\n",
       "      <th>doctor_id</th>\n",
       "      <th>specialty</th>\n",
       "      <th>medication</th>\n",
       "      <th>nb_beneficiaries</th>\n",
       "      <th>spending</th>\n",
       "    </tr>\n",
       "    <tr>\n",
       "      <th>unique_id</th>\n",
       "      <th></th>\n",
       "      <th></th>\n",
       "      <th></th>\n",
       "      <th></th>\n",
       "      <th></th>\n",
       "    </tr>\n",
       "  </thead>\n",
       "  <tbody>\n",
       "    <tr>\n",
       "      <th>GJ496150</th>\n",
       "      <td>1851379762</td>\n",
       "      <td>NURSE PRACTITIONER</td>\n",
       "      <td>SEVELAMER CARBONATE</td>\n",
       "      <td>218</td>\n",
       "      <td>343489.69</td>\n",
       "    </tr>\n",
       "    <tr>\n",
       "      <th>RU995312</th>\n",
       "      <td>1467442392</td>\n",
       "      <td>PULMONARY DISEASE</td>\n",
       "      <td>AMBRISENTAN</td>\n",
       "      <td>118</td>\n",
       "      <td>892027.00</td>\n",
       "    </tr>\n",
       "  </tbody>\n",
       "</table>\n",
       "</div>"
      ],
      "text/plain": [
       "            doctor_id           specialty           medication  \\\n",
       "unique_id                                                        \n",
       "GJ496150   1851379762  NURSE PRACTITIONER  SEVELAMER CARBONATE   \n",
       "RU995312   1467442392   PULMONARY DISEASE          AMBRISENTAN   \n",
       "\n",
       "           nb_beneficiaries   spending  \n",
       "unique_id                               \n",
       "GJ496150                218  343489.69  \n",
       "RU995312                118  892027.00  "
      ]
     },
     "execution_count": 24,
     "metadata": {},
     "output_type": "execute_result"
    }
   ],
   "source": [
    "spending_df.sort_values(by=\"spending\", ascending=False).head(10).sample(2)"
   ]
  },
  {
   "cell_type": "markdown",
   "metadata": {
    "slideshow": {
     "slide_type": "slide"
    }
   },
   "source": [
    "### Chaining Methods Syntax\n",
    "\n",
    "\n",
    "* Chained methods are often written across multiple lines to facilitate reading.\n",
    "\n",
    "* Python requires a specific syntax to break chained methods across multiple lines.\n",
    "  * For example, the following generates an error as Python expects instruction to end at the end of the line.\n",
    "  * Unlike, for instance, JS, which expects expressions to end when at the `;` character.\n",
    "  \n",
    "```python\n",
    "spending_df.\n",
    "            sort_values(by=\"spending\", ascending=False).\n",
    "            head(10).\n",
    "            sample(2)\n",
    "```            "
   ]
  },
  {
   "cell_type": "code",
   "execution_count": 25,
   "metadata": {
    "slideshow": {
     "slide_type": "slide"
    }
   },
   "outputs": [
    {
     "ename": "SyntaxError",
     "evalue": "invalid syntax (522970067.py, line 1)",
     "output_type": "error",
     "traceback": [
      "\u001b[1;36m  Cell \u001b[1;32mIn[25], line 1\u001b[1;36m\u001b[0m\n\u001b[1;33m    spending_df.\u001b[0m\n\u001b[1;37m                ^\u001b[0m\n\u001b[1;31mSyntaxError\u001b[0m\u001b[1;31m:\u001b[0m invalid syntax\n"
     ]
    }
   ],
   "source": [
    "spending_df.\n",
    "            sort_values(by=\"spending\", ascending=False).\n",
    "            head(10).\n",
    "            sample(2)"
   ]
  },
  {
   "cell_type": "code",
   "execution_count": 26,
   "metadata": {
    "slideshow": {
     "slide_type": "slide"
    }
   },
   "outputs": [
    {
     "data": {
      "text/html": [
       "<div>\n",
       "<style scoped>\n",
       "    .dataframe tbody tr th:only-of-type {\n",
       "        vertical-align: middle;\n",
       "    }\n",
       "\n",
       "    .dataframe tbody tr th {\n",
       "        vertical-align: top;\n",
       "    }\n",
       "\n",
       "    .dataframe thead th {\n",
       "        text-align: right;\n",
       "    }\n",
       "</style>\n",
       "<table border=\"1\" class=\"dataframe\">\n",
       "  <thead>\n",
       "    <tr style=\"text-align: right;\">\n",
       "      <th></th>\n",
       "      <th>doctor_id</th>\n",
       "      <th>specialty</th>\n",
       "      <th>medication</th>\n",
       "      <th>nb_beneficiaries</th>\n",
       "      <th>spending</th>\n",
       "    </tr>\n",
       "    <tr>\n",
       "      <th>unique_id</th>\n",
       "      <th></th>\n",
       "      <th></th>\n",
       "      <th></th>\n",
       "      <th></th>\n",
       "      <th></th>\n",
       "    </tr>\n",
       "  </thead>\n",
       "  <tbody>\n",
       "    <tr>\n",
       "      <th>JM425012</th>\n",
       "      <td>1851423701</td>\n",
       "      <td>GASTROENTEROLOGY</td>\n",
       "      <td>LEDIPASVIR/SOFOSBUVIR</td>\n",
       "      <td>14</td>\n",
       "      <td>445448.4</td>\n",
       "    </tr>\n",
       "    <tr>\n",
       "      <th>RU995312</th>\n",
       "      <td>1467442392</td>\n",
       "      <td>PULMONARY DISEASE</td>\n",
       "      <td>AMBRISENTAN</td>\n",
       "      <td>118</td>\n",
       "      <td>892027.0</td>\n",
       "    </tr>\n",
       "  </tbody>\n",
       "</table>\n",
       "</div>"
      ],
      "text/plain": [
       "            doctor_id          specialty             medication  \\\n",
       "unique_id                                                         \n",
       "JM425012   1851423701   GASTROENTEROLOGY  LEDIPASVIR/SOFOSBUVIR   \n",
       "RU995312   1467442392  PULMONARY DISEASE            AMBRISENTAN   \n",
       "\n",
       "           nb_beneficiaries  spending  \n",
       "unique_id                              \n",
       "JM425012                 14  445448.4  \n",
       "RU995312                118  892027.0  "
      ]
     },
     "execution_count": 26,
     "metadata": {},
     "output_type": "execute_result"
    }
   ],
   "source": [
    "(spending_df.\n",
    "            sort_values(by=\"spending\", ascending=False).\n",
    "            head(10).\n",
    "            sample(2))"
   ]
  },
  {
   "cell_type": "markdown",
   "metadata": {
    "slideshow": {
     "slide_type": "slide"
    }
   },
   "source": [
    "### Sorting\n",
    "\n",
    "\n",
    "* Ordering data is often critical during exploration \n",
    "\n",
    " * Example, for detecting anomalies\n",
    " * Identifying scales and ranges of data (min and max transactions)\n",
    " * Identifying important categories\n",
    "     "
   ]
  },
  {
   "cell_type": "markdown",
   "metadata": {
    "slideshow": {
     "slide_type": "slide"
    }
   },
   "source": [
    "### Sorting by Index\n",
    "\n",
    "\n",
    "* We can sort either:\n",
    "  * Lexicographically by row index `sort_index()`\n",
    "   * Since there is only one index, the method does not have any required parameters\n",
    "  * Lexicographically on a column value `sort_values()`\n",
    "    * Since a `DataFrame` may have many columns, you need to explicitly specify the column(s) you want to sort on\n",
    "\n",
    "* Sorting is by default in ascending order\n",
    "  * Behavior can be modified using `ascending` parameter\n"
   ]
  },
  {
   "cell_type": "code",
   "execution_count": 27,
   "metadata": {
    "slideshow": {
     "slide_type": "slide"
    }
   },
   "outputs": [
    {
     "data": {
      "text/html": [
       "<div>\n",
       "<style scoped>\n",
       "    .dataframe tbody tr th:only-of-type {\n",
       "        vertical-align: middle;\n",
       "    }\n",
       "\n",
       "    .dataframe tbody tr th {\n",
       "        vertical-align: top;\n",
       "    }\n",
       "\n",
       "    .dataframe thead th {\n",
       "        text-align: right;\n",
       "    }\n",
       "</style>\n",
       "<table border=\"1\" class=\"dataframe\">\n",
       "  <thead>\n",
       "    <tr style=\"text-align: right;\">\n",
       "      <th></th>\n",
       "      <th>doctor_id</th>\n",
       "      <th>specialty</th>\n",
       "      <th>medication</th>\n",
       "      <th>nb_beneficiaries</th>\n",
       "      <th>spending</th>\n",
       "    </tr>\n",
       "    <tr>\n",
       "      <th>unique_id</th>\n",
       "      <th></th>\n",
       "      <th></th>\n",
       "      <th></th>\n",
       "      <th></th>\n",
       "      <th></th>\n",
       "    </tr>\n",
       "  </thead>\n",
       "  <tbody>\n",
       "    <tr>\n",
       "      <th>AA137628</th>\n",
       "      <td>1619994506</td>\n",
       "      <td>INTERNAL MEDICINE</td>\n",
       "      <td>PRAVASTATIN SODIUM</td>\n",
       "      <td>17</td>\n",
       "      <td>722.11</td>\n",
       "    </tr>\n",
       "    <tr>\n",
       "      <th>AA150698</th>\n",
       "      <td>1124243563</td>\n",
       "      <td>CARDIOLOGY</td>\n",
       "      <td>FENOFIBRATE NANOCRYSTALLIZED</td>\n",
       "      <td>29</td>\n",
       "      <td>1327.06</td>\n",
       "    </tr>\n",
       "    <tr>\n",
       "      <th>AA256462</th>\n",
       "      <td>1780610477</td>\n",
       "      <td>INTERNAL MEDICINE</td>\n",
       "      <td>FINASTERIDE</td>\n",
       "      <td>81</td>\n",
       "      <td>1508.39</td>\n",
       "    </tr>\n",
       "    <tr>\n",
       "      <th>AA309915</th>\n",
       "      <td>1760896161</td>\n",
       "      <td>FAMILY PRACTICE</td>\n",
       "      <td>PRAVASTATIN SODIUM</td>\n",
       "      <td>11</td>\n",
       "      <td>241.33</td>\n",
       "    </tr>\n",
       "    <tr>\n",
       "      <th>AA316473</th>\n",
       "      <td>1023104098</td>\n",
       "      <td>INTERNAL MEDICINE</td>\n",
       "      <td>WARFARIN SODIUM</td>\n",
       "      <td>46</td>\n",
       "      <td>529.07</td>\n",
       "    </tr>\n",
       "    <tr>\n",
       "      <th>...</th>\n",
       "      <td>...</td>\n",
       "      <td>...</td>\n",
       "      <td>...</td>\n",
       "      <td>...</td>\n",
       "      <td>...</td>\n",
       "    </tr>\n",
       "    <tr>\n",
       "      <th>ZZ769373</th>\n",
       "      <td>1245660554</td>\n",
       "      <td>NURSE PRACTITIONER</td>\n",
       "      <td>LISINOPRIL</td>\n",
       "      <td>18</td>\n",
       "      <td>118.82</td>\n",
       "    </tr>\n",
       "    <tr>\n",
       "      <th>ZZ814526</th>\n",
       "      <td>1982960043</td>\n",
       "      <td>PHYSICIAN ASSISTANT</td>\n",
       "      <td>METOPROLOL TARTRATE</td>\n",
       "      <td>13</td>\n",
       "      <td>69.52</td>\n",
       "    </tr>\n",
       "    <tr>\n",
       "      <th>ZZ861557</th>\n",
       "      <td>1457358053</td>\n",
       "      <td>CARDIOLOGY</td>\n",
       "      <td>WARFARIN SODIUM</td>\n",
       "      <td>26</td>\n",
       "      <td>254.48</td>\n",
       "    </tr>\n",
       "    <tr>\n",
       "      <th>ZZ881671</th>\n",
       "      <td>1346689742</td>\n",
       "      <td>INTERNAL MEDICINE</td>\n",
       "      <td>FUROSEMIDE</td>\n",
       "      <td>11</td>\n",
       "      <td>26.08</td>\n",
       "    </tr>\n",
       "    <tr>\n",
       "      <th>ZZ934824</th>\n",
       "      <td>1811995723</td>\n",
       "      <td>FAMILY PRACTICE</td>\n",
       "      <td>FENOFIBRATE</td>\n",
       "      <td>30</td>\n",
       "      <td>1987.55</td>\n",
       "    </tr>\n",
       "  </tbody>\n",
       "</table>\n",
       "<p>10000 rows × 5 columns</p>\n",
       "</div>"
      ],
      "text/plain": [
       "            doctor_id            specialty                    medication  \\\n",
       "unique_id                                                                  \n",
       "AA137628   1619994506    INTERNAL MEDICINE            PRAVASTATIN SODIUM   \n",
       "AA150698   1124243563           CARDIOLOGY  FENOFIBRATE NANOCRYSTALLIZED   \n",
       "AA256462   1780610477    INTERNAL MEDICINE                   FINASTERIDE   \n",
       "AA309915   1760896161      FAMILY PRACTICE            PRAVASTATIN SODIUM   \n",
       "AA316473   1023104098    INTERNAL MEDICINE               WARFARIN SODIUM   \n",
       "...               ...                  ...                           ...   \n",
       "ZZ769373   1245660554   NURSE PRACTITIONER                    LISINOPRIL   \n",
       "ZZ814526   1982960043  PHYSICIAN ASSISTANT           METOPROLOL TARTRATE   \n",
       "ZZ861557   1457358053           CARDIOLOGY               WARFARIN SODIUM   \n",
       "ZZ881671   1346689742    INTERNAL MEDICINE                    FUROSEMIDE   \n",
       "ZZ934824   1811995723      FAMILY PRACTICE                   FENOFIBRATE   \n",
       "\n",
       "           nb_beneficiaries  spending  \n",
       "unique_id                              \n",
       "AA137628                 17    722.11  \n",
       "AA150698                 29   1327.06  \n",
       "AA256462                 81   1508.39  \n",
       "AA309915                 11    241.33  \n",
       "AA316473                 46    529.07  \n",
       "...                     ...       ...  \n",
       "ZZ769373                 18    118.82  \n",
       "ZZ814526                 13     69.52  \n",
       "ZZ861557                 26    254.48  \n",
       "ZZ881671                 11     26.08  \n",
       "ZZ934824                 30   1987.55  \n",
       "\n",
       "[10000 rows x 5 columns]"
      ]
     },
     "execution_count": 27,
     "metadata": {},
     "output_type": "execute_result"
    }
   ],
   "source": [
    "spending_df.sort_index()"
   ]
  },
  {
   "cell_type": "code",
   "execution_count": 28,
   "metadata": {
    "slideshow": {
     "slide_type": "slide"
    }
   },
   "outputs": [
    {
     "data": {
      "text/html": [
       "<div>\n",
       "<style scoped>\n",
       "    .dataframe tbody tr th:only-of-type {\n",
       "        vertical-align: middle;\n",
       "    }\n",
       "\n",
       "    .dataframe tbody tr th {\n",
       "        vertical-align: top;\n",
       "    }\n",
       "\n",
       "    .dataframe thead th {\n",
       "        text-align: right;\n",
       "    }\n",
       "</style>\n",
       "<table border=\"1\" class=\"dataframe\">\n",
       "  <thead>\n",
       "    <tr style=\"text-align: right;\">\n",
       "      <th></th>\n",
       "      <th>doctor_id</th>\n",
       "      <th>specialty</th>\n",
       "      <th>medication</th>\n",
       "      <th>nb_beneficiaries</th>\n",
       "      <th>spending</th>\n",
       "    </tr>\n",
       "    <tr>\n",
       "      <th>unique_id</th>\n",
       "      <th></th>\n",
       "      <th></th>\n",
       "      <th></th>\n",
       "      <th></th>\n",
       "      <th></th>\n",
       "    </tr>\n",
       "  </thead>\n",
       "  <tbody>\n",
       "    <tr>\n",
       "      <th>RU995312</th>\n",
       "      <td>1467442392</td>\n",
       "      <td>PULMONARY DISEASE</td>\n",
       "      <td>AMBRISENTAN</td>\n",
       "      <td>118</td>\n",
       "      <td>892027.00</td>\n",
       "    </tr>\n",
       "    <tr>\n",
       "      <th>SJ341179</th>\n",
       "      <td>1780895854</td>\n",
       "      <td>GASTROENTEROLOGY</td>\n",
       "      <td>LEDIPASVIR/SOFOSBUVIR</td>\n",
       "      <td>27</td>\n",
       "      <td>855440.65</td>\n",
       "    </tr>\n",
       "    <tr>\n",
       "      <th>HG989315</th>\n",
       "      <td>1992757181</td>\n",
       "      <td>DIAGNOSTIC RADIOLOGY</td>\n",
       "      <td>TERIPARATIDE</td>\n",
       "      <td>285</td>\n",
       "      <td>564901.05</td>\n",
       "    </tr>\n",
       "    <tr>\n",
       "      <th>ZE579249</th>\n",
       "      <td>1457375321</td>\n",
       "      <td>NEUROLOGY</td>\n",
       "      <td>GLATIRAMER ACETATE</td>\n",
       "      <td>89</td>\n",
       "      <td>564109.04</td>\n",
       "    </tr>\n",
       "    <tr>\n",
       "      <th>UF412652</th>\n",
       "      <td>1891767307</td>\n",
       "      <td>PEDIATRIC MEDICINE</td>\n",
       "      <td>GLYCEROL PHENYLBUTYRATE</td>\n",
       "      <td>12</td>\n",
       "      <td>480637.52</td>\n",
       "    </tr>\n",
       "    <tr>\n",
       "      <th>...</th>\n",
       "      <td>...</td>\n",
       "      <td>...</td>\n",
       "      <td>...</td>\n",
       "      <td>...</td>\n",
       "      <td>...</td>\n",
       "    </tr>\n",
       "    <tr>\n",
       "      <th>OD445990</th>\n",
       "      <td>1841366820</td>\n",
       "      <td>INTERNAL MEDICINE</td>\n",
       "      <td>FUROSEMIDE</td>\n",
       "      <td>13</td>\n",
       "      <td>19.90</td>\n",
       "    </tr>\n",
       "    <tr>\n",
       "      <th>TX420809</th>\n",
       "      <td>1801032297</td>\n",
       "      <td>ADDICTION MEDICINE</td>\n",
       "      <td>LORAZEPAM</td>\n",
       "      <td>14</td>\n",
       "      <td>19.56</td>\n",
       "    </tr>\n",
       "    <tr>\n",
       "      <th>MR117563</th>\n",
       "      <td>1629180708</td>\n",
       "      <td>PHYSICIAN ASSISTANT</td>\n",
       "      <td>SIMVASTATIN</td>\n",
       "      <td>11</td>\n",
       "      <td>16.72</td>\n",
       "    </tr>\n",
       "    <tr>\n",
       "      <th>YB781831</th>\n",
       "      <td>1801080890</td>\n",
       "      <td>RHEUMATOLOGY</td>\n",
       "      <td>LISINOPRIL</td>\n",
       "      <td>11</td>\n",
       "      <td>15.84</td>\n",
       "    </tr>\n",
       "    <tr>\n",
       "      <th>XS313828</th>\n",
       "      <td>1508965476</td>\n",
       "      <td>GASTROENTEROLOGY</td>\n",
       "      <td>ALPRAZOLAM</td>\n",
       "      <td>13</td>\n",
       "      <td>15.02</td>\n",
       "    </tr>\n",
       "  </tbody>\n",
       "</table>\n",
       "<p>10000 rows × 5 columns</p>\n",
       "</div>"
      ],
      "text/plain": [
       "            doctor_id             specialty               medication  \\\n",
       "unique_id                                                              \n",
       "RU995312   1467442392     PULMONARY DISEASE              AMBRISENTAN   \n",
       "SJ341179   1780895854      GASTROENTEROLOGY    LEDIPASVIR/SOFOSBUVIR   \n",
       "HG989315   1992757181  DIAGNOSTIC RADIOLOGY             TERIPARATIDE   \n",
       "ZE579249   1457375321             NEUROLOGY       GLATIRAMER ACETATE   \n",
       "UF412652   1891767307    PEDIATRIC MEDICINE  GLYCEROL PHENYLBUTYRATE   \n",
       "...               ...                   ...                      ...   \n",
       "OD445990   1841366820     INTERNAL MEDICINE               FUROSEMIDE   \n",
       "TX420809   1801032297    ADDICTION MEDICINE                LORAZEPAM   \n",
       "MR117563   1629180708   PHYSICIAN ASSISTANT              SIMVASTATIN   \n",
       "YB781831   1801080890          RHEUMATOLOGY               LISINOPRIL   \n",
       "XS313828   1508965476      GASTROENTEROLOGY               ALPRAZOLAM   \n",
       "\n",
       "           nb_beneficiaries   spending  \n",
       "unique_id                               \n",
       "RU995312                118  892027.00  \n",
       "SJ341179                 27  855440.65  \n",
       "HG989315                285  564901.05  \n",
       "ZE579249                 89  564109.04  \n",
       "UF412652                 12  480637.52  \n",
       "...                     ...        ...  \n",
       "OD445990                 13      19.90  \n",
       "TX420809                 14      19.56  \n",
       "MR117563                 11      16.72  \n",
       "YB781831                 11      15.84  \n",
       "XS313828                 13      15.02  \n",
       "\n",
       "[10000 rows x 5 columns]"
      ]
     },
     "execution_count": 28,
     "metadata": {},
     "output_type": "execute_result"
    }
   ],
   "source": [
    "spending_df.sort_values('spending', ascending=False)"
   ]
  },
  {
   "cell_type": "markdown",
   "metadata": {
    "slideshow": {
     "slide_type": "skip"
    }
   },
   "source": [
    "<img src=\"images/medication_cost.png\" alt=\"drawing\" style=\"width:1000px\">"
   ]
  },
  {
   "cell_type": "markdown",
   "metadata": {
    "slideshow": {
     "slide_type": "slide"
    }
   },
   "source": [
    "### (Some) Data Visualization \n",
    "\n",
    "* There is more than enough content to justify semester-long courses on the topic\n",
    "  * There is, in fact, a semester-long course on the topic!\n",
    "\n",
    "* `Pandas` provides elementary functionality to produce basic plots \n",
    "  * Ideal for primary data exploration for getting to know your data\n",
    "    * As opposed to formulating or confirming a hypothesis\n"
   ]
  },
  {
   "cell_type": "markdown",
   "metadata": {
    "slideshow": {
     "slide_type": "slide"
    }
   },
   "source": [
    "### The `DataFrame` Plots\n",
    "\n",
    "* Pandas has methods for the following types of plots:\n",
    "\n",
    "| Kind |Description|\n",
    "|:----------|-----------|\n",
    "| `line`| Line plot (default) |\n",
    "| `bar` | Vertical bar plot  |\n",
    "| `barh` | Horizontal bar plot |\n",
    "| `hist` | Histogram |\n",
    "| `box` | Boxplot  |\n",
    "| `kde` | Kernel Density Estimation plot |\n",
    "| `area` | Area plot |\n",
    "| `pie` | Pie plot |\n",
    "| `scatter` | Scatter plot |\n",
    "| `hexbin` | Hexbin plot |\n"
   ]
  },
  {
   "cell_type": "markdown",
   "metadata": {
    "slideshow": {
     "slide_type": "slide"
    }
   },
   "source": [
    "### The `DataFrame` Plots -- Cont'd\n",
    "\n",
    "* Plots require different preparations based on what you would like to show\n",
    " \n",
    "* Most data require numerical axes, others require categorical axes\n",
    " * Some take information on one axis and infer the second\n",
    "   * Ex. Histograms, pdf, etc.\n"
   ]
  },
  {
   "cell_type": "code",
   "execution_count": 29,
   "metadata": {
    "slideshow": {
     "slide_type": "slide"
    }
   },
   "outputs": [
    {
     "data": {
      "text/html": [
       "<div>\n",
       "<style scoped>\n",
       "    .dataframe tbody tr th:only-of-type {\n",
       "        vertical-align: middle;\n",
       "    }\n",
       "\n",
       "    .dataframe tbody tr th {\n",
       "        vertical-align: top;\n",
       "    }\n",
       "\n",
       "    .dataframe thead th {\n",
       "        text-align: right;\n",
       "    }\n",
       "</style>\n",
       "<table border=\"1\" class=\"dataframe\">\n",
       "  <thead>\n",
       "    <tr style=\"text-align: right;\">\n",
       "      <th></th>\n",
       "      <th>spending</th>\n",
       "    </tr>\n",
       "    <tr>\n",
       "      <th>specialty</th>\n",
       "      <th></th>\n",
       "    </tr>\n",
       "  </thead>\n",
       "  <tbody>\n",
       "    <tr>\n",
       "      <th>ADDICTION MEDICINE</th>\n",
       "      <td>920.06</td>\n",
       "    </tr>\n",
       "    <tr>\n",
       "      <th>ALLERGY/IMMUNOLOGY</th>\n",
       "      <td>189174.06</td>\n",
       "    </tr>\n",
       "    <tr>\n",
       "      <th>ANESTHESIOLOGY</th>\n",
       "      <td>142804.73</td>\n",
       "    </tr>\n",
       "    <tr>\n",
       "      <th>CARDIAC ELECTROPHYSIOLOGY</th>\n",
       "      <td>225543.62</td>\n",
       "    </tr>\n",
       "    <tr>\n",
       "      <th>CARDIAC SURGERY</th>\n",
       "      <td>12432.92</td>\n",
       "    </tr>\n",
       "  </tbody>\n",
       "</table>\n",
       "</div>"
      ],
      "text/plain": [
       "                            spending\n",
       "specialty                           \n",
       "ADDICTION MEDICINE            920.06\n",
       "ALLERGY/IMMUNOLOGY         189174.06\n",
       "ANESTHESIOLOGY             142804.73\n",
       "CARDIAC ELECTROPHYSIOLOGY  225543.62\n",
       "CARDIAC SURGERY             12432.92"
      ]
     },
     "execution_count": 29,
     "metadata": {},
     "output_type": "execute_result"
    }
   ],
   "source": [
    "spending_by_specialty_df = pd.read_csv('data/spending_by_specialty.csv', index_col='specialty')\n",
    "spending_by_specialty_df.head()"
   ]
  },
  {
   "cell_type": "code",
   "execution_count": 30,
   "metadata": {
    "slideshow": {
     "slide_type": "slide"
    }
   },
   "outputs": [
    {
     "data": {
      "text/plain": [
       "<AxesSubplot: xlabel='specialty'>"
      ]
     },
     "execution_count": 30,
     "metadata": {},
     "output_type": "execute_result"
    },
    {
     "data": {
      "image/png": "[encoded data removed]",
      "text/plain": [
       "<Figure size 1400x600 with 1 Axes>"
      ]
     },
     "metadata": {},
     "output_type": "display_data"
    }
   ],
   "source": [
    "spending_by_specialty_df.sort_values('spending', ascending=False).head(n=20).plot(kind='bar', figsize=(14,6))"
   ]
  },
  {
   "cell_type": "code",
   "execution_count": 31,
   "metadata": {
    "slideshow": {
     "slide_type": "slide"
    }
   },
   "outputs": [
    {
     "data": {
      "text/plain": [
       "<AxesSubplot: ylabel='Frequency'>"
      ]
     },
     "execution_count": 31,
     "metadata": {},
     "output_type": "execute_result"
    },
    {
     "data": {
      "image/png": "[encoded data removed]",
      "text/plain": [
       "<Figure size 1400x600 with 1 Axes>"
      ]
     },
     "metadata": {},
     "output_type": "display_data"
    }
   ],
   "source": [
    "spending_by_specialty_df[\"spending\"].plot(kind=\"hist\", figsize=(14,6))"
   ]
  },
  {
   "cell_type": "code",
   "execution_count": 32,
   "metadata": {
    "slideshow": {
     "slide_type": "slide"
    }
   },
   "outputs": [
    {
     "data": {
      "image/png": "[encoded data removed]",
      "text/plain": [
       "<Figure size 1400x600 with 1 Axes>"
      ]
     },
     "metadata": {},
     "output_type": "display_data"
    }
   ],
   "source": [
    "ax = spending_df[\"nb_beneficiaries\"].hist(bins=100, figsize=(14,6))\n",
    "_ = ax.set_xlabel(\"NB Beneficiaries\")\n",
    "_ = ax.set_ylabel(\"Frequency\")"
   ]
  },
  {
   "cell_type": "markdown",
   "metadata": {
    "slideshow": {
     "slide_type": "slide"
    }
   },
   "source": [
    "### Plot Examples\n",
    "\n",
    "* You can make some really neat plots using `Pandas` \n",
    "\n",
    "  * See the [Chart Visualization](https://pandas.pydata.org/pandas-docs/stable/user_guide/visualization.html) section of the `Pandas` documentation \n",
    "  \n",
    "* We will introduce and mainly use the [matplotlib](https://matplotlib.org/stable/gallery/) library"
   ]
  }
 ],
 "metadata": {
  "celltoolbar": "Slideshow",
  "colab": {
   "collapsed_sections": [
    "0LJYevev1Ppg"
   ],
   "name": "3_Exploring_Data.ipynb",
   "provenance": [],
   "toc_visible": true,
   "version": "0.3.2"
  },
  "hide_input": false,
  "kernelspec": {
   "display_name": "Python 3 (ipykernel)",
   "language": "python",
   "name": "python3"
  },
  "language_info": {
   "codemirror_mode": {
    "name": "ipython",
    "version": 3
   },
   "file_extension": ".py",
   "mimetype": "text/x-python",
   "name": "python",
   "nbconvert_exporter": "python",
   "pygments_lexer": "ipython3",
   "version": "3.9.16"
  }
 },
 "nbformat": 4,
 "nbformat_minor": 1
}
