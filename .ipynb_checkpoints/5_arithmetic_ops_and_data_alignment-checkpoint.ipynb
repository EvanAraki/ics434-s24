{
 "cells": [
  {
   "cell_type": "code",
   "execution_count": 2,
   "metadata": {
    "slideshow": {
     "slide_type": "skip"
    }
   },
   "outputs": [],
   "source": [
    "import pandas as pd\n",
    "import numpy as np"
   ]
  },
  {
   "cell_type": "markdown",
   "metadata": {
    "colab_type": "text",
    "id": "Qcm-BNiPgSsM",
    "slideshow": {
     "slide_type": "slide"
    }
   },
   "source": [
    "# ICS 434: DATA SCIENCE FUNDAMENTALS\n",
    "\n",
    "## Arithmetic Operations and Data Alignment\n",
    "\n",
    "---"
   ]
  },
  {
   "cell_type": "markdown",
   "metadata": {
    "colab_type": "text",
    "id": "Ft4T8eRUiJW9",
    "slideshow": {
     "slide_type": "slide"
    }
   },
   "source": [
    "### Vectorization\n",
    "\n",
    "A vectorized operation applies an operation to a list of elements at once\n",
    "  * Implemented on `numpy` library\n",
    "  * Easily extends to Pandas, which uses NumPy to store data\n",
    "* Taking advantage of the parallel capabilities of modern CPUs, it is much more efficient than Python *for loops*\n",
    "  * Automatically handles collection of data in parallel\n"
   ]
  },
  {
   "cell_type": "markdown",
   "metadata": {
    "slideshow": {
     "slide_type": "slide"
    }
   },
   "source": [
    "### Vectorization -- Cont'd\n",
    "\n",
    "* A `Series` contains only homogeneous data types\n",
    "* `Series` operations are delegated to optimized and compiled C code. \n",
    "  * This process is known as vectorization. \n",
    "  * The result is a tremendous speedup compared to an analogous computation in Python, which:\n",
    "    * Iterates through the arrays\n",
    "    * Each item is painstakingly checked for its data type \n"
   ]
  },
  {
   "cell_type": "code",
   "execution_count": 3,
   "metadata": {
    "slideshow": {
     "slide_type": "slide"
    }
   },
   "outputs": [
    {
     "data": {
      "text/plain": [
       "pandas.core.series.Series"
      ]
     },
     "execution_count": 3,
     "metadata": {},
     "output_type": "execute_result"
    }
   ],
   "source": [
    "x = pd.Series(range(1_000_000))\n",
    "type(x)"
   ]
  },
  {
   "cell_type": "code",
   "execution_count": 4,
   "metadata": {},
   "outputs": [
    {
     "data": {
      "text/plain": [
       "0    0\n",
       "1    1\n",
       "2    2\n",
       "3    3\n",
       "4    4\n",
       "dtype: int64"
      ]
     },
     "execution_count": 4,
     "metadata": {},
     "output_type": "execute_result"
    }
   ],
   "source": [
    "x.head()"
   ]
  },
  {
   "cell_type": "code",
   "execution_count": 7,
   "metadata": {
    "slideshow": {
     "slide_type": "slide"
    }
   },
   "outputs": [
    {
     "name": "stdout",
     "output_type": "stream",
     "text": [
      "CPU times: user 275 ms, sys: 11.4 ms, total: 287 ms\n",
      "Wall time: 291 ms\n"
     ]
    }
   ],
   "source": [
    "%%time\n",
    "a = range(1_000_000)\n",
    "b = []\n",
    "for elem in a:\n",
    "    b.append(elem**2)"
   ]
  },
  {
   "cell_type": "code",
   "execution_count": 11,
   "metadata": {
    "slideshow": {
     "slide_type": "slide"
    }
   },
   "outputs": [
    {
     "name": "stdout",
     "output_type": "stream",
     "text": [
      "CPU times: user 5 ms, sys: 4.89 ms, total: 9.89 ms\n",
      "Wall time: 6.07 ms\n"
     ]
    }
   ],
   "source": [
    "%%time\n",
    "y = x**2"
   ]
  },
  {
   "cell_type": "markdown",
   "metadata": {
    "slideshow": {
     "slide_type": "slide"
    }
   },
   "source": [
    "### The Numerical Python (NumPy) Library\n",
    "\n",
    "* `numpy` is a Python library for array-based computing implemented in the `C` language\n",
    "  * The *de facto* standard for scientific computing\n",
    "    * Foundation for the Python scientific stack\n",
    "  \n",
    "* Pandas uses `numpy` to store the data behind the scenes    \n",
    "\n",
    "```python\n",
    ">>> x = pd.Series([1, 2, 3])\n",
    ">>> print(type(x.values))\n",
    "\n",
    "<class 'numpy.ndarray'>\n",
    "```"
   ]
  },
  {
   "cell_type": "code",
   "execution_count": 12,
   "metadata": {
    "slideshow": {
     "slide_type": "slide"
    }
   },
   "outputs": [
    {
     "name": "stdout",
     "output_type": "stream",
     "text": [
      "<class 'numpy.ndarray'>\n"
     ]
    }
   ],
   "source": [
    "x = pd.Series([1, 2, 3])\n",
    "print(type(x.values))"
   ]
  },
  {
   "cell_type": "markdown",
   "metadata": {
    "slideshow": {
     "slide_type": "slide"
    }
   },
   "source": [
    "### The Numerical Python (NumPy) Library -- Cont'd\n",
    "\n",
    "* Python lists and `numpy` arrays are similar in structure. Numpy arrays differ in that they are densely packed with uniform values, as opposed to references to objects. This is especially useful:\n",
    "  * When working with large amounts of data\n",
    "  * Relatively small data fits in cache\n",
    "  * Data can be traversed relatively quickly\n",
    "* `numpy` objects have various `methods` to work with the data they contain"
   ]
  },
  {
   "cell_type": "markdown",
   "metadata": {
    "slideshow": {
     "slide_type": "slide"
    }
   },
   "source": [
    "### Broadcasting\n",
    "\n",
    "* Broadcasting is simply a set of rules for applying binary functions (e.g., addition, subtraction, multiplication, etc.) on arrays of different sizes\n",
    "* Broadcasting follows a strict set of rules to determine the interaction between the two arrays\n",
    "  * When working with arrays in one dimension, the rules are fairly simple:\n",
    "    1. If the shape of the two arrays does not match, the array with a shape equal to 1 is stretched to match the second array\n",
    "    2. If sizes disagree and neither is equal to 1, an error is raised"
   ]
  },
  {
   "cell_type": "code",
   "execution_count": 13,
   "metadata": {
    "slideshow": {
     "slide_type": "slide"
    }
   },
   "outputs": [
    {
     "data": {
      "text/plain": [
       "array([4, 4, 4])"
      ]
     },
     "execution_count": 13,
     "metadata": {},
     "output_type": "execute_result"
    }
   ],
   "source": [
    "x = np.array([1, 2, 3])\n",
    "y = np.array([3, 2, 1])\n",
    "x+y"
   ]
  },
  {
   "cell_type": "code",
   "execution_count": 14,
   "metadata": {
    "slideshow": {
     "slide_type": "slide"
    }
   },
   "outputs": [
    {
     "data": {
      "text/plain": [
       "array([2, 3, 4])"
      ]
     },
     "execution_count": 14,
     "metadata": {},
     "output_type": "execute_result"
    }
   ],
   "source": [
    "x = np.array([1, 2, 3])\n",
    "y = np.array([1])\n",
    "x+y"
   ]
  },
  {
   "cell_type": "code",
   "execution_count": 15,
   "metadata": {
    "slideshow": {
     "slide_type": "slide"
    }
   },
   "outputs": [
    {
     "ename": "ValueError",
     "evalue": "operands could not be broadcast together with shapes (3,) (2,) ",
     "output_type": "error",
     "traceback": [
      "\u001b[0;31m---------------------------------------------------------------------------\u001b[0m",
      "\u001b[0;31mValueError\u001b[0m                                Traceback (most recent call last)",
      "Cell \u001b[0;32mIn [15], line 4\u001b[0m\n\u001b[1;32m      2\u001b[0m x \u001b[38;5;241m=\u001b[39m np\u001b[38;5;241m.\u001b[39marray([\u001b[38;5;241m1\u001b[39m, \u001b[38;5;241m2\u001b[39m, \u001b[38;5;241m3\u001b[39m])\n\u001b[1;32m      3\u001b[0m y \u001b[38;5;241m=\u001b[39m np\u001b[38;5;241m.\u001b[39marray([\u001b[38;5;241m1\u001b[39m, \u001b[38;5;241m2\u001b[39m])\n\u001b[0;32m----> 4\u001b[0m \u001b[43mx\u001b[49m\u001b[38;5;241;43m+\u001b[39;49m\u001b[43my\u001b[49m\n",
      "\u001b[0;31mValueError\u001b[0m: operands could not be broadcast together with shapes (3,) (2,) "
     ]
    }
   ],
   "source": [
    "# Second condition throws and error\n",
    "x = np.array([1, 2, 3])\n",
    "y = np.array([1, 2])\n",
    "x+y"
   ]
  },
  {
   "cell_type": "markdown",
   "metadata": {
    "slideshow": {
     "slide_type": "slide"
    }
   },
   "source": [
    "### Broadcasting\n",
    "\n",
    "<img src=\"https://www.dropbox.com/scl/fi/8fig4p3t4oz0el5vdbqkp/broadcasting.png?rlkey=qr4v5205nyuas81ke7rscy1ao&dl=1\" alt=\"drawing\" style=\"width:500px\">"
   ]
  },
  {
   "cell_type": "markdown",
   "metadata": {
    "slideshow": {
     "slide_type": "slide"
    }
   },
   "source": [
    "### Vectorization: Arithmetic Operations\n",
    "\n",
    "* Arithmetic operations in `pandas`  are vectorized\n",
    "  * You can sum or multiply two columns and the operation would be vectorized, i.e., parallelized\n",
    "  \n",
    "* We explore using a trivial dataset\n",
    "\n",
    "```python\n",
    "df_1 = pd.DataFrame({'AA':{'A':79, 'C':2, 'T':12, 'X':21},\n",
    "                     'BB':{'A':11, 'C':2, 'T':2, 'X':9}})\n",
    "df_1[\"AA\"] + df_2[\"BB\"]                  \n",
    "```\n"
   ]
  },
  {
   "cell_type": "code",
   "execution_count": 16,
   "metadata": {
    "colab": {},
    "colab_type": "code",
    "id": "nPMiIVzJy7cc",
    "slideshow": {
     "slide_type": "slide"
    }
   },
   "outputs": [
    {
     "data": {
      "text/html": [
       "<div>\n",
       "<style scoped>\n",
       "    .dataframe tbody tr th:only-of-type {\n",
       "        vertical-align: middle;\n",
       "    }\n",
       "\n",
       "    .dataframe tbody tr th {\n",
       "        vertical-align: top;\n",
       "    }\n",
       "\n",
       "    .dataframe thead th {\n",
       "        text-align: right;\n",
       "    }\n",
       "</style>\n",
       "<table border=\"1\" class=\"dataframe\">\n",
       "  <thead>\n",
       "    <tr style=\"text-align: right;\">\n",
       "      <th></th>\n",
       "      <th>AA</th>\n",
       "      <th>BB</th>\n",
       "    </tr>\n",
       "  </thead>\n",
       "  <tbody>\n",
       "    <tr>\n",
       "      <th>A</th>\n",
       "      <td>79</td>\n",
       "      <td>11</td>\n",
       "    </tr>\n",
       "    <tr>\n",
       "      <th>C</th>\n",
       "      <td>2</td>\n",
       "      <td>2</td>\n",
       "    </tr>\n",
       "    <tr>\n",
       "      <th>T</th>\n",
       "      <td>13</td>\n",
       "      <td>2</td>\n",
       "    </tr>\n",
       "    <tr>\n",
       "      <th>X</th>\n",
       "      <td>21</td>\n",
       "      <td>9</td>\n",
       "    </tr>\n",
       "  </tbody>\n",
       "</table>\n",
       "</div>"
      ],
      "text/plain": [
       "   AA  BB\n",
       "A  79  11\n",
       "C   2   2\n",
       "T  13   2\n",
       "X  21   9"
      ]
     },
     "execution_count": 16,
     "metadata": {},
     "output_type": "execute_result"
    }
   ],
   "source": [
    "df_1 = pd.DataFrame({'AA':{'A':79, 'C':2, 'T':13, 'X':21},\n",
    "                     'BB':{'A':11, 'C':2, 'T':2, 'X':9}})\n",
    "\n",
    "df_1"
   ]
  },
  {
   "cell_type": "code",
   "execution_count": 17,
   "metadata": {
    "slideshow": {
     "slide_type": "slide"
    }
   },
   "outputs": [
    {
     "data": {
      "text/plain": [
       "A    90\n",
       "C     4\n",
       "T    15\n",
       "X    30\n",
       "dtype: int64"
      ]
     },
     "execution_count": 17,
     "metadata": {},
     "output_type": "execute_result"
    }
   ],
   "source": [
    "df_1[\"AA\"] + df_1[\"BB\"]"
   ]
  },
  {
   "cell_type": "markdown",
   "metadata": {
    "slideshow": {
     "slide_type": "slide"
    }
   },
   "source": [
    "### Arithmetic Operations -- Cont'd\n",
    "\n",
    "* Are not limited to arithmetic operations on the data with the same index \n",
    "  * i.e., `Series` of the same size\n",
    "\n",
    "```python\n",
    "df_2 = pd.DataFrame({'AA':{'A':21, 'D':14, 'T':5},\n",
    "                     'CC':{'A':12, 'D':28, 'T':121}})\n",
    "df_2\n",
    "```"
   ]
  },
  {
   "cell_type": "code",
   "execution_count": 18,
   "metadata": {
    "slideshow": {
     "slide_type": "slide"
    }
   },
   "outputs": [
    {
     "data": {
      "text/html": [
       "<div>\n",
       "<style scoped>\n",
       "    .dataframe tbody tr th:only-of-type {\n",
       "        vertical-align: middle;\n",
       "    }\n",
       "\n",
       "    .dataframe tbody tr th {\n",
       "        vertical-align: top;\n",
       "    }\n",
       "\n",
       "    .dataframe thead th {\n",
       "        text-align: right;\n",
       "    }\n",
       "</style>\n",
       "<table border=\"1\" class=\"dataframe\">\n",
       "  <thead>\n",
       "    <tr style=\"text-align: right;\">\n",
       "      <th></th>\n",
       "      <th>AA</th>\n",
       "      <th>CC</th>\n",
       "    </tr>\n",
       "  </thead>\n",
       "  <tbody>\n",
       "    <tr>\n",
       "      <th>A</th>\n",
       "      <td>21</td>\n",
       "      <td>12</td>\n",
       "    </tr>\n",
       "    <tr>\n",
       "      <th>D</th>\n",
       "      <td>14</td>\n",
       "      <td>28</td>\n",
       "    </tr>\n",
       "    <tr>\n",
       "      <th>T</th>\n",
       "      <td>5</td>\n",
       "      <td>121</td>\n",
       "    </tr>\n",
       "  </tbody>\n",
       "</table>\n",
       "</div>"
      ],
      "text/plain": [
       "   AA   CC\n",
       "A  21   12\n",
       "D  14   28\n",
       "T   5  121"
      ]
     },
     "execution_count": 18,
     "metadata": {},
     "output_type": "execute_result"
    }
   ],
   "source": [
    "df_2 = pd.DataFrame({'AA':{'A':21, 'D':14, 'T':5},\n",
    "                     'CC':{'A':12, 'D':28, 'T':121}})\n",
    "df_2"
   ]
  },
  {
   "cell_type": "code",
   "execution_count": 12,
   "metadata": {
    "slideshow": {
     "slide_type": "slide"
    }
   },
   "outputs": [
    {
     "data": {
      "text/plain": [
       "A    100.0\n",
       "C      NaN\n",
       "D      NaN\n",
       "T     18.0\n",
       "X      NaN\n",
       "Name: AA, dtype: float64"
      ]
     },
     "execution_count": 12,
     "metadata": {},
     "output_type": "execute_result"
    }
   ],
   "source": [
    "df_1[\"AA\"]  + df_2[\"AA\"] "
   ]
  },
  {
   "cell_type": "markdown",
   "metadata": {
    "colab_type": "text",
    "id": "YfChLH62O48W",
    "slideshow": {
     "slide_type": "slide"
    }
   },
   "source": [
    "### Vectorized Arithmetic Between `Series` (`DataFrame` Column)\n",
    "\n",
    "* Column-wise vectorized operations require aligning the data on the index\n",
    "  * A new index is created from the union of the indices of both `Series`\n",
    "  * Missing values in either one of the Series are filled with missing values (`NaN`)\n",
    "\n",
    "<img src=\"https://www.dropbox.com/scl/fi/r0aeoaqfwblq3in3ymlkw/alignment_arithmetic_col.png?rlkey=iosbgr4rknf7mj8vsndwgcypt&dl=1\" alt=\"drawing\" style=\"width:500px\">\n"
   ]
  },
  {
   "cell_type": "markdown",
   "metadata": {
    "colab_type": "text",
    "id": "ErZIn1TSP5KI",
    "slideshow": {
     "slide_type": "slide"
    }
   },
   "source": [
    "### Vectorized Arithmetic Between `Series` (`DataFrame` Row)\n",
    "\n",
    "* Operations on row `Series` work the same way as columns \n",
    "\n",
    "```python\n",
    "df_1.loc[\"A\"] + df_2.loc[\"D\"]\n",
    "```\n",
    "<img src=\"https://www.dropbox.com/scl/fi/bdmi1636ihr5t54kffj9i/E5_5_alignment_arithmetic_row.png?rlkey=w1xfklk9jjag0fo4uf1ba3lqm&dl=1\" alt=\"drawing\" style=\"width:700px\">\n"
   ]
  },
  {
   "cell_type": "code",
   "execution_count": 13,
   "metadata": {
    "colab": {},
    "colab_type": "code",
    "id": "41SxTmdV5wvU",
    "slideshow": {
     "slide_type": "slide"
    }
   },
   "outputs": [
    {
     "data": {
      "text/plain": [
       "AA    93.0\n",
       "BB     NaN\n",
       "CC     NaN\n",
       "dtype: float64"
      ]
     },
     "execution_count": 13,
     "metadata": {},
     "output_type": "execute_result"
    }
   ],
   "source": [
    "df_1.loc[\"A\"] + df_2.loc[\"D\"]"
   ]
  },
  {
   "cell_type": "markdown",
   "metadata": {
    "colab_type": "text",
    "id": "PIG2G5gkPADE",
    "slideshow": {
     "slide_type": "slide"
    }
   },
   "source": [
    "### Vectorized Arithmetic on DataFrames\n",
    "\n",
    "* We can also perform arithmetic operations on the whole `DataFrame`\n",
    "  * This is simply an extension of the alignments on columns or rows\n",
    " \n",
    "\n",
    "```python\n",
    "df_1 + df_2\n",
    "```\n",
    "\n",
    "<img src=\"https://www.dropbox.com/scl/fi/d5nq66w06u4c7v1y20plt/alignment_arithmetic_df.png?rlkey=avbdrlqpq77iof3cqtpoowogc&dl=1\" alt=\"drawing\" style=\"width:750px\">\n"
   ]
  },
  {
   "cell_type": "code",
   "execution_count": 19,
   "metadata": {
    "slideshow": {
     "slide_type": "skip"
    }
   },
   "outputs": [
    {
     "data": {
      "text/html": [
       "<div>\n",
       "<style scoped>\n",
       "    .dataframe tbody tr th:only-of-type {\n",
       "        vertical-align: middle;\n",
       "    }\n",
       "\n",
       "    .dataframe tbody tr th {\n",
       "        vertical-align: top;\n",
       "    }\n",
       "\n",
       "    .dataframe thead th {\n",
       "        text-align: right;\n",
       "    }\n",
       "</style>\n",
       "<table border=\"1\" class=\"dataframe\">\n",
       "  <thead>\n",
       "    <tr style=\"text-align: right;\">\n",
       "      <th></th>\n",
       "      <th>AA</th>\n",
       "      <th>BB</th>\n",
       "    </tr>\n",
       "  </thead>\n",
       "  <tbody>\n",
       "    <tr>\n",
       "      <th>A</th>\n",
       "      <td>100.0</td>\n",
       "      <td>23.0</td>\n",
       "    </tr>\n",
       "    <tr>\n",
       "      <th>C</th>\n",
       "      <td>NaN</td>\n",
       "      <td>NaN</td>\n",
       "    </tr>\n",
       "    <tr>\n",
       "      <th>D</th>\n",
       "      <td>NaN</td>\n",
       "      <td>NaN</td>\n",
       "    </tr>\n",
       "    <tr>\n",
       "      <th>T</th>\n",
       "      <td>17.0</td>\n",
       "      <td>123.0</td>\n",
       "    </tr>\n",
       "    <tr>\n",
       "      <th>X</th>\n",
       "      <td>NaN</td>\n",
       "      <td>NaN</td>\n",
       "    </tr>\n",
       "  </tbody>\n",
       "</table>\n",
       "</div>"
      ],
      "text/plain": [
       "      AA     BB\n",
       "A  100.0   23.0\n",
       "C    NaN    NaN\n",
       "D    NaN    NaN\n",
       "T   17.0  123.0\n",
       "X    NaN    NaN"
      ]
     },
     "execution_count": 19,
     "metadata": {},
     "output_type": "execute_result"
    }
   ],
   "source": [
    "df_1 = pd.DataFrame({'AA':{'A':79, 'C':2, 'T':12, 'X':21},\n",
    "                     'BB':{'A':11, 'C':2, 'T':2, 'X':9}})\n",
    "df_2 = pd.DataFrame({'AA':{'A':21, 'D':14, 'T':5},\n",
    "                     'BB':{'A':12, 'D':28, 'T':121}})\n",
    "df_1 + df_2"
   ]
  },
  {
   "cell_type": "markdown",
   "metadata": {
    "slideshow": {
     "slide_type": "slide"
    }
   },
   "source": [
    "### Question? \n",
    "\n",
    "* What would the outcome be if a column is present in one `DataFrame` and not in the other?\n",
    "\n",
    "* Ex.:  df_1 + df_2?\n",
    "<img src=\"https://www.dropbox.com/scl/fi/ppquie519614d9n6aiwnq/question.png?rlkey=3ox0vktrl3clfxji5k2h8v9h3&dl=1\" alt=\"drawing\" style=\"width:500px\">\n"
   ]
  },
  {
   "cell_type": "code",
   "execution_count": 20,
   "metadata": {
    "slideshow": {
     "slide_type": "skip"
    }
   },
   "outputs": [],
   "source": [
    "df_2 = pd.DataFrame({'AA':{'A':21, 'D':14, 'T':5},\n",
    "                     'CC':{'A':12, 'D':28, 'T':121}})"
   ]
  },
  {
   "cell_type": "code",
   "execution_count": 21,
   "metadata": {
    "colab": {
     "base_uri": "https://localhost:8080/",
     "height": 202
    },
    "colab_type": "code",
    "executionInfo": {
     "elapsed": 408,
     "status": "ok",
     "timestamp": 1534192063202,
     "user": {
      "displayName": "Charles Dickens",
      "photoUrl": "//lh6.googleusercontent.com/-LyFY-SmW2Wk/AAAAAAAAAAI/AAAAAAAAAJc/aBlebAB4Y_M/s50-c-k-no/photo.jpg",
      "userId": "116926057727252856181"
     },
     "user_tz": 600
    },
    "id": "oUlho1G3ne1P",
    "outputId": "643ae759-cf1d-4491-9e28-b60bd60f3cad",
    "slideshow": {
     "slide_type": "slide"
    }
   },
   "outputs": [
    {
     "data": {
      "text/html": [
       "<div>\n",
       "<style scoped>\n",
       "    .dataframe tbody tr th:only-of-type {\n",
       "        vertical-align: middle;\n",
       "    }\n",
       "\n",
       "    .dataframe tbody tr th {\n",
       "        vertical-align: top;\n",
       "    }\n",
       "\n",
       "    .dataframe thead th {\n",
       "        text-align: right;\n",
       "    }\n",
       "</style>\n",
       "<table border=\"1\" class=\"dataframe\">\n",
       "  <thead>\n",
       "    <tr style=\"text-align: right;\">\n",
       "      <th></th>\n",
       "      <th>AA</th>\n",
       "      <th>BB</th>\n",
       "      <th>CC</th>\n",
       "    </tr>\n",
       "  </thead>\n",
       "  <tbody>\n",
       "    <tr>\n",
       "      <th>A</th>\n",
       "      <td>100.0</td>\n",
       "      <td>NaN</td>\n",
       "      <td>NaN</td>\n",
       "    </tr>\n",
       "    <tr>\n",
       "      <th>C</th>\n",
       "      <td>NaN</td>\n",
       "      <td>NaN</td>\n",
       "      <td>NaN</td>\n",
       "    </tr>\n",
       "    <tr>\n",
       "      <th>D</th>\n",
       "      <td>NaN</td>\n",
       "      <td>NaN</td>\n",
       "      <td>NaN</td>\n",
       "    </tr>\n",
       "    <tr>\n",
       "      <th>T</th>\n",
       "      <td>17.0</td>\n",
       "      <td>NaN</td>\n",
       "      <td>NaN</td>\n",
       "    </tr>\n",
       "    <tr>\n",
       "      <th>X</th>\n",
       "      <td>NaN</td>\n",
       "      <td>NaN</td>\n",
       "      <td>NaN</td>\n",
       "    </tr>\n",
       "  </tbody>\n",
       "</table>\n",
       "</div>"
      ],
      "text/plain": [
       "      AA  BB  CC\n",
       "A  100.0 NaN NaN\n",
       "C    NaN NaN NaN\n",
       "D    NaN NaN NaN\n",
       "T   17.0 NaN NaN\n",
       "X    NaN NaN NaN"
      ]
     },
     "execution_count": 21,
     "metadata": {},
     "output_type": "execute_result"
    }
   ],
   "source": [
    "df_1 + df_2"
   ]
  },
  {
   "cell_type": "markdown",
   "metadata": {
    "colab_type": "text",
    "id": "CKrdPyVogezm",
    "slideshow": {
     "slide_type": "slide"
    }
   },
   "source": [
    "### Vectorization Example with the Medical Spending Data Set\n",
    "\n",
    "* An arithmetic operation between two `Series` yields a `Series`\n",
    "  * We can use the resulting `Series` in new computations\n",
    "  \n",
    "\n",
    "* Example: we can compute the average spending per beneficiary of the `spending_df` `DataFrame` using the following step:\n",
    "  1. For each `unique_id` (row), we can divide `spending` by  `nb_beneficiaries`\n",
    "    * This gives us the spending for each beneficiary for each `unique_id`\n",
    "  2. Compute the mean of the resulting values\n"
   ]
  },
  {
   "cell_type": "code",
   "execution_count": 22,
   "metadata": {
    "slideshow": {
     "slide_type": "slide"
    }
   },
   "outputs": [
    {
     "data": {
      "text/html": [
       "<div>\n",
       "<style scoped>\n",
       "    .dataframe tbody tr th:only-of-type {\n",
       "        vertical-align: middle;\n",
       "    }\n",
       "\n",
       "    .dataframe tbody tr th {\n",
       "        vertical-align: top;\n",
       "    }\n",
       "\n",
       "    .dataframe thead th {\n",
       "        text-align: right;\n",
       "    }\n",
       "</style>\n",
       "<table border=\"1\" class=\"dataframe\">\n",
       "  <thead>\n",
       "    <tr style=\"text-align: right;\">\n",
       "      <th></th>\n",
       "      <th>doctor_id</th>\n",
       "      <th>specialty</th>\n",
       "      <th>medication</th>\n",
       "      <th>nb_beneficiaries</th>\n",
       "      <th>spending</th>\n",
       "    </tr>\n",
       "    <tr>\n",
       "      <th>unique_id</th>\n",
       "      <th></th>\n",
       "      <th></th>\n",
       "      <th></th>\n",
       "      <th></th>\n",
       "      <th></th>\n",
       "    </tr>\n",
       "  </thead>\n",
       "  <tbody>\n",
       "    <tr>\n",
       "      <th>NX531425</th>\n",
       "      <td>1255626040</td>\n",
       "      <td>FAMILY PRACTICE</td>\n",
       "      <td>METFORMIN HCL</td>\n",
       "      <td>30</td>\n",
       "      <td>135.24</td>\n",
       "    </tr>\n",
       "    <tr>\n",
       "      <th>QG879256</th>\n",
       "      <td>1699761833</td>\n",
       "      <td>FAMILY PRACTICE</td>\n",
       "      <td>ALLOPURINOL</td>\n",
       "      <td>30</td>\n",
       "      <td>715.76</td>\n",
       "    </tr>\n",
       "    <tr>\n",
       "      <th>FW363228</th>\n",
       "      <td>1538148804</td>\n",
       "      <td>INTERNAL MEDICINE</td>\n",
       "      <td>LOSARTAN POTASSIUM</td>\n",
       "      <td>146</td>\n",
       "      <td>1056.47</td>\n",
       "    </tr>\n",
       "    <tr>\n",
       "      <th>WD733417</th>\n",
       "      <td>1730200619</td>\n",
       "      <td>PSYCHIATRY</td>\n",
       "      <td>OLANZAPINE</td>\n",
       "      <td>13</td>\n",
       "      <td>28226.97</td>\n",
       "    </tr>\n",
       "    <tr>\n",
       "      <th>XW149832</th>\n",
       "      <td>1023116894</td>\n",
       "      <td>FAMILY PRACTICE</td>\n",
       "      <td>PRAVASTATIN SODIUM</td>\n",
       "      <td>348</td>\n",
       "      <td>8199.48</td>\n",
       "    </tr>\n",
       "  </tbody>\n",
       "</table>\n",
       "</div>"
      ],
      "text/plain": [
       "            doctor_id          specialty          medication   \n",
       "unique_id                                                      \n",
       "NX531425   1255626040    FAMILY PRACTICE       METFORMIN HCL  \\\n",
       "QG879256   1699761833    FAMILY PRACTICE         ALLOPURINOL   \n",
       "FW363228   1538148804  INTERNAL MEDICINE  LOSARTAN POTASSIUM   \n",
       "WD733417   1730200619         PSYCHIATRY          OLANZAPINE   \n",
       "XW149832   1023116894    FAMILY PRACTICE  PRAVASTATIN SODIUM   \n",
       "\n",
       "           nb_beneficiaries  spending  \n",
       "unique_id                              \n",
       "NX531425                 30    135.24  \n",
       "QG879256                 30    715.76  \n",
       "FW363228                146   1056.47  \n",
       "WD733417                 13  28226.97  \n",
       "XW149832                348   8199.48  "
      ]
     },
     "execution_count": 22,
     "metadata": {},
     "output_type": "execute_result"
    }
   ],
   "source": [
    "spending_df = pd.read_csv('data/spending_10k.csv', index_col='unique_id')\n",
    "spending_df.head()"
   ]
  },
  {
   "cell_type": "code",
   "execution_count": 23,
   "metadata": {
    "slideshow": {
     "slide_type": "slide"
    }
   },
   "outputs": [
    {
     "data": {
      "text/plain": [
       "pandas.core.series.Series"
      ]
     },
     "execution_count": 23,
     "metadata": {},
     "output_type": "execute_result"
    }
   ],
   "source": [
    "spending_benef =  spending_df['spending'] / spending_df['nb_beneficiaries']\n",
    "\n",
    "type(spending_benef)"
   ]
  },
  {
   "cell_type": "code",
   "execution_count": 24,
   "metadata": {
    "slideshow": {
     "slide_type": "slide"
    }
   },
   "outputs": [
    {
     "data": {
      "text/plain": [
       "unique_id\n",
       "NX531425       4.508000\n",
       "QG879256      23.858667\n",
       "FW363228       7.236096\n",
       "WD733417    2171.305385\n",
       "XW149832      23.561724\n",
       "               ...     \n",
       "ZK471712       7.081061\n",
       "QM412803       7.266515\n",
       "NN242894       3.525000\n",
       "ER452896      51.684865\n",
       "WH309636       2.113333\n",
       "Length: 10000, dtype: float64"
      ]
     },
     "execution_count": 24,
     "metadata": {},
     "output_type": "execute_result"
    }
   ],
   "source": [
    "spending_benef"
   ]
  },
  {
   "cell_type": "code",
   "execution_count": 19,
   "metadata": {
    "slideshow": {
     "slide_type": "slide"
    }
   },
   "outputs": [
    {
     "data": {
      "text/plain": [
       "131.92616419345254"
      ]
     },
     "execution_count": 19,
     "metadata": {},
     "output_type": "execute_result"
    }
   ],
   "source": [
    "spending_benef.mean()"
   ]
  },
  {
   "cell_type": "code",
   "execution_count": 20,
   "metadata": {
    "colab": {},
    "colab_type": "code",
    "id": "O9yZ2OYGftw6",
    "slideshow": {
     "slide_type": "slide"
    }
   },
   "outputs": [
    {
     "data": {
      "text/plain": [
       "131.92616419345254"
      ]
     },
     "execution_count": 20,
     "metadata": {},
     "output_type": "execute_result"
    }
   ],
   "source": [
    "# operation chaining\n",
    "(spending_df['spending'] / spending_df['nb_beneficiaries']).mean()"
   ]
  },
  {
   "cell_type": "markdown",
   "metadata": {
    "colab_type": "text",
    "id": "r5pyeKdsiMyT",
    "slideshow": {
     "slide_type": "slide"
    }
   },
   "source": [
    "### Broadcasting\n",
    "\n",
    "* What happens with an arithmetic operation that involves a `Series` and a single value (`scalar`)?\n",
    "  * The logic is the same for `DataFrame` and a single value\n",
    "\n",
    "* The `scalar` is expanded (broadcasted) to fit the dimension of the `Series` (or `DataFrame`)\n",
    "  \n",
    "```python\n",
    "df_1['AA'] + 1.2\n",
    "```"
   ]
  },
  {
   "cell_type": "markdown",
   "metadata": {
    "colab": {},
    "colab_type": "code",
    "id": "UYL_NlZmnmFu",
    "slideshow": {
     "slide_type": "slide"
    }
   },
   "source": [
    "### Broadcasting -- Cont'd\n",
    "\n",
    "<img src=\"https://www.dropbox.com/scl/fi/g7k95046sa33mbiqsao7y/alignment.png?rlkey=qwzuulgxwnwknx4u1yr1nrivf&dl=1\" alt=\"drawing\" style=\"width:600px\">\n"
   ]
  },
  {
   "cell_type": "markdown",
   "metadata": {
    "colab_type": "text",
    "id": "scMKa-1MgEWn",
    "slideshow": {
     "slide_type": "slide"
    }
   },
   "source": [
    "### Subsetting\n",
    "\n",
    "\n",
    "* We often need to subset a dataset and we know how to subset a dataset to extract a single row\n",
    "\n",
    "```python \n",
    "spending_df.iloc[1]\n",
    "```\n",
    "* We know how to subset a dataset to extract a range of rows\n",
    "\n",
    "```python \n",
    "spending_df.iloc[1:32]\n",
    "```\n",
    "\n",
    "* But it's also very useful to subset the data based on some condition:\n",
    "  * Extract all the entries in cardiology\n",
    "  * How many flights out of HNL were going to Nebraska?\n",
    "  * How many Biki bicycles were checked out in a specific geographical region (e.g., Manoa)?"
   ]
  },
  {
   "cell_type": "markdown",
   "metadata": {
    "colab_type": "text",
    "id": "dCjOGvOmh7OG",
    "slideshow": {
     "slide_type": "slide"
    }
   },
   "source": [
    "### Comparison Operations\n",
    "\n",
    "* Comparison operators (\"`<`\" , \"`>`\" , \"`==`\" , \"`>=`\" , \"`<=`\" , \"`!=`\") are applied in the same fashion as arithmetic operations \n",
    "\n",
    "  * Result in Booleans (True or False)\n",
    "\n",
    "```python\n",
    ">>> df_3 = pd.DataFrame({'AA':{'A':64, 'C':2, 'T':6, 'X':22}, \n",
    "                         'BB':{'A':3,  'C':2, 'T':7, 'X':12}})\n",
    "```\n",
    "\n",
    "```python\n",
    ">>> df_1.loc[:, \"AA\"] > df_3.loc[:, \"AA\"]\n",
    "A     True\n",
    "C    False\n",
    "T     True\n",
    "X    False\n",
    "Name: AA, dtype: bool\n",
    "```\n",
    "\n"
   ]
  },
  {
   "cell_type": "markdown",
   "metadata": {
    "slideshow": {
     "slide_type": "slide"
    }
   },
   "source": [
    "### Comparison Result\n",
    "\n",
    "* Result of the comparison is a `Series` with the same indices in `df_1` and `df_3` \n",
    "  * IMPORTANT: comparisons between two `Series` or `DataFrames` can only be carried out if both objects are identically labeled\n",
    "  * Have the same row **and** column names\n",
    "\n",
    "* All entries are of type `bool`\n",
    "  * `True` is the position passed the comparison test and `False` otherwise\n",
    "\n",
    "```python\n",
    ">>> df_1.loc[:, \"AA\"] > df_2.loc[:, \"AA\"]\n",
    "...\n",
    "ValueError: Can only compare identically-labeled Series objects\n",
    "```"
   ]
  },
  {
   "cell_type": "code",
   "execution_count": 21,
   "metadata": {
    "colab": {},
    "colab_type": "code",
    "id": "EDN5mfqQn19O",
    "slideshow": {
     "slide_type": "slide"
    }
   },
   "outputs": [
    {
     "data": {
      "text/plain": [
       "A     True\n",
       "C    False\n",
       "T     True\n",
       "X    False\n",
       "Name: AA, dtype: bool"
      ]
     },
     "execution_count": 21,
     "metadata": {},
     "output_type": "execute_result"
    }
   ],
   "source": [
    "df_1 = pd.DataFrame({'AA':{'A':79, 'C':2, 'T':13, 'X':21},\n",
    "                     'BB':{'A':11, 'C':2, 'T':2, 'X':9}})\n",
    "df_3 = pd.DataFrame({'AA':{'A':64, 'C':2, 'T':6, 'X':22},\n",
    "                     'BB':{'A':3,  'C':2, 'T':7, 'X':12}})\n",
    "\n",
    "df_1[\"AA\"] > df_3[\"AA\"]"
   ]
  },
  {
   "cell_type": "code",
   "execution_count": 22,
   "metadata": {
    "slideshow": {
     "slide_type": "slide"
    }
   },
   "outputs": [
    {
     "ename": "ValueError",
     "evalue": "Can only compare identically-labeled Series objects",
     "output_type": "error",
     "traceback": [
      "\u001b[1;31m---------------------------------------------------------------------------\u001b[0m",
      "\u001b[1;31mValueError\u001b[0m                                Traceback (most recent call last)",
      "Cell \u001b[1;32mIn[22], line 5\u001b[0m\n\u001b[0;32m      1\u001b[0m \u001b[38;5;66;03m## Not the same number of rows now the same index\u001b[39;00m\n\u001b[0;32m      3\u001b[0m df_4 \u001b[38;5;241m=\u001b[39m pd\u001b[38;5;241m.\u001b[39mDataFrame({\u001b[38;5;124m'\u001b[39m\u001b[38;5;124mAA\u001b[39m\u001b[38;5;124m'\u001b[39m:{\u001b[38;5;124m'\u001b[39m\u001b[38;5;124mI\u001b[39m\u001b[38;5;124m'\u001b[39m:\u001b[38;5;241m64\u001b[39m, \u001b[38;5;124m'\u001b[39m\u001b[38;5;124mJ\u001b[39m\u001b[38;5;124m'\u001b[39m:\u001b[38;5;241m2\u001b[39m, \u001b[38;5;124m'\u001b[39m\u001b[38;5;124mK\u001b[39m\u001b[38;5;124m'\u001b[39m:\u001b[38;5;241m6\u001b[39m}})\n\u001b[1;32m----> 5\u001b[0m \u001b[43mdf_1\u001b[49m\u001b[43m[\u001b[49m\u001b[38;5;124;43m\"\u001b[39;49m\u001b[38;5;124;43mAA\u001b[39;49m\u001b[38;5;124;43m\"\u001b[39;49m\u001b[43m]\u001b[49m\u001b[43m \u001b[49m\u001b[38;5;241;43m>\u001b[39;49m\u001b[43m \u001b[49m\u001b[43mdf_4\u001b[49m\u001b[43m[\u001b[49m\u001b[38;5;124;43m\"\u001b[39;49m\u001b[38;5;124;43mAA\u001b[39;49m\u001b[38;5;124;43m\"\u001b[39;49m\u001b[43m]\u001b[49m\n",
      "File \u001b[1;32m~\\anaconda3\\lib\\site-packages\\pandas\\core\\ops\\common.py:70\u001b[0m, in \u001b[0;36m_unpack_zerodim_and_defer.<locals>.new_method\u001b[1;34m(self, other)\u001b[0m\n\u001b[0;32m     66\u001b[0m             \u001b[38;5;28;01mreturn\u001b[39;00m \u001b[38;5;28mNotImplemented\u001b[39m\n\u001b[0;32m     68\u001b[0m other \u001b[38;5;241m=\u001b[39m item_from_zerodim(other)\n\u001b[1;32m---> 70\u001b[0m \u001b[38;5;28;01mreturn\u001b[39;00m \u001b[43mmethod\u001b[49m\u001b[43m(\u001b[49m\u001b[38;5;28;43mself\u001b[39;49m\u001b[43m,\u001b[49m\u001b[43m \u001b[49m\u001b[43mother\u001b[49m\u001b[43m)\u001b[49m\n",
      "File \u001b[1;32m~\\anaconda3\\lib\\site-packages\\pandas\\core\\arraylike.py:56\u001b[0m, in \u001b[0;36mOpsMixin.__gt__\u001b[1;34m(self, other)\u001b[0m\n\u001b[0;32m     54\u001b[0m \u001b[38;5;129m@unpack_zerodim_and_defer\u001b[39m(\u001b[38;5;124m\"\u001b[39m\u001b[38;5;124m__gt__\u001b[39m\u001b[38;5;124m\"\u001b[39m)\n\u001b[0;32m     55\u001b[0m \u001b[38;5;28;01mdef\u001b[39;00m \u001b[38;5;21m__gt__\u001b[39m(\u001b[38;5;28mself\u001b[39m, other):\n\u001b[1;32m---> 56\u001b[0m     \u001b[38;5;28;01mreturn\u001b[39;00m \u001b[38;5;28;43mself\u001b[39;49m\u001b[38;5;241;43m.\u001b[39;49m\u001b[43m_cmp_method\u001b[49m\u001b[43m(\u001b[49m\u001b[43mother\u001b[49m\u001b[43m,\u001b[49m\u001b[43m \u001b[49m\u001b[43moperator\u001b[49m\u001b[38;5;241;43m.\u001b[39;49m\u001b[43mgt\u001b[49m\u001b[43m)\u001b[49m\n",
      "File \u001b[1;32m~\\anaconda3\\lib\\site-packages\\pandas\\core\\series.py:5617\u001b[0m, in \u001b[0;36mSeries._cmp_method\u001b[1;34m(self, other, op)\u001b[0m\n\u001b[0;32m   5614\u001b[0m res_name \u001b[38;5;241m=\u001b[39m ops\u001b[38;5;241m.\u001b[39mget_op_result_name(\u001b[38;5;28mself\u001b[39m, other)\n\u001b[0;32m   5616\u001b[0m \u001b[38;5;28;01mif\u001b[39;00m \u001b[38;5;28misinstance\u001b[39m(other, Series) \u001b[38;5;129;01mand\u001b[39;00m \u001b[38;5;129;01mnot\u001b[39;00m \u001b[38;5;28mself\u001b[39m\u001b[38;5;241m.\u001b[39m_indexed_same(other):\n\u001b[1;32m-> 5617\u001b[0m     \u001b[38;5;28;01mraise\u001b[39;00m \u001b[38;5;167;01mValueError\u001b[39;00m(\u001b[38;5;124m\"\u001b[39m\u001b[38;5;124mCan only compare identically-labeled Series objects\u001b[39m\u001b[38;5;124m\"\u001b[39m)\n\u001b[0;32m   5619\u001b[0m lvalues \u001b[38;5;241m=\u001b[39m \u001b[38;5;28mself\u001b[39m\u001b[38;5;241m.\u001b[39m_values\n\u001b[0;32m   5620\u001b[0m rvalues \u001b[38;5;241m=\u001b[39m extract_array(other, extract_numpy\u001b[38;5;241m=\u001b[39m\u001b[38;5;28;01mTrue\u001b[39;00m, extract_range\u001b[38;5;241m=\u001b[39m\u001b[38;5;28;01mTrue\u001b[39;00m)\n",
      "\u001b[1;31mValueError\u001b[0m: Can only compare identically-labeled Series objects"
     ]
    }
   ],
   "source": [
    "## Not the same number of rows now the same index\n",
    "\n",
    "df_4 = pd.DataFrame({'AA':{'I':64, 'J':2, 'K':6}})\n",
    "\n",
    "df_1[\"AA\"] > df_4[\"AA\"]"
   ]
  },
  {
   "cell_type": "markdown",
   "metadata": {
    "colab_type": "text",
    "id": "E-MJyvA0V_kc",
    "slideshow": {
     "slide_type": "slide"
    }
   },
   "source": [
    "### Comparison Operations  and Indexing\n",
    "\n",
    "* Comparison operators are ideal for querying and subsetting\n",
    "\n",
    "  * SQL-like functionality although at much lower efficiency (both RAM and CPU intensive compared to dedicated DBMS)\n",
    "  \n",
    "\n",
    "* We can subset a `Series` using a *list* (`[]`) of `Boolean`s that has the same size\n",
    "\n"
   ]
  },
  {
   "cell_type": "code",
   "execution_count": 26,
   "metadata": {
    "slideshow": {
     "slide_type": "slide"
    }
   },
   "outputs": [
    {
     "data": {
      "text/plain": [
       "0    95\n",
       "2    67\n",
       "dtype: int64"
      ]
     },
     "execution_count": 26,
     "metadata": {},
     "output_type": "execute_result"
    }
   ],
   "source": [
    "x = pd.Series([95, 23, 67])\n",
    "\n",
    "my_filter = pd.Series([True, False, True])\n",
    "\n",
    "x[my_filter]"
   ]
  },
  {
   "cell_type": "code",
   "execution_count": 27,
   "metadata": {
    "colab": {},
    "colab_type": "code",
    "id": "X71kcE8ZpMWx",
    "slideshow": {
     "slide_type": "slide"
    }
   },
   "outputs": [
    {
     "data": {
      "text/plain": [
       "A    79\n",
       "C     2\n",
       "Name: AA, dtype: int64"
      ]
     },
     "execution_count": 27,
     "metadata": {},
     "output_type": "execute_result"
    }
   ],
   "source": [
    "boolean_list = [True, True, False, False]\n",
    "df_1.loc[:, 'AA'][boolean_list]"
   ]
  },
  {
   "cell_type": "code",
   "execution_count": 28,
   "metadata": {
    "slideshow": {
     "slide_type": "slide"
    }
   },
   "outputs": [
    {
     "data": {
      "text/plain": [
       "A     True\n",
       "C    False\n",
       "T     True\n",
       "X     True\n",
       "Name: AA, dtype: bool"
      ]
     },
     "execution_count": 28,
     "metadata": {},
     "output_type": "execute_result"
    }
   ],
   "source": [
    "df_1['AA'] > 3"
   ]
  },
  {
   "cell_type": "markdown",
   "metadata": {
    "slideshow": {
     "slide_type": "slide"
    }
   },
   "source": [
    "### Comparison Operations  and Indexing -- Cont'd\n",
    "\n",
    "* Subsetting can also leverage broadcasting\n",
    "<img src=\"https://www.dropbox.com/scl/fi/ly9rt948jrdznobeycatb/E4_2_filter_dataframe.png?rlkey=rbx13q2m3rwi8nr5ddzrhyhx3&dl=1\" alt=\"drawing\" style=\"width:600px\">\n"
   ]
  },
  {
   "cell_type": "markdown",
   "metadata": {
    "colab_type": "text",
    "id": "3YRBdeK5h--o",
    "slideshow": {
     "slide_type": "slide"
    }
   },
   "source": [
    "### Boolean Operations\n",
    "\n",
    "* Conditional expressions allow us to create more sophisticated queries for our dataset\n",
    "  * Queries commonly rely on boolean logic (boolean operators)\n",
    "\n",
    "* Pandas' `Boolean` operations are slightly different from Python's\n",
    "\n",
    " * `and` is replaced with `&` \n",
    " * `or` is replaced with `|`\n",
    " * `not` is replaced with `~`\n",
    " \n",
    "* The operators above return a boolean object of the same shape as the input"
   ]
  },
  {
   "cell_type": "markdown",
   "metadata": {
    "slideshow": {
     "slide_type": "slide"
    }
   },
   "source": [
    "### Boolean Operations Example\n",
    "\n",
    "* Find instances in df_1 where values in columns \"AA\" and \"BB\" are greater than 3.\n",
    "```python\n",
    ">>> true_false_series = (df_1['AA'] > 3) & (df_1['BB'] > 3) \n",
    ">>> true_false_series\n",
    "A     True\n",
    "C    False\n",
    "T    False\n",
    "X     True\n",
    "dtype: bool\n",
    "```"
   ]
  },
  {
   "cell_type": "code",
   "execution_count": 26,
   "metadata": {
    "slideshow": {
     "slide_type": "slide"
    }
   },
   "outputs": [
    {
     "data": {
      "text/plain": [
       "A     True\n",
       "C    False\n",
       "T    False\n",
       "X     True\n",
       "dtype: bool"
      ]
     },
     "execution_count": 26,
     "metadata": {},
     "output_type": "execute_result"
    }
   ],
   "source": [
    "true_false_series = (df_1['AA'] > 3) & (df_1['BB'] > 3) \n",
    "true_false_series"
   ]
  },
  {
   "cell_type": "code",
   "execution_count": 27,
   "metadata": {
    "slideshow": {
     "slide_type": "slide"
    }
   },
   "outputs": [
    {
     "data": {
      "text/html": [
       "<div>\n",
       "<style scoped>\n",
       "    .dataframe tbody tr th:only-of-type {\n",
       "        vertical-align: middle;\n",
       "    }\n",
       "\n",
       "    .dataframe tbody tr th {\n",
       "        vertical-align: top;\n",
       "    }\n",
       "\n",
       "    .dataframe thead th {\n",
       "        text-align: right;\n",
       "    }\n",
       "</style>\n",
       "<table border=\"1\" class=\"dataframe\">\n",
       "  <thead>\n",
       "    <tr style=\"text-align: right;\">\n",
       "      <th></th>\n",
       "      <th>AA</th>\n",
       "      <th>BB</th>\n",
       "    </tr>\n",
       "  </thead>\n",
       "  <tbody>\n",
       "    <tr>\n",
       "      <th>A</th>\n",
       "      <td>79</td>\n",
       "      <td>11</td>\n",
       "    </tr>\n",
       "    <tr>\n",
       "      <th>X</th>\n",
       "      <td>21</td>\n",
       "      <td>9</td>\n",
       "    </tr>\n",
       "  </tbody>\n",
       "</table>\n",
       "</div>"
      ],
      "text/plain": [
       "   AA  BB\n",
       "A  79  11\n",
       "X  21   9"
      ]
     },
     "execution_count": 27,
     "metadata": {},
     "output_type": "execute_result"
    }
   ],
   "source": [
    "df_1[true_false_series]"
   ]
  },
  {
   "cell_type": "code",
   "execution_count": 28,
   "metadata": {
    "slideshow": {
     "slide_type": "-"
    }
   },
   "outputs": [
    {
     "data": {
      "text/html": [
       "<div>\n",
       "<style scoped>\n",
       "    .dataframe tbody tr th:only-of-type {\n",
       "        vertical-align: middle;\n",
       "    }\n",
       "\n",
       "    .dataframe tbody tr th {\n",
       "        vertical-align: top;\n",
       "    }\n",
       "\n",
       "    .dataframe thead th {\n",
       "        text-align: right;\n",
       "    }\n",
       "</style>\n",
       "<table border=\"1\" class=\"dataframe\">\n",
       "  <thead>\n",
       "    <tr style=\"text-align: right;\">\n",
       "      <th></th>\n",
       "      <th>AA</th>\n",
       "      <th>BB</th>\n",
       "    </tr>\n",
       "  </thead>\n",
       "  <tbody>\n",
       "    <tr>\n",
       "      <th>A</th>\n",
       "      <td>79</td>\n",
       "      <td>11</td>\n",
       "    </tr>\n",
       "    <tr>\n",
       "      <th>X</th>\n",
       "      <td>21</td>\n",
       "      <td>9</td>\n",
       "    </tr>\n",
       "  </tbody>\n",
       "</table>\n",
       "</div>"
      ],
      "text/plain": [
       "   AA  BB\n",
       "A  79  11\n",
       "X  21   9"
      ]
     },
     "execution_count": 28,
     "metadata": {},
     "output_type": "execute_result"
    }
   ],
   "source": [
    "df_1[(df_1['AA'] > 3) & (df_1['BB'] > 3)]"
   ]
  },
  {
   "cell_type": "markdown",
   "metadata": {
    "colab_type": "text",
    "id": "3HzjmNVfuWXi",
    "slideshow": {
     "slide_type": "slide"
    }
   },
   "source": [
    "### Boolean Operations Examples with the Medical Spending Data Set\n",
    "\n",
    "\n",
    "* Let's subset the `spending_df` to retain rows that:\n",
    "\n",
    "  * Have 'DENTIST' as `specialty` \n",
    "  * Have spending below \\$100 \n",
    "  \n",
    "* Save results to a new `DataFrame`"
   ]
  },
  {
   "cell_type": "markdown",
   "metadata": {
    "slideshow": {
     "slide_type": "slide"
    }
   },
   "source": [
    "### Examples - Cont'd\n",
    "\n",
    "* Have 'DENTIST' as `specialty`\n",
    "\n",
    "```python\n",
    "spending_df['specialty'] == 'DENTIST'\n",
    "``` "
   ]
  },
  {
   "cell_type": "code",
   "execution_count": 29,
   "metadata": {
    "slideshow": {
     "slide_type": "slide"
    }
   },
   "outputs": [
    {
     "data": {
      "text/plain": [
       "unique_id\n",
       "NX531425    False\n",
       "QG879256    False\n",
       "FW363228    False\n",
       "WD733417    False\n",
       "XW149832    False\n",
       "Name: specialty, dtype: bool"
      ]
     },
     "execution_count": 29,
     "metadata": {},
     "output_type": "execute_result"
    }
   ],
   "source": [
    "(spending_df['specialty'] == 'DENTIST').head()"
   ]
  },
  {
   "cell_type": "markdown",
   "metadata": {
    "slideshow": {
     "slide_type": "slide"
    }
   },
   "source": [
    "### Examples -- Cont'd\n",
    "\n",
    "* Have spending below \\$100 \n",
    "    \n",
    "```python \n",
    "spending_df['spending'] < 100\n",
    "``` "
   ]
  },
  {
   "cell_type": "code",
   "execution_count": 30,
   "metadata": {
    "slideshow": {
     "slide_type": "slide"
    }
   },
   "outputs": [
    {
     "data": {
      "text/plain": [
       "unique_id\n",
       "NX531425    False\n",
       "QG879256    False\n",
       "FW363228    False\n",
       "WD733417    False\n",
       "XW149832    False\n",
       "Name: spending, dtype: bool"
      ]
     },
     "execution_count": 30,
     "metadata": {},
     "output_type": "execute_result"
    }
   ],
   "source": [
    "(spending_df['spending'] < 100).head()"
   ]
  },
  {
   "cell_type": "markdown",
   "metadata": {
    "slideshow": {
     "slide_type": "skip"
    }
   },
   "source": [
    "### Examples -- Cont'd\n",
    "\n",
    "\n",
    "* Combine both conditions\n",
    "\n",
    "```python\n",
    "(spending_df.loc[:, 'specialty'] == 'DENTIST') & (spending_df.loc[:, 'spending'] < 100)\n",
    "```"
   ]
  },
  {
   "cell_type": "markdown",
   "metadata": {
    "slideshow": {
     "slide_type": "slide"
    }
   },
   "source": [
    "### Examples -- Cont'd\n",
    "\n",
    "\n",
    "* Combine both conditions\n",
    "\n",
    "```python\n",
    "(spending_df['specialty'] == 'DENTIST') & (spending_df['spending'] < 100)\n",
    "```"
   ]
  },
  {
   "cell_type": "code",
   "execution_count": 29,
   "metadata": {
    "slideshow": {
     "slide_type": "slide"
    }
   },
   "outputs": [
    {
     "data": {
      "text/plain": [
       "unique_id\n",
       "NX531425    False\n",
       "QG879256    False\n",
       "FW363228    False\n",
       "WD733417    False\n",
       "XW149832    False\n",
       "            ...  \n",
       "ZK471712    False\n",
       "QM412803    False\n",
       "NN242894    False\n",
       "ER452896    False\n",
       "WH309636    False\n",
       "Length: 10000, dtype: bool"
      ]
     },
     "execution_count": 29,
     "metadata": {},
     "output_type": "execute_result"
    }
   ],
   "source": [
    "(spending_df['specialty'] == 'DENTIST') & (spending_df['spending'] < 100)"
   ]
  },
  {
   "cell_type": "markdown",
   "metadata": {
    "slideshow": {
     "slide_type": "skip"
    }
   },
   "source": [
    "### Examples -- Cont'd\n",
    "\n",
    "* Subset the original dataset\n",
    "\n",
    "```python\n",
    "dentist_and_small_spending = (spending_df.loc[:, 'specialty'] == 'DENTIST') & (spending_df.loc[:, 'spending'] < 100)\n",
    "spending_df.loc[dentist_and_small_spending]\n",
    "```"
   ]
  },
  {
   "cell_type": "markdown",
   "metadata": {
    "slideshow": {
     "slide_type": "slide"
    }
   },
   "source": [
    "### Examples -- Cont'd\n",
    "\n",
    "* Subset the original dataset\n",
    "\n",
    "```python\n",
    "dentist_and_small_spending = (spending_df['specialty'] == 'DENTIST') & (spending_df['spending'] < 100)\n",
    "spending_df.loc[dentist_and_small_spending]\n",
    "```"
   ]
  },
  {
   "cell_type": "code",
   "execution_count": 32,
   "metadata": {
    "slideshow": {
     "slide_type": "slide"
    }
   },
   "outputs": [
    {
     "data": {
      "text/html": [
       "<div>\n",
       "<style scoped>\n",
       "    .dataframe tbody tr th:only-of-type {\n",
       "        vertical-align: middle;\n",
       "    }\n",
       "\n",
       "    .dataframe tbody tr th {\n",
       "        vertical-align: top;\n",
       "    }\n",
       "\n",
       "    .dataframe thead th {\n",
       "        text-align: right;\n",
       "    }\n",
       "</style>\n",
       "<table border=\"1\" class=\"dataframe\">\n",
       "  <thead>\n",
       "    <tr style=\"text-align: right;\">\n",
       "      <th></th>\n",
       "      <th>doctor_id</th>\n",
       "      <th>specialty</th>\n",
       "      <th>medication</th>\n",
       "      <th>nb_beneficiaries</th>\n",
       "      <th>spending</th>\n",
       "    </tr>\n",
       "    <tr>\n",
       "      <th>unique_id</th>\n",
       "      <th></th>\n",
       "      <th></th>\n",
       "      <th></th>\n",
       "      <th></th>\n",
       "      <th></th>\n",
       "    </tr>\n",
       "  </thead>\n",
       "  <tbody>\n",
       "    <tr>\n",
       "      <th>XY759578</th>\n",
       "      <td>1114930567</td>\n",
       "      <td>DENTIST</td>\n",
       "      <td>IBUPROFEN</td>\n",
       "      <td>23</td>\n",
       "      <td>67.19</td>\n",
       "    </tr>\n",
       "    <tr>\n",
       "      <th>NR408938</th>\n",
       "      <td>1407936230</td>\n",
       "      <td>DENTIST</td>\n",
       "      <td>IBUPROFEN</td>\n",
       "      <td>20</td>\n",
       "      <td>64.20</td>\n",
       "    </tr>\n",
       "    <tr>\n",
       "      <th>KK703203</th>\n",
       "      <td>1669464095</td>\n",
       "      <td>DENTIST</td>\n",
       "      <td>CLINDAMYCIN HCL</td>\n",
       "      <td>14</td>\n",
       "      <td>94.95</td>\n",
       "    </tr>\n",
       "    <tr>\n",
       "      <th>RI403710</th>\n",
       "      <td>1063709178</td>\n",
       "      <td>DENTIST</td>\n",
       "      <td>HYDROCODONE/ACETAMINOPHEN</td>\n",
       "      <td>14</td>\n",
       "      <td>74.48</td>\n",
       "    </tr>\n",
       "    <tr>\n",
       "      <th>YM646458</th>\n",
       "      <td>1528120383</td>\n",
       "      <td>DENTIST</td>\n",
       "      <td>AMOXICILLIN</td>\n",
       "      <td>23</td>\n",
       "      <td>63.84</td>\n",
       "    </tr>\n",
       "  </tbody>\n",
       "</table>\n",
       "</div>"
      ],
      "text/plain": [
       "            doctor_id specialty                 medication  nb_beneficiaries  \\\n",
       "unique_id                                                                      \n",
       "XY759578   1114930567   DENTIST                  IBUPROFEN                23   \n",
       "NR408938   1407936230   DENTIST                  IBUPROFEN                20   \n",
       "KK703203   1669464095   DENTIST            CLINDAMYCIN HCL                14   \n",
       "RI403710   1063709178   DENTIST  HYDROCODONE/ACETAMINOPHEN                14   \n",
       "YM646458   1528120383   DENTIST                AMOXICILLIN                23   \n",
       "\n",
       "           spending  \n",
       "unique_id            \n",
       "XY759578      67.19  \n",
       "NR408938      64.20  \n",
       "KK703203      94.95  \n",
       "RI403710      74.48  \n",
       "YM646458      63.84  "
      ]
     },
     "execution_count": 32,
     "metadata": {},
     "output_type": "execute_result"
    }
   ],
   "source": [
    "dentist_and_small_spending = (spending_df['specialty'] == 'DENTIST') & (spending_df['spending'] < 100)\n",
    "spending_df.loc[dentist_and_small_spending].head()"
   ]
  }
 ],
 "metadata": {
  "celltoolbar": "Slideshow",
  "colab": {
   "collapsed_sections": [
    "0LJYevev1Ppg"
   ],
   "name": "3_Exploring_Data.ipynb",
   "provenance": [],
   "toc_visible": true,
   "version": "0.3.2"
  },
  "hide_input": false,
  "kernelspec": {
   "display_name": "Python 3 (ipykernel)",
   "language": "python",
   "name": "python3"
  },
  "language_info": {
   "codemirror_mode": {
    "name": "ipython",
    "version": 3
   },
   "file_extension": ".py",
   "mimetype": "text/x-python",
   "name": "python",
   "nbconvert_exporter": "python",
   "pygments_lexer": "ipython3",
   "version": "3.9.16"
  }
 },
 "nbformat": 4,
 "nbformat_minor": 1
}
