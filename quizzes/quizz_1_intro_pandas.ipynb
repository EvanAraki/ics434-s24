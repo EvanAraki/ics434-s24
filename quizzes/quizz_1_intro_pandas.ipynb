{
 "cells": [
  {
   "attachments": {},
   "cell_type": "markdown",
   "id": "0a145f0d-89a2-44a9-97d0-771a8a8b8776",
   "metadata": {},
   "source": [
    "#### 1. To load the dataset shown in the image below, which command is appropriate? The dataset is named `spending.csv` and is located in the current directory. Additionally, the column order in `spending.csv` matches the order presented in the image.\n",
    "\n",
    "\n",
    "![image.png](attachment:6d79e1bc-aefd-4a5e-906e-f451f214abb4.png)\n",
    "\n",
    "```python\n",
    "1- pd.read_csv(\"spending.csv\", index_col=\"unique_id\")\n",
    "2- pd.read_csv(\"spending.csv\", columns=\"unique_id\")\n",
    "3- pd.read_csv(\"spending.csv\")\n",
    "4- pd.read_csv(\"spending.csv\", ncols=3, usecols=[\"unique_id\", \"specialty\"])\n",
    "```\n"
   ]
  },
  {
   "cell_type": "markdown",
   "id": "64ccd67b-baba-456b-8298-abf19600bed0",
   "metadata": {},
   "source": [
    "#### 2. Assuming the data was saved to `spending_df`, which of the following solutions **are** valid ways  select the column `nb_beneficiaries` from the dataframe above?\n",
    "   \n",
    "```python\n",
    "1- spending_df.iloc[:, 3]\n",
    "2- spending_df.loc[:, \"nb_beneficiaries\"]\n",
    "3- spending_df[\"nb_beneficiaries\"]\n",
    "4- all of the above\n",
    "```\n"
   ]
  },
  {
   "cell_type": "markdown",
   "id": "c6a0e23b-f94e-47a2-895c-eb116d97abcd",
   "metadata": {},
   "source": [
    "#### 3. Assuming the data was saved to spending_df, which of the following solutions is a valid way select rows 0, 3, 7 and 21 from the dataframe above?\n",
    "```python\n",
    "1- spending_df[[0, 3, 7, 21]]\n",
    "2- spending_df[[0, 3, 7, 21],:]\n",
    "3- spending_df.iloc[[0, 3, 7, 21]]\n",
    "4- spending_df.iloc[0, 3, 7, 21]\n",
    "```"
   ]
  },
  {
   "cell_type": "markdown",
   "id": "1275389d-f277-4e38-b04c-cd181ce12ddf",
   "metadata": {},
   "source": [
    "#### 4. Which method can be used to count the number of missing values (NaN) in each column as shown below?\n",
    "\n",
    "```\n",
    "doctor_id           0\n",
    "specialty           6\n",
    "medication          1\n",
    "nb_beneficiaries    4\n",
    "spending            4\n",
    "spending_float      4\n",
    "dtype: int64\n",
    "```\n",
    "\n",
    "\n",
    "```python\n",
    "1- spending_df.isna()\n",
    "2- spending_df.isna().sum(axis=0)\n",
    "3- spending_df.isna().sum(axis=1)\n",
    "4- spending_df.isna().shape\n",
    "```\n"
   ]
  },
  {
   "cell_type": "markdown",
   "id": "b3082088-38fb-4567-8c6d-eae0ffd3f919",
   "metadata": {},
   "source": [
    "#### 5. Assuming 'spending_df' is a DataFrame with columns including 'specialty' and 'spending', and 'nb_beneficiaries', the following code snippet is intended to normalize the 'spending' by 'nb_beneficiaries' (i.e., calculate 'spending' / 'nb_beneficiaries') specifically for entries where the 'specialty' is \"INTERNAL MEDICINE\". Given that 'spending_df' has a shape of (54, 6) and there are 13 entries with the specialty \"INTERNAL MEDICINE\" what does the following snippet return?\n",
    "\n",
    "```python\n",
    "type(spending_df[\"spending_float\"][internal_med_filter] / spending_df[\"nb_beneficiaries\"])\n",
    "```\n",
    "\n",
    "```python\n",
    "1- Error!\n",
    "2- Series with a dimension of (54, 6)\n",
    "3- Series with a dimension of (13, )\n",
    "4- Series with a dimension of (1, 6)\n",
    "```"
   ]
  },
  {
   "cell_type": "markdown",
   "id": "63a47aba-87e4-4973-bc77-52c6366126e6",
   "metadata": {},
   "source": [
    "#### 6. Which of the following code snippets can be used to __**filter out**__ instances where `specialty` is \"INTERNAL MEDICINE\" and `nb_beneficiaries` is greater than or equal to 12?\n",
    "\n",
    "\n",
    "```python\n",
    "1- spending_df[not (spending_df[\"specialty\"] == \"INTERNAL MEDICINE\") and  (spending_df[\"nb_beneficiaries\"] >= 12)]\n",
    "1- spending_df[(spending_df[\"specialty\"] == \"INTERNAL MEDICINE\") and  (spending_df[\"nb_beneficiaries\"] >= 12)]\n",
    "3- spending_df[~((spending_df[\"specialty\"] == \"INTERNAL MEDICINE\") &  (spending_df[\"nb_beneficiaries\"] >= 12))]\n",
    "4- spending_df[(spending_df[\"specialty\"] != \"INTERNAL MEDICINE\") &  (spending_df[\"nb_beneficiaries\"] >= 12)]\n",
    "```\n",
    "\n",
    "\n"
   ]
  },
  {
   "cell_type": "markdown",
   "id": "51301795-17a5-4023-bb21-a3e2c21b00eb",
   "metadata": {},
   "source": [
    "#### 7. Which of the following snippets returns the number of rows where `nb_beneficiaries` is greater than 100?\n",
    "\n",
    "```python\n",
    "1- (spending_df['nb_beneficiaries'] > 100).sum()\n",
    "2- spending_df['nb_beneficiaries'] > 100\n",
    "3- spending_df[(spending_df['nb_beneficiaries'] > 100)].shape[0]\n",
    "4- (spending_df['nb_beneficiaries'] > 100).shape[0]\n",
    "```"
   ]
  },
  {
   "attachments": {},
   "cell_type": "markdown",
   "id": "cff440d3-61b1-4840-8396-ddc985c727a4",
   "metadata": {},
   "source": [
    "#### 8. Consider the the two following DataFrames:\n",
    "```python\n",
    "first_df  = pd.DataFrame({\"A\": [1, 2, 3, 4, 5]})\n",
    "second_df =  pd.DataFrame({\"A\": [1, 2, 3, 4, 5]}, index= [f\"row_{i}\" for i in range(5)])\n",
    "```\n",
    "\n",
    "![image.png](attachment:03926fcb-9bcb-45b1-a967-43f47ba87064.png)\n",
    "\n",
    "\n",
    "What does the following snippet return? \n",
    "\n",
    "```python\n",
    "(first_df[\"A\"] + second_df[\"A\"]).shape\n",
    "```\n",
    "\n",
    "```python\n",
    "1- (10,)\n",
    "2- (5,)\n",
    "3- (5,2)\n",
    "4- Error\n",
    "```"
   ]
  },
  {
   "cell_type": "code",
   "execution_count": null,
   "id": "fe176673",
   "metadata": {},
   "outputs": [],
   "source": []
  },
  {
   "cell_type": "code",
   "execution_count": null,
   "id": "e5e59749",
   "metadata": {},
   "outputs": [],
   "source": []
  }
 ],
 "metadata": {
  "kernelspec": {
   "display_name": "Python 3 (ipykernel)",
   "language": "python",
   "name": "python3"
  },
  "language_info": {
   "codemirror_mode": {
    "name": "ipython",
    "version": 3
   },
   "file_extension": ".py",
   "mimetype": "text/x-python",
   "name": "python",
   "nbconvert_exporter": "python",
   "pygments_lexer": "ipython3",
   "version": "3.9.16"
  }
 },
 "nbformat": 4,
 "nbformat_minor": 5
}
